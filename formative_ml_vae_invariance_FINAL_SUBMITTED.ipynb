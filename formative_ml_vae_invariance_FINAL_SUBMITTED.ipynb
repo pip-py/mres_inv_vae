{
 "cells": [
  {
   "cell_type": "markdown",
   "id": "2458d586-dd33-4efd-88e0-1909ac091476",
   "metadata": {},
   "source": [
    "## 999. Set Libraries and dependencies"
   ]
  },
  {
   "cell_type": "code",
   "execution_count": null,
   "id": "ae2a775b-cd05-4f93-bcfc-f2d2983d62ec",
   "metadata": {
    "tags": []
   },
   "outputs": [],
   "source": [
    "#!pip install torch"
   ]
  },
  {
   "cell_type": "code",
   "execution_count": null,
   "id": "3fd4cded-63b6-4277-a888-32db1e6a2ff3",
   "metadata": {
    "tags": []
   },
   "outputs": [],
   "source": [
    "#!pip install torchvision"
   ]
  },
  {
   "cell_type": "code",
   "execution_count": 1,
   "id": "726ca8c9-ca88-4688-965d-20b1a839f962",
   "metadata": {
    "tags": []
   },
   "outputs": [],
   "source": [
    "import torch; torch.manual_seed(0)\n",
    "from torchvision import transforms\n",
    "import torch.nn as nn\n",
    "import torch.nn.functional as F\n",
    "import torch.utils\n",
    "import torch.distributions\n",
    "import torchvision\n",
    "import numpy as np\n",
    "import matplotlib.pyplot as plt; plt.rcParams['figure.dpi'] = 200"
   ]
  },
  {
   "cell_type": "code",
   "execution_count": 2,
   "id": "067a0595-0ff9-44a4-99f4-64a29a9d6218",
   "metadata": {
    "tags": []
   },
   "outputs": [
    {
     "data": {
      "text/plain": [
       "'2.5.0+cu124'"
      ]
     },
     "execution_count": 2,
     "metadata": {},
     "output_type": "execute_result"
    }
   ],
   "source": [
    "torch.__version__"
   ]
  },
  {
   "cell_type": "code",
   "execution_count": 3,
   "id": "94068df2-330b-4afa-9a2b-42f5d4521d62",
   "metadata": {
    "tags": []
   },
   "outputs": [
    {
     "data": {
      "text/plain": [
       "'12.4'"
      ]
     },
     "execution_count": 3,
     "metadata": {},
     "output_type": "execute_result"
    }
   ],
   "source": [
    "torch.version.cuda"
   ]
  },
  {
   "cell_type": "code",
   "execution_count": 4,
   "id": "eeba0227-e183-43a4-9178-572cdef5b1b3",
   "metadata": {
    "tags": []
   },
   "outputs": [
    {
     "data": {
      "text/plain": [
       "True"
      ]
     },
     "execution_count": 4,
     "metadata": {},
     "output_type": "execute_result"
    }
   ],
   "source": [
    "torch.cuda.is_available()"
   ]
  },
  {
   "cell_type": "code",
   "execution_count": 5,
   "id": "b5b4b417-3e11-49b0-a190-f04ae59abdc9",
   "metadata": {
    "tags": []
   },
   "outputs": [],
   "source": [
    "device = 'cuda' if torch.cuda.is_available() else 'cpu'"
   ]
  },
  {
   "cell_type": "code",
   "execution_count": 6,
   "id": "84db9551-3bfa-4d9b-9da7-c4749d2e8790",
   "metadata": {
    "tags": []
   },
   "outputs": [
    {
     "data": {
      "text/plain": [
       "tensor([0.], device='cuda:0')"
      ]
     },
     "execution_count": 6,
     "metadata": {},
     "output_type": "execute_result"
    }
   ],
   "source": [
    "torch.zeros(1).cuda()"
   ]
  },
  {
   "cell_type": "code",
   "execution_count": null,
   "id": "7d6b68e7-0186-4fb9-85ba-0e3021dc1e20",
   "metadata": {},
   "outputs": [],
   "source": []
  },
  {
   "cell_type": "code",
   "execution_count": 7,
   "id": "444f8809-420c-4127-b865-e8abf38fd10b",
   "metadata": {
    "tags": []
   },
   "outputs": [],
   "source": [
    "## Playing with MNIST first"
   ]
  },
  {
   "cell_type": "markdown",
   "id": "ec275040-c34e-4be9-8636-260a7c706873",
   "metadata": {},
   "source": [
    "# 1. Get Data"
   ]
  },
  {
   "cell_type": "code",
   "execution_count": 144,
   "id": "fd53f8da-a196-4f38-8e7e-988ade2a474d",
   "metadata": {
    "tags": []
   },
   "outputs": [],
   "source": [
    "#from torchvision import transforms\n",
    "def train_test_data(rot_l,rot_u,scale_l,scale_u):\n",
    "    train_transforms = transforms.Compose(\n",
    "        [transforms.RandomAffine(degrees=(rot_l,rot_u),scale =(scale_l,scale_u)),\n",
    "         transforms.ToTensor()\n",
    "         ,torchvision.transforms.Normalize((0.1307,), (0.3081,))\n",
    "         #,transforms.Normalize(mean=(0.5,), std=(0.5,))]\n",
    "        ])\n",
    "\n",
    "    # you can use the same root, since the data is the same\n",
    "    augmented_data = torch.utils.data.DataLoader(torchvision.datasets.MNIST(root='MNIST_data/',  \n",
    "                                            train=True,\n",
    "                                            transform=train_transforms,\n",
    "                                            download=True),\n",
    "            batch_size=128)\n",
    "\n",
    "\n",
    "    augmented_test_data = torch.utils.data.DataLoader(torchvision.datasets.MNIST(root='MNIST_data/',  \n",
    "                                            train=False,\n",
    "                                            transform=train_transforms,\n",
    "                                            download=True),\n",
    "            batch_size=128)\n",
    "\n",
    "    return augmented_data, augmented_test_data\n",
    "\n",
    "\n",
    "mnist_s, test_mnist_s = train_test_data(0,0,1,1)\n",
    "mnist_fr, test_mnist_fr = train_test_data(20,20,1,1)\n",
    "mnist_fs, test_mnist_fs = train_test_data(0,0,1.1,1.1)\n",
    "mnist_rt, test_mnist_rt = train_test_data(-20,20,0.9,1.1)\n",
    "#mnist_rt2, test_mnist_rt2 = train_test_data(-20,20,0.9,1.1)"
   ]
  },
  {
   "cell_type": "code",
   "execution_count": null,
   "id": "51951d09-f46b-4034-8477-53fe172febb9",
   "metadata": {},
   "outputs": [],
   "source": []
  },
  {
   "cell_type": "code",
   "execution_count": null,
   "id": "3a7decbf-d002-4949-a426-491cc3ac5e00",
   "metadata": {
    "tags": []
   },
   "outputs": [],
   "source": []
  },
  {
   "cell_type": "code",
   "execution_count": 707,
   "id": "6bafd460-c051-463c-bdd3-788a051ca4bd",
   "metadata": {
    "tags": []
   },
   "outputs": [],
   "source": [
    "#for idx, (x, y) in enumerate(data):\n",
    "#    if idx == 0:\n",
    "#        plt.imshow(x[3][0], cmap='gray', interpolation='none')\n",
    "#        plt.colorbar()\n",
    "#        plt.show()\n",
    "        #print(x[0])"
   ]
  },
  {
   "cell_type": "code",
   "execution_count": null,
   "id": "7f8272a9-3c38-4e8f-800f-5d5190af9775",
   "metadata": {},
   "outputs": [],
   "source": []
  },
  {
   "cell_type": "code",
   "execution_count": 145,
   "id": "9d504188-8695-45af-ab52-32b0a7477da1",
   "metadata": {
    "tags": []
   },
   "outputs": [
    {
     "data": {
      "image/png": "[encoded data removed]",
      "text/plain": [
       "<Figure size 1280x960 with 6 Axes>"
      ]
     },
     "metadata": {},
     "output_type": "display_data"
    }
   ],
   "source": [
    "# Let's draw some of the training data\n",
    "examples = enumerate(mnist_s)\n",
    "batch_idx, (example_data, example_targets) = next(examples)\n",
    "\n",
    "fig = plt.figure()\n",
    "for i in range(6):\n",
    "  plt.subplot(2,3,i+1)\n",
    "  plt.tight_layout()\n",
    "  plt.imshow(example_data[i][0], cmap='gray', interpolation='none')\n",
    "  plt.title(\"Ground Truth: {}\".format(example_targets[i]))\n",
    "  plt.xticks([])\n",
    "  plt.yticks([])\n",
    "plt.show()"
   ]
  },
  {
   "cell_type": "code",
   "execution_count": 708,
   "id": "445f2929-3ba4-4dbc-8417-b960b40643a0",
   "metadata": {
    "tags": []
   },
   "outputs": [],
   "source": [
    "#plt.imshow(example_data[1][0], cmap='gray', interpolation='none')"
   ]
  },
  {
   "cell_type": "code",
   "execution_count": 671,
   "id": "ac27f9b8-6694-4809-94de-556655a7e435",
   "metadata": {
    "tags": []
   },
   "outputs": [],
   "source": [
    "#!pip install helpers"
   ]
  },
  {
   "cell_type": "code",
   "execution_count": 670,
   "id": "0594f9fe-e564-4c5e-9d28-b33f6e0f6f8a",
   "metadata": {
    "tags": []
   },
   "outputs": [],
   "source": [
    "#from helpers import plot"
   ]
  },
  {
   "cell_type": "code",
   "execution_count": 10,
   "id": "bf2ada66-a0eb-4f0b-84fc-a94061543360",
   "metadata": {
    "tags": []
   },
   "outputs": [
    {
     "ename": "NameError",
     "evalue": "name 'example_data' is not defined",
     "output_type": "error",
     "traceback": [
      "\u001b[0;31m---------------------------------------------------------------------------\u001b[0m",
      "\u001b[0;31mNameError\u001b[0m                                 Traceback (most recent call last)",
      "\u001b[0;32m/tmp/ipykernel_10994/1227594985.py\u001b[0m in \u001b[0;36m<module>\u001b[0;34m\u001b[0m\n\u001b[0;32m----> 1\u001b[0;31m \u001b[0morig_img\u001b[0m \u001b[0;34m=\u001b[0m \u001b[0mexample_data\u001b[0m\u001b[0;34m[\u001b[0m\u001b[0;36m9\u001b[0m\u001b[0;34m]\u001b[0m\u001b[0;34m\u001b[0m\u001b[0;34m\u001b[0m\u001b[0m\n\u001b[0m",
      "\u001b[0;31mNameError\u001b[0m: name 'example_data' is not defined"
     ]
    }
   ],
   "source": [
    "orig_img = example_data[9]"
   ]
  },
  {
   "cell_type": "code",
   "execution_count": 11,
   "id": "fa8234f0-3a62-40b4-968d-ae748a27cb02",
   "metadata": {
    "tags": []
   },
   "outputs": [
    {
     "ename": "NameError",
     "evalue": "name 'orig_img' is not defined",
     "output_type": "error",
     "traceback": [
      "\u001b[0;31m---------------------------------------------------------------------------\u001b[0m",
      "\u001b[0;31mNameError\u001b[0m                                 Traceback (most recent call last)",
      "\u001b[0;32m/tmp/ipykernel_10994/4037317320.py\u001b[0m in \u001b[0;36m<module>\u001b[0;34m\u001b[0m\n\u001b[1;32m      2\u001b[0m \u001b[0;32mfrom\u001b[0m \u001b[0mtorchvision\u001b[0m\u001b[0;34m.\u001b[0m\u001b[0mtransforms\u001b[0m \u001b[0;32mimport\u001b[0m \u001b[0mv2\u001b[0m\u001b[0;34m\u001b[0m\u001b[0;34m\u001b[0m\u001b[0m\n\u001b[1;32m      3\u001b[0m \u001b[0mrotater\u001b[0m \u001b[0;34m=\u001b[0m \u001b[0mv2\u001b[0m\u001b[0;34m.\u001b[0m\u001b[0mRandomAffine\u001b[0m\u001b[0;34m(\u001b[0m\u001b[0mdegrees\u001b[0m\u001b[0;34m=\u001b[0m\u001b[0;34m(\u001b[0m\u001b[0;34m-\u001b[0m\u001b[0;36m20\u001b[0m\u001b[0;34m,\u001b[0m \u001b[0;36m20\u001b[0m\u001b[0;34m)\u001b[0m\u001b[0;34m,\u001b[0m\u001b[0mscale\u001b[0m\u001b[0;34m=\u001b[0m\u001b[0;34m(\u001b[0m\u001b[0;36m0.8\u001b[0m\u001b[0;34m,\u001b[0m\u001b[0;36m1.2\u001b[0m\u001b[0;34m)\u001b[0m\u001b[0;34m)\u001b[0m\u001b[0;34m\u001b[0m\u001b[0;34m\u001b[0m\u001b[0m\n\u001b[0;32m----> 4\u001b[0;31m \u001b[0mrotated_imgs\u001b[0m \u001b[0;34m=\u001b[0m \u001b[0;34m[\u001b[0m\u001b[0mrotater\u001b[0m\u001b[0;34m(\u001b[0m\u001b[0morig_img\u001b[0m\u001b[0;34m)\u001b[0m \u001b[0;32mfor\u001b[0m \u001b[0m_\u001b[0m \u001b[0;32min\u001b[0m \u001b[0mrange\u001b[0m\u001b[0;34m(\u001b[0m\u001b[0;36m3\u001b[0m\u001b[0;34m)\u001b[0m\u001b[0;34m]\u001b[0m\u001b[0;34m\u001b[0m\u001b[0;34m\u001b[0m\u001b[0m\n\u001b[0m\u001b[1;32m      5\u001b[0m \u001b[0;34m\u001b[0m\u001b[0m\n\u001b[1;32m      6\u001b[0m \u001b[0;34m\u001b[0m\u001b[0m\n",
      "\u001b[0;32m/tmp/ipykernel_10994/4037317320.py\u001b[0m in \u001b[0;36m<listcomp>\u001b[0;34m(.0)\u001b[0m\n\u001b[1;32m      2\u001b[0m \u001b[0;32mfrom\u001b[0m \u001b[0mtorchvision\u001b[0m\u001b[0;34m.\u001b[0m\u001b[0mtransforms\u001b[0m \u001b[0;32mimport\u001b[0m \u001b[0mv2\u001b[0m\u001b[0;34m\u001b[0m\u001b[0;34m\u001b[0m\u001b[0m\n\u001b[1;32m      3\u001b[0m \u001b[0mrotater\u001b[0m \u001b[0;34m=\u001b[0m \u001b[0mv2\u001b[0m\u001b[0;34m.\u001b[0m\u001b[0mRandomAffine\u001b[0m\u001b[0;34m(\u001b[0m\u001b[0mdegrees\u001b[0m\u001b[0;34m=\u001b[0m\u001b[0;34m(\u001b[0m\u001b[0;34m-\u001b[0m\u001b[0;36m20\u001b[0m\u001b[0;34m,\u001b[0m \u001b[0;36m20\u001b[0m\u001b[0;34m)\u001b[0m\u001b[0;34m,\u001b[0m\u001b[0mscale\u001b[0m\u001b[0;34m=\u001b[0m\u001b[0;34m(\u001b[0m\u001b[0;36m0.8\u001b[0m\u001b[0;34m,\u001b[0m\u001b[0;36m1.2\u001b[0m\u001b[0;34m)\u001b[0m\u001b[0;34m)\u001b[0m\u001b[0;34m\u001b[0m\u001b[0;34m\u001b[0m\u001b[0m\n\u001b[0;32m----> 4\u001b[0;31m \u001b[0mrotated_imgs\u001b[0m \u001b[0;34m=\u001b[0m \u001b[0;34m[\u001b[0m\u001b[0mrotater\u001b[0m\u001b[0;34m(\u001b[0m\u001b[0morig_img\u001b[0m\u001b[0;34m)\u001b[0m \u001b[0;32mfor\u001b[0m \u001b[0m_\u001b[0m \u001b[0;32min\u001b[0m \u001b[0mrange\u001b[0m\u001b[0;34m(\u001b[0m\u001b[0;36m3\u001b[0m\u001b[0;34m)\u001b[0m\u001b[0;34m]\u001b[0m\u001b[0;34m\u001b[0m\u001b[0;34m\u001b[0m\u001b[0m\n\u001b[0m\u001b[1;32m      5\u001b[0m \u001b[0;34m\u001b[0m\u001b[0m\n\u001b[1;32m      6\u001b[0m \u001b[0;34m\u001b[0m\u001b[0m\n",
      "\u001b[0;31mNameError\u001b[0m: name 'orig_img' is not defined"
     ]
    }
   ],
   "source": [
    "# Transform MNIST data\n",
    "from torchvision.transforms import v2\n",
    "rotater = v2.RandomAffine(degrees=(-20, 20),scale=(0.8,1.2))\n",
    "rotated_imgs = [rotater(orig_img) for _ in range(3)]\n",
    "\n",
    "\n",
    "fig = plt.figure()\n",
    "for i,imgy in enumerate(rotated_imgs):\n",
    "  plt.subplot(2,3,i+1)\n",
    "  plt.tight_layout()\n",
    "  plt.imshow(orig_img[0], cmap='gray', interpolation='none')\n",
    "  #plt.imshow(example_data[i][0], cmap='Dark2', interpolation='none')\n",
    "  plt.imshow(imgy[0], cmap='gray', interpolation='none')\n",
    "  #plt.title(\"Ground Truth: {}\".format(example_targets[i]))\n",
    "  plt.xticks([])\n",
    "  plt.yticks([])\n",
    "\n",
    "plt.show()    \n",
    "#plot([orig_img] + rotated_imgs)\n"
   ]
  },
  {
   "cell_type": "code",
   "execution_count": null,
   "id": "73282254-b49b-451e-aa49-06d72713a5e9",
   "metadata": {},
   "outputs": [],
   "source": []
  },
  {
   "cell_type": "code",
   "execution_count": null,
   "id": "289da42b-1c6e-41ac-844c-3d648082ca68",
   "metadata": {
    "tags": []
   },
   "outputs": [],
   "source": []
  },
  {
   "cell_type": "code",
   "execution_count": 421,
   "id": "4c747834-a718-4eb1-b84b-4d82e2461523",
   "metadata": {
    "tags": []
   },
   "outputs": [],
   "source": []
  },
  {
   "cell_type": "code",
   "execution_count": null,
   "id": "76757574-657a-470a-8478-666b6f83d511",
   "metadata": {
    "tags": []
   },
   "outputs": [],
   "source": []
  },
  {
   "cell_type": "code",
   "execution_count": null,
   "id": "f8e53018-5296-4dea-bd87-731eb770e76e",
   "metadata": {
    "tags": []
   },
   "outputs": [],
   "source": []
  },
  {
   "cell_type": "code",
   "execution_count": null,
   "id": "b598971a-4b02-450a-88e3-024b2f3571c1",
   "metadata": {
    "tags": []
   },
   "outputs": [],
   "source": []
  },
  {
   "cell_type": "code",
   "execution_count": null,
   "id": "68da61f3-d5ee-41c4-9cf1-5188f5ea5c58",
   "metadata": {},
   "outputs": [],
   "source": []
  },
  {
   "cell_type": "code",
   "execution_count": 188,
   "id": "a44caed8-353f-4134-b51c-d10ee692d159",
   "metadata": {
    "tags": []
   },
   "outputs": [],
   "source": []
  },
  {
   "cell_type": "markdown",
   "id": "cee4abdb-4cc0-4f1c-821b-70e6c91981a3",
   "metadata": {},
   "source": [
    "# 1. Defining Model "
   ]
  },
  {
   "cell_type": "code",
   "execution_count": 11,
   "id": "e5bcfc5b-6eea-4d7b-bcdf-10815c62a151",
   "metadata": {},
   "outputs": [],
   "source": [
    "#torch.manual_seed(0) ###  for REPRODUCABILITY\n",
    "\n",
    "def seed_all(seed=0):\n",
    "    np.random.seed(seed)\n",
    "    torch.manual_seed(seed)\n",
    "    torch.backends.cudnn.deterministic = True\n",
    "    torch.backends.cudnn.benchmark = False\n",
    "    \n",
    "seed_all()"
   ]
  },
  {
   "cell_type": "code",
   "execution_count": 12,
   "id": "1bc7ff5a-c6ef-443d-bc08-a63beafc7996",
   "metadata": {
    "tags": []
   },
   "outputs": [],
   "source": [
    "class VariationalEncoder(nn.Module):\n",
    "    def __init__(self, latent_dims):\n",
    "        super(VariationalEncoder, self).__init__()\n",
    "        self.linear1 = nn.Linear(784, 512) ## previously 512 784-512\n",
    "        #self.linear1a = nn.Linear(512, 512)\n",
    "        \n",
    "        self.linear2 = nn.Linear(512, latent_dims) #512 og\n",
    "        self.linear3 = nn.Linear(512, latent_dims)\n",
    "        \n",
    "       # self.conv1 = nn.Conv2d(1, 2, kernel_size=3)\n",
    "        \n",
    "        #self.drop = nn.Dropout2d()\n",
    "      #  self.fc1 = nn.Linear(338, 512)\n",
    "        \n",
    "        self.N = torch.distributions.Normal(0, 1)\n",
    "        self.N.loc = self.N.loc.cuda() # hack to get sampling on the GPU\n",
    "        self.N.scale = self.N.scale.cuda()\n",
    "        self.kl = 0\n",
    "    \n",
    "    def forward(self, x):\n",
    "\n",
    "        \n",
    "        #x = self.conv1(x)\n",
    "        #x = self.drop(x)\n",
    "        #x = F.max_pool2d(x,2)\n",
    "        #x = F.relu(x)\n",
    "        #x = x.flatten(1)\n",
    "        \n",
    "        #x = self.fc1(x)\n",
    "        \n",
    "        x = torch.flatten(x, start_dim=1)\n",
    "        x = F.relu(self.linear1(x))\n",
    "        \n",
    "        #x = F.relu(self.linear1a(x))\n",
    "        mu =  self.linear2(x)\n",
    "        sigma = torch.exp(self.linear3(x))\n",
    "        z = mu + sigma*self.N.sample(mu.shape)\n",
    "        self.kl = (sigma**2 + mu**2 - torch.log(sigma) - 1/2).sum()\n",
    "        return z"
   ]
  },
  {
   "cell_type": "code",
   "execution_count": 13,
   "id": "7c11599a-9e28-4a5c-9020-cb277d89cad3",
   "metadata": {
    "tags": []
   },
   "outputs": [],
   "source": [
    "class VariationalAutoencoder(nn.Module):\n",
    "    def __init__(self, latent_dims):\n",
    "        super(VariationalAutoencoder, self).__init__()\n",
    "        self.encoder = VariationalEncoder(latent_dims)\n",
    "        self.decoder = Decoder(latent_dims)\n",
    "    \n",
    "    def forward(self, x):\n",
    "        z = self.encoder(x)\n",
    "        return self.decoder(z)"
   ]
  },
  {
   "cell_type": "code",
   "execution_count": 14,
   "id": "a1da5b05-a316-41cf-a6d9-d1c4039e0bfd",
   "metadata": {
    "tags": []
   },
   "outputs": [],
   "source": [
    "class Decoder(nn.Module):\n",
    "    def __init__(self, latent_dims):\n",
    "        super(Decoder, self).__init__()\n",
    "        self.linear1 = nn.Linear(latent_dims, 512)\n",
    "        self.linear2 = nn.Linear(512, 784)\n",
    "        \n",
    "    def forward(self, z):\n",
    "        z = F.relu(self.linear1(z))\n",
    "        z = torch.sigmoid(self.linear2(z))\n",
    "        return z.reshape((-1, 1, 28, 28))"
   ]
  },
  {
   "cell_type": "code",
   "execution_count": null,
   "id": "f9afc673-1d32-45ef-a254-b2c31a275acf",
   "metadata": {
    "tags": []
   },
   "outputs": [],
   "source": []
  },
  {
   "cell_type": "code",
   "execution_count": null,
   "id": "5d44ad42-445f-4c8c-a9db-8df771d92c12",
   "metadata": {
    "tags": []
   },
   "outputs": [],
   "source": []
  },
  {
   "cell_type": "code",
   "execution_count": 148,
   "id": "b395f46e-e8da-47d9-b747-fa6ac005fb63",
   "metadata": {
    "tags": []
   },
   "outputs": [],
   "source": [
    "#def train(autoencoder, nestdata, epochs=20): ## aug\n",
    "#    opt = torch.optim.Adam(autoencoder.parameters())\n",
    "#    for epoch in range(epochs):\n",
    "#        for data in nestdata:\n",
    "#            for x, y in data:\n",
    "#                x = x.to(device) # GPU\n",
    "#                opt.zero_grad()\n",
    "#                x_hat = autoencoder(x)\n",
    "#                loss = ((x - x_hat)**2).sum() + autoencoder.encoder.kl\n",
    "#                loss.backward()\n",
    "#                opt.step()\n",
    "#    return autoencoder\n",
    "\n",
    "def train(autoencoder, data, epochs=20):\n",
    "    opt = torch.optim.Adam(autoencoder.parameters())\n",
    "    for epoch in range(epochs):\n",
    "        for idx,(x, y) in enumerate(data):\n",
    "            if idx < 100000:\n",
    "                x = x.to(device) # GPU\n",
    "                opt.zero_grad()\n",
    "                x_hat = autoencoder(x)\n",
    "                loss = ((x - x_hat)**2).sum() + autoencoder.encoder.kl\n",
    "                loss.backward()\n",
    "                opt.step()\n",
    "    return autoencoder"
   ]
  },
  {
   "cell_type": "code",
   "execution_count": 16,
   "id": "1073422d-2cbf-484b-89a1-54d4cfb31467",
   "metadata": {
    "tags": []
   },
   "outputs": [],
   "source": [
    "#vae = VariationalAutoencoder(latent_dims).to(device) # GPU\n",
    "#vae = train(vae, augmented_data4)"
   ]
  },
  {
   "cell_type": "code",
   "execution_count": null,
   "id": "c792546e-d319-44f6-ae28-fcccf1c3f79d",
   "metadata": {
    "tags": []
   },
   "outputs": [],
   "source": []
  },
  {
   "cell_type": "code",
   "execution_count": 17,
   "id": "a949c2e6-cecd-480d-bf4c-33aea7c1dbe0",
   "metadata": {
    "tags": []
   },
   "outputs": [],
   "source": [
    "def plot_latent(autoencoder, data, num_batches=100):\n",
    "    for i, (x, y) in enumerate(data):\n",
    "        z = vae.encoder(x.to(device))\n",
    "        z = z.to('cpu').detach().numpy()\n",
    "        plt.scatter(z[:, 0], z[:, 1], c=y, cmap='tab10')\n",
    "        if i > num_batches:\n",
    "            plt.colorbar()\n",
    "            break"
   ]
  },
  {
   "cell_type": "code",
   "execution_count": 710,
   "id": "c5f2449d-25c6-4d4d-86ef-4b2816f3941c",
   "metadata": {
    "tags": []
   },
   "outputs": [],
   "source": [
    "#num_batches=100\n",
    "#for i, (x, y) in enumerate(data):\n",
    "#        z = vae.encoder(x.to(device))\n",
    "#        z = z.to('cpu').detach().numpy()\n",
    "#        plt.scatter(z[:, 0], z[:, 1], c=y, cmap='tab10')\n",
    "#        if i > num_batches:\n",
    "#            plt.colorbar()\n",
    "#            break"
   ]
  },
  {
   "cell_type": "code",
   "execution_count": 711,
   "id": "4ab99e61-23bc-47e7-8991-2b3b1024dea0",
   "metadata": {
    "tags": []
   },
   "outputs": [],
   "source": [
    "#z1 = [] \n",
    "#for i, (x, y) in enumerate(data):\n",
    "#    z = vae.encoder(x.to(device))\n",
    "#    k = vae.decoder(z)\n",
    "#    z = z.to('cpu').detach().numpy()\n",
    "#    z1.append(z)\n",
    "#    plt.scatter(z[:, 0], z[:, 1], c=y, cmap='tab10')"
   ]
  },
  {
   "cell_type": "code",
   "execution_count": 712,
   "id": "c65b2078-2930-4674-9d2c-e5fc97a2a011",
   "metadata": {
    "tags": []
   },
   "outputs": [],
   "source": [
    "#plot_latent(vae, data)"
   ]
  },
  {
   "cell_type": "code",
   "execution_count": null,
   "id": "9fb42deb-da2f-4451-ae56-4cd7f5bfd4d8",
   "metadata": {
    "tags": []
   },
   "outputs": [],
   "source": []
  },
  {
   "cell_type": "code",
   "execution_count": 17,
   "id": "1df16e52-a39c-48c1-8395-42d14e152f68",
   "metadata": {
    "tags": []
   },
   "outputs": [],
   "source": [
    "def plot_reconstructed(autoencoder, r0=(-10, 20), r1=(-20, 10), n=20):\n",
    "    w = 28\n",
    "    img = np.zeros((n*w, n*w))\n",
    "    for i, y in enumerate(np.linspace(*r1, n)):\n",
    "        for j, x in enumerate(np.linspace(*r0, n)):\n",
    "            z = torch.Tensor([[x, y]]).to(device)\n",
    "            x_hat = autoencoder.decoder(z)\n",
    "           \n",
    "            x_hat = x_hat.reshape(28, 28).to('cpu').detach().numpy()\n",
    "            img[(n-1-i)*w:(n-1-i+1)*w, j*w:(j+1)*w] = x_hat\n",
    "    plt.imshow(img, extent=[*r0, *r1])"
   ]
  },
  {
   "cell_type": "code",
   "execution_count": 18,
   "id": "1253ba62-cd28-4543-a5d7-fad927a9d3d1",
   "metadata": {
    "tags": []
   },
   "outputs": [],
   "source": [
    "#plot_reconstructed(vae)"
   ]
  },
  {
   "cell_type": "code",
   "execution_count": 19,
   "id": "cd4df65b-0c99-45af-9618-bf3f94a0bca7",
   "metadata": {
    "tags": []
   },
   "outputs": [],
   "source": [
    "from PIL import Image\n",
    "\n",
    "def interpolate_gif(autoencoder, filename, x_1, x_2, n=30):\n",
    "    z_1 = autoencoder.encoder(x_1)\n",
    "    z_2 = autoencoder.encoder(x_2)\n",
    "    print(z_1,z_2)\n",
    "    #print(z)\n",
    "    z = torch.stack([z_1 + (z_2 - z_1)*t for t in np.linspace(0, 1, n)])\n",
    "    print(z)\n",
    "    interpolate_list = autoencoder.decoder(z)\n",
    "    interpolate_list = interpolate_list.to('cpu').detach().numpy()*255\n",
    "    \n",
    "    images_list = [Image.fromarray(img.reshape(28, 28)).resize((256, 256)) for img in interpolate_list]\n",
    "    images_list = images_list + images_list[::-1] # loop back beginning\n",
    "    \n",
    "    images_list[0].save(\n",
    "        f'{filename}.gif', \n",
    "        save_all=True, \n",
    "        append_images=images_list[1:],\n",
    "        loop=1)"
   ]
  },
  {
   "cell_type": "code",
   "execution_count": null,
   "id": "e360388a-28a7-47b5-ab02-492f3d96a5c6",
   "metadata": {
    "tags": []
   },
   "outputs": [],
   "source": []
  },
  {
   "cell_type": "code",
   "execution_count": 228,
   "id": "32800c0f-5e7d-4cd0-9bb9-5bdbb5f21856",
   "metadata": {
    "tags": []
   },
   "outputs": [],
   "source": [
    "dataiter = iter(data)\n",
    "#data2 = dataiter.next()"
   ]
  },
  {
   "cell_type": "code",
   "execution_count": 185,
   "id": "ab1cc660-1d5a-4760-b464-37e9b432a451",
   "metadata": {
    "tags": []
   },
   "outputs": [],
   "source": [
    "x, y = next(dataiter) # hack to grab a batch\n",
    "x_1 = x[y == 7][1].to(device) # find a 1\n",
    "x_2 = x[y == 7][2].to(device) # find a 0"
   ]
  },
  {
   "cell_type": "code",
   "execution_count": 186,
   "id": "d1f857a3-ad3b-4087-a7bc-942eb8738fa3",
   "metadata": {
    "tags": []
   },
   "outputs": [],
   "source": [
    "#x_1"
   ]
  },
  {
   "cell_type": "code",
   "execution_count": 714,
   "id": "6f0f97e9-24f6-4def-a0a5-a375f4199dee",
   "metadata": {
    "tags": []
   },
   "outputs": [],
   "source": [
    "#interpolate_gif(vae, \"vae\", x_1, x_2)"
   ]
  },
  {
   "cell_type": "markdown",
   "id": "b5dd9d64-5bcf-40c5-a2f8-9809515203f7",
   "metadata": {},
   "source": [
    "# Classification Task "
   ]
  },
  {
   "cell_type": "code",
   "execution_count": 232,
   "id": "c31980d5-452a-40dc-9a9c-e3254b27df9b",
   "metadata": {
    "tags": []
   },
   "outputs": [
    {
     "data": {
      "text/plain": [
       "28"
      ]
     },
     "execution_count": 232,
     "metadata": {},
     "output_type": "execute_result"
    }
   ],
   "source": []
  },
  {
   "cell_type": "code",
   "execution_count": 50,
   "id": "a70e6d4e-b1a8-4a95-a38c-2986cbde73b2",
   "metadata": {
    "tags": []
   },
   "outputs": [],
   "source": [
    "##latent_dims=10\n",
    "#vae = VariationalAutoencoder(latent_dims).to(device) # GPU\n",
    "#vae = train(vae, mnist_s)\n"
   ]
  },
  {
   "cell_type": "code",
   "execution_count": 638,
   "id": "183d0d02-3d47-4260-bc68-0f70028102ba",
   "metadata": {
    "tags": []
   },
   "outputs": [],
   "source": [
    "#for batch_idx, (data_a, target) in enumerate(data):\n",
    "#    #print(batch_idx)\n",
    "#    x_train = torch.tensor(vae.encoder(data_a.to(device)))\n",
    "    \n",
    "    "
   ]
  },
  {
   "cell_type": "code",
   "execution_count": null,
   "id": "c632938b-5ce3-4a41-98a1-6846987555b2",
   "metadata": {
    "tags": []
   },
   "outputs": [],
   "source": []
  },
  {
   "cell_type": "code",
   "execution_count": 18,
   "id": "f6f74f11-dc33-471d-b6ca-c8e0d76de02f",
   "metadata": {
    "tags": []
   },
   "outputs": [],
   "source": [
    "def get_latents(data):\n",
    "    \n",
    "    x_latents = []\n",
    "    y_list=[]\n",
    "\n",
    "    for x, y in data:\n",
    "\n",
    "        x = x.to(device) # GPU\n",
    "\n",
    "        z = vae.encoder(x)\n",
    "        x_latents.append(z)\n",
    "        y_list.append(y)\n",
    "\n",
    "    x_latent_data = torch.cat(x_latents)\n",
    "    y_train = torch.cat(y_list)\n",
    "    x_train = torch.tensor(x_latent_data)\n",
    "    return x_train, y_train\n",
    "\n",
    "#x_train, y_train = get_latents(mnist_s)\n",
    "#x_test, y_test = get_latents(test_mnist_s)\n",
    "#x_aug_test , y_aug_test = get_latents(augmented_test_data)\n"
   ]
  },
  {
   "cell_type": "code",
   "execution_count": 720,
   "id": "e313fcf3-c4d0-4402-a14b-9edad3cb1349",
   "metadata": {
    "tags": []
   },
   "outputs": [],
   "source": [
    "#y_train[:50]"
   ]
  },
  {
   "cell_type": "markdown",
   "id": "8e6caa45-9dac-4127-83c0-12668461fb36",
   "metadata": {},
   "source": [
    "### One-Hot Encoding"
   ]
  },
  {
   "cell_type": "code",
   "execution_count": 19,
   "id": "2cd0e68b-97a9-4dc7-a99b-9c8fbefb0282",
   "metadata": {
    "tags": []
   },
   "outputs": [],
   "source": [
    "#def oh_code(inp):\n",
    "#    return torch.nn.functional.one_hot(torch.tensor(inp).long(), num_classes=10)\n",
    "#\n",
    "#y_train_oh = torch.nn.functional.one_hot(torch.tensor(y_train).long(), num_classes=10)\n",
    "\n",
    "#y_test_oh = torch.nn.functional.one_hot(torch.tensor(y_test).long(), num_classes=10)\n",
    "#y_aug_test_oh = torch.nn.functional.one_hot(torch.tensor(y_aug_test).long(), num_classes=10)\n"
   ]
  },
  {
   "cell_type": "code",
   "execution_count": 149,
   "id": "d253056d-eb6e-4732-bb0f-695f4d4124af",
   "metadata": {
    "tags": []
   },
   "outputs": [],
   "source": [
    "#x_test.shape"
   ]
  },
  {
   "cell_type": "code",
   "execution_count": 20,
   "id": "e0f577c6-bb33-48a4-a660-7f424df86fc6",
   "metadata": {},
   "outputs": [],
   "source": [
    "def CrossEntropyLoss_oh(pred, labels):\n",
    "    return -torch.mean(torch.sum(labels*torch.log(pred), dim=1))"
   ]
  },
  {
   "cell_type": "code",
   "execution_count": 147,
   "id": "fe09a0d3-b5bb-4f1d-a926-843461e923c5",
   "metadata": {
    "tags": []
   },
   "outputs": [],
   "source": [
    "\n",
    "\n",
    "EPOCHS = 15000  # epochs\n",
    "ALPHA = 0.005  # learning rate\n",
    "BATCH = 100    # batch size\n",
    "\n",
    "def log_reg_model(x_train,y_train_oh,x_test,y_test_oh,y_test,x_test2,y_test2,x_test3,y_test3,x_test4,y_test4):\n",
    "\n",
    "    # m is the number of examples\n",
    "    # n_x is the input size 28x28=784\n",
    "    m, n_x = x_train.shape\n",
    "    print(m,n_x)\n",
    "    # model\n",
    "    Z = torch.nn.Linear(n_x, 10, bias=True).to(device)\n",
    "    torch.nn.init.zeros_(Z.weight)\n",
    "    torch.nn.init.zeros_(Z.bias)\n",
    "    A = torch.nn.Softmax(dim=1).to(device)\n",
    "\n",
    "    # training graph and optimization\n",
    "    optimizer = torch.optim.SGD(Z.parameters(), lr=ALPHA)\n",
    "    #Z.parameters()\n",
    "    #model.to(device)\n",
    "    x_train = x_train.to(device)\n",
    "    y_train_oh = y_train_oh.to(device)\n",
    "    x_test = x_test.to(device)\n",
    "    y_test_oh = y_test_oh.to(device)\n",
    "    # Then move your optimizer to the same device as well\n",
    "    #optimizer = torch.optim.SGD(Z.parameters(), lr=ALPHA).to(device)\n",
    "\n",
    "    # loss and accuracy storage\n",
    "    loss_plot = []; accA_plot = [];classacc_plot = []\n",
    "\n",
    "    for epoch in range(EPOCHS + 1):\n",
    "        # randomic batch definition\n",
    "        # rbatch = np.random.choice(60000, size=BATCH)\n",
    "        # variables initialization\n",
    "        for chunk in range(0,60000,10000):\n",
    "\n",
    "            X = torch.autograd.Variable(x_train[chunk:chunk+10000])\n",
    "            Y = torch.autograd.Variable(y_train_oh[chunk:chunk+10000])\n",
    "        #X = torch.autograd.Variable(x_train)\n",
    "        #Y = torch.autograd.Variable(y_train_oh)\n",
    "        #print(len(X),len(Y))\n",
    "        #print(X)\n",
    "        #print(Y)\n",
    "        # training, metrics and storage\n",
    "            optimizer.zero_grad()\n",
    "            #print(A(Z(X)))\n",
    "            L = CrossEntropyLoss_oh(A(Z(X)), Y)\n",
    "            L.backward()\n",
    "            optimizer.step()\n",
    "\n",
    "        X_ = torch.autograd.Variable(x_test)\n",
    "        Y_ = torch.autograd.Variable(y_test_oh)\n",
    "\n",
    "        acc = torch.mean(1 - torch.abs(Y_ - A(Z(X_))))*100\n",
    "\n",
    "\n",
    "\n",
    "\n",
    "        #acc = torch.mean(1 - torch.abs(Y - A(Z(X))))*100\n",
    "        #print(acc)\n",
    "        #loss_plot += [L]; accA_plot += [acc]\n",
    "        if (not epoch % 1000) and (epoch != 0):\n",
    "                counter=0\n",
    "                counter_aug = 0 \n",
    "                for item in torch.argmax(A(Z(x_test.to(device))),1)==y_test.to(device):\n",
    "                    if item==torch.tensor(True):\n",
    "                        counter += 1\n",
    "                \n",
    "                COUNTY2=0\n",
    "    \n",
    "                for item in torch.argmax(A(Z(x_test2.to(device))),1)==y_test2.to(device):\n",
    "                                if item==torch.tensor(True):\n",
    "                                    COUNTY2 += 1\n",
    "                #print(COUNTY2, \"here\")\n",
    "                \n",
    "                COUNTY3 = 0 \n",
    "                for item in torch.argmax(A(Z(x_test3.to(device))),1)==y_test3.to(device):\n",
    "                                if item==torch.tensor(True):\n",
    "                                    COUNTY3 += 1\n",
    "                #print(COUNTY3, \"now here\")\n",
    "                \n",
    "                \n",
    "                COUNTY4 = 0 \n",
    "                for item in torch.argmax(A(Z(x_test4.to(device))),1)==y_test4.to(device):\n",
    "                                if item==torch.tensor(True):\n",
    "                                    COUNTY4 += 1\n",
    "                #print(COUNTY4, \"now herey\")\n",
    "                #for item in torch.argmax(A(Z(x_aug_test.to(device))),1)==y_aug_test.to(device):\n",
    "                #    if item==torch.tensor(True):\n",
    "                #        counter_aug += 1\n",
    "                #for item in torch.argmax(A(Z(x_test.to(device))),1)==y_test.to(device):\n",
    "                #    if item==torch.tensor(True):\n",
    "                #        counter += 1\n",
    "\n",
    "                acc2=counter/len(y_test) # s\n",
    "                acc_fr=COUNTY2/len(y_test) # s\n",
    "                acc_fs=COUNTY3/len(y_test) # s\n",
    "                acc_rt=COUNTY4/len(y_test) # s\n",
    "                \n",
    "                acc_aug = counter_aug / len(y_test)\n",
    "                classacc_plot += [counter]\n",
    "                print('epoch: {0:04d} | loss: {1:.3f} | accuracy: {2:06.2f} % | accuracy2: {3: } | acc_aug: {4: } '.format(epoch, L, acc,acc2,acc_aug) )\n",
    "    return acc2, acc_fr,acc_fs,acc_rt\n",
    "\n",
    "#a1,a2 = log_reg_model(x_train,y_train_oh,x_test,y_test_oh,y_test)\n",
    "#W_ = Z.cpu().weight.detach().numpy()\n",
    "#B_ = Z.bias.detach().numpy()"
   ]
  },
  {
   "cell_type": "code",
   "execution_count": 139,
   "id": "307c6717-f977-4902-b9d7-0ba442c4e6db",
   "metadata": {},
   "outputs": [],
   "source": [
    "#Evaluation Protocol\n",
    "#x_train, y_train = get_latents(mnist_s)\n",
    "#x_test, y_test = get_latents(test_mnist_s)\n",
    "\n",
    "\n",
    "   "
   ]
  },
  {
   "cell_type": "code",
   "execution_count": null,
   "id": "424453be-96df-416b-85da-60d07cc8dcda",
   "metadata": {
    "tags": []
   },
   "outputs": [],
   "source": []
  },
  {
   "cell_type": "markdown",
   "id": "51852775-7c63-423c-93f5-79d0d90d6206",
   "metadata": {},
   "source": [
    "# 10 Latents MNIST-s"
   ]
  },
  {
   "cell_type": "code",
   "execution_count": 149,
   "id": "c985f48d-15fb-4da2-a38c-1c78bce801d1",
   "metadata": {
    "tags": []
   },
   "outputs": [
    {
     "name": "stderr",
     "output_type": "stream",
     "text": [
      "/tmp/ipykernel_11114/2988415686.py:16: UserWarning: To copy construct from a tensor, it is recommended to use sourceTensor.clone().detach() or sourceTensor.clone().detach().requires_grad_(True), rather than torch.tensor(sourceTensor).\n",
      "  x_train = torch.tensor(x_latent_data)\n",
      "/tmp/ipykernel_11114/2310415253.py:5: UserWarning: To copy construct from a tensor, it is recommended to use sourceTensor.clone().detach() or sourceTensor.clone().detach().requires_grad_(True), rather than torch.tensor(sourceTensor).\n",
      "  y_test_s_oh = torch.nn.functional.one_hot(torch.tensor(y_test_s).long(), num_classes=10)\n",
      "/tmp/ipykernel_11114/2310415253.py:8: UserWarning: To copy construct from a tensor, it is recommended to use sourceTensor.clone().detach() or sourceTensor.clone().detach().requires_grad_(True), rather than torch.tensor(sourceTensor).\n",
      "  y_test_fr_oh = torch.nn.functional.one_hot(torch.tensor(y_test_fr).long(), num_classes=10).clone().detach()\n",
      "/tmp/ipykernel_11114/2310415253.py:11: UserWarning: To copy construct from a tensor, it is recommended to use sourceTensor.clone().detach() or sourceTensor.clone().detach().requires_grad_(True), rather than torch.tensor(sourceTensor).\n",
      "  y_test_fs_oh = torch.nn.functional.one_hot(torch.tensor(y_test_fs).long(), num_classes=10).clone().detach()\n",
      "/tmp/ipykernel_11114/2310415253.py:14: UserWarning: To copy construct from a tensor, it is recommended to use sourceTensor.clone().detach() or sourceTensor.clone().detach().requires_grad_(True), rather than torch.tensor(sourceTensor).\n",
      "  y_test_rt_oh = torch.nn.functional.one_hot(torch.tensor(y_test_rt).long(), num_classes=10).clone().detach()\n",
      "/tmp/ipykernel_11114/2310415253.py:26: UserWarning: To copy construct from a tensor, it is recommended to use sourceTensor.clone().detach() or sourceTensor.clone().detach().requires_grad_(True), rather than torch.tensor(sourceTensor).\n",
      "  y_train_s_oh = torch.nn.functional.one_hot(torch.tensor(y_train_s).long(), num_classes=10)\n"
     ]
    },
    {
     "name": "stdout",
     "output_type": "stream",
     "text": [
      "60000 10\n",
      "epoch: 1000 | loss: 0.637 | accuracy: 091.67 % | accuracy2:  0.857 | acc_aug:  0.0 \n",
      "epoch: 2000 | loss: 0.506 | accuracy: 093.40 % | accuracy2:  0.8667 | acc_aug:  0.0 \n",
      "epoch: 3000 | loss: 0.458 | accuracy: 094.13 % | accuracy2:  0.8712 | acc_aug:  0.0 \n",
      "epoch: 4000 | loss: 0.433 | accuracy: 094.54 % | accuracy2:  0.8737 | acc_aug:  0.0 \n",
      "epoch: 5000 | loss: 0.418 | accuracy: 094.81 % | accuracy2:  0.8757 | acc_aug:  0.0 \n",
      "epoch: 6000 | loss: 0.407 | accuracy: 095.01 % | accuracy2:  0.876 | acc_aug:  0.0 \n",
      "epoch: 7000 | loss: 0.400 | accuracy: 095.16 % | accuracy2:  0.8777 | acc_aug:  0.0 \n",
      "epoch: 8000 | loss: 0.394 | accuracy: 095.27 % | accuracy2:  0.8783 | acc_aug:  0.0 \n",
      "epoch: 9000 | loss: 0.390 | accuracy: 095.37 % | accuracy2:  0.879 | acc_aug:  0.0 \n",
      "epoch: 10000 | loss: 0.386 | accuracy: 095.44 % | accuracy2:  0.8794 | acc_aug:  0.0 \n",
      "epoch: 11000 | loss: 0.383 | accuracy: 095.51 % | accuracy2:  0.8794 | acc_aug:  0.0 \n",
      "epoch: 12000 | loss: 0.381 | accuracy: 095.57 % | accuracy2:  0.8792 | acc_aug:  0.0 \n",
      "epoch: 13000 | loss: 0.379 | accuracy: 095.61 % | accuracy2:  0.8795 | acc_aug:  0.0 \n",
      "epoch: 14000 | loss: 0.377 | accuracy: 095.66 % | accuracy2:  0.8801 | acc_aug:  0.0 \n",
      "epoch: 15000 | loss: 0.376 | accuracy: 095.69 % | accuracy2:  0.8799 | acc_aug:  0.0 \n",
      "latents:  10  s:  0.8799  fr:  0.6846  fs:  0.8228  rt:  0.8067\n"
     ]
    }
   ],
   "source": [
    "\n",
    "vae = VariationalAutoencoder(10).to(device) # GPU\n",
    "vae = train(vae, mnist_s)\n",
    "\n",
    "x_test_s, y_test_s = get_latents(test_mnist_s)\n",
    "y_test_s_oh = torch.nn.functional.one_hot(torch.tensor(y_test_s).long(), num_classes=10)\n",
    "\n",
    "x_test_fr, y_test_fr = get_latents(test_mnist_fr)\n",
    "y_test_fr_oh = torch.nn.functional.one_hot(torch.tensor(y_test_fr).long(), num_classes=10).clone().detach()\n",
    "\n",
    "x_test_fs, y_test_fs = get_latents(test_mnist_fs)\n",
    "y_test_fs_oh = torch.nn.functional.one_hot(torch.tensor(y_test_fs).long(), num_classes=10).clone().detach()\n",
    "\n",
    "x_test_rt, y_test_rt = get_latents(test_mnist_rt)\n",
    "y_test_rt_oh = torch.nn.functional.one_hot(torch.tensor(y_test_rt).long(), num_classes=10).clone().detach()\n",
    "\n",
    "#x_test_fr, y_test_fr = get_latents(testingdata2)\n",
    "#x_test_fs, y_test_fs = get_latents(testingdata3)\n",
    "#x_test_rt, y_test_rt = get_latents(testingdata4)\n",
    "#,\n",
    "# LOG REG \n",
    "#acc1, acc2 = log_reg_model(x_train_s,y_train_s_oh,x_test_s,y_test_s_oh)\n",
    "#print(acc1, acc2)\n",
    "\n",
    "\n",
    "x_train_s, y_train_s = get_latents(mnist_s)\n",
    "y_train_s_oh = torch.nn.functional.one_hot(torch.tensor(y_train_s).long(), num_classes=10)\n",
    "\n",
    "\n",
    "\n",
    "ten_acc2, ten_acc_fr,ten_acc_fs,ten_acc_rt  = log_reg_model(x_train_s,y_train_s_oh\n",
    "                           ,x_test_s,y_test_s_oh,y_test_s\n",
    "                           ,x_test_fr,y_test_fr\n",
    "                          ,x_test_fs,y_test_fs\n",
    "                          ,x_test_rt,y_test_rt)   \n",
    "\n",
    "latents,acc2,acc_fr,acc_fs, acc_rt = 10, ten_acc2, ten_acc_fr,ten_acc_fs,ten_acc_rt\n",
    "print('latents: ',latents,' s: ',acc2,' fr: ', acc_fr,' fs: ', acc_fs,' rt: ',acc_rt)\n",
    "    "
   ]
  },
  {
   "cell_type": "markdown",
   "id": "46838046-2f95-4e31-8956-fb3e3594c413",
   "metadata": {},
   "source": [
    "# 20 latents mnist-s"
   ]
  },
  {
   "cell_type": "code",
   "execution_count": 150,
   "id": "a8c1dfb6-2a7e-416e-8bff-972d39446106",
   "metadata": {
    "tags": []
   },
   "outputs": [
    {
     "name": "stderr",
     "output_type": "stream",
     "text": [
      "/tmp/ipykernel_11114/2988415686.py:16: UserWarning: To copy construct from a tensor, it is recommended to use sourceTensor.clone().detach() or sourceTensor.clone().detach().requires_grad_(True), rather than torch.tensor(sourceTensor).\n",
      "  x_train = torch.tensor(x_latent_data)\n",
      "/tmp/ipykernel_11114/2057030140.py:6: UserWarning: To copy construct from a tensor, it is recommended to use sourceTensor.clone().detach() or sourceTensor.clone().detach().requires_grad_(True), rather than torch.tensor(sourceTensor).\n",
      "  y_test_s_oh = torch.nn.functional.one_hot(torch.tensor(y_test_s).long(), num_classes=10)\n",
      "/tmp/ipykernel_11114/2057030140.py:9: UserWarning: To copy construct from a tensor, it is recommended to use sourceTensor.clone().detach() or sourceTensor.clone().detach().requires_grad_(True), rather than torch.tensor(sourceTensor).\n",
      "  y_test_fr_oh = torch.nn.functional.one_hot(torch.tensor(y_test_fr).long(), num_classes=10).clone().detach()\n",
      "/tmp/ipykernel_11114/2057030140.py:12: UserWarning: To copy construct from a tensor, it is recommended to use sourceTensor.clone().detach() or sourceTensor.clone().detach().requires_grad_(True), rather than torch.tensor(sourceTensor).\n",
      "  y_test_fs_oh = torch.nn.functional.one_hot(torch.tensor(y_test_fs).long(), num_classes=10).clone().detach()\n",
      "/tmp/ipykernel_11114/2057030140.py:15: UserWarning: To copy construct from a tensor, it is recommended to use sourceTensor.clone().detach() or sourceTensor.clone().detach().requires_grad_(True), rather than torch.tensor(sourceTensor).\n",
      "  y_test_rt_oh = torch.nn.functional.one_hot(torch.tensor(y_test_rt).long(), num_classes=10).clone().detach()\n",
      "/tmp/ipykernel_11114/2057030140.py:20: UserWarning: To copy construct from a tensor, it is recommended to use sourceTensor.clone().detach() or sourceTensor.clone().detach().requires_grad_(True), rather than torch.tensor(sourceTensor).\n",
      "  y_train_s_oh = torch.nn.functional.one_hot(torch.tensor(y_train_s).long(), num_classes=10)\n"
     ]
    },
    {
     "name": "stdout",
     "output_type": "stream",
     "text": [
      "60000 20\n",
      "epoch: 1000 | loss: 0.682 | accuracy: 091.42 % | accuracy2:  0.8282 | acc_aug:  0.0 \n",
      "epoch: 2000 | loss: 0.559 | accuracy: 093.08 % | accuracy2:  0.8379 | acc_aug:  0.0 \n",
      "epoch: 3000 | loss: 0.516 | accuracy: 093.75 % | accuracy2:  0.8436 | acc_aug:  0.0 \n",
      "epoch: 4000 | loss: 0.494 | accuracy: 094.12 % | accuracy2:  0.8468 | acc_aug:  0.0 \n",
      "epoch: 5000 | loss: 0.480 | accuracy: 094.36 % | accuracy2:  0.8488 | acc_aug:  0.0 \n",
      "epoch: 6000 | loss: 0.471 | accuracy: 094.53 % | accuracy2:  0.8505 | acc_aug:  0.0 \n",
      "epoch: 7000 | loss: 0.464 | accuracy: 094.66 % | accuracy2:  0.8515 | acc_aug:  0.0 \n",
      "epoch: 8000 | loss: 0.459 | accuracy: 094.76 % | accuracy2:  0.8524 | acc_aug:  0.0 \n",
      "epoch: 9000 | loss: 0.455 | accuracy: 094.84 % | accuracy2:  0.8539 | acc_aug:  0.0 \n",
      "epoch: 10000 | loss: 0.452 | accuracy: 094.91 % | accuracy2:  0.8544 | acc_aug:  0.0 \n",
      "epoch: 11000 | loss: 0.449 | accuracy: 094.97 % | accuracy2:  0.855 | acc_aug:  0.0 \n",
      "epoch: 12000 | loss: 0.447 | accuracy: 095.01 % | accuracy2:  0.8556 | acc_aug:  0.0 \n",
      "epoch: 13000 | loss: 0.445 | accuracy: 095.05 % | accuracy2:  0.8562 | acc_aug:  0.0 \n",
      "epoch: 14000 | loss: 0.444 | accuracy: 095.09 % | accuracy2:  0.8563 | acc_aug:  0.0 \n",
      "epoch: 15000 | loss: 0.443 | accuracy: 095.12 % | accuracy2:  0.8564 | acc_aug:  0.0 \n",
      "latents:  20  s:  0.8564  fr:  0.6721  fs:  0.7624  rt:  0.7713\n"
     ]
    }
   ],
   "source": [
    "#s:  0.7283  fr:  0.5842  fs:  0.6859  rt:  0.6536#  ##s:  0.8028  fr:  0.628  fs:  0.7088  rt:  0.7187\n",
    "vae = VariationalAutoencoder(20).to(device) # GPU\n",
    "vae = train(vae, mnist_s)\n",
    "\n",
    "x_test_s, y_test_s = get_latents(test_mnist_s)\n",
    "y_test_s_oh = torch.nn.functional.one_hot(torch.tensor(y_test_s).long(), num_classes=10)\n",
    "\n",
    "x_test_fr, y_test_fr = get_latents(test_mnist_fr)\n",
    "y_test_fr_oh = torch.nn.functional.one_hot(torch.tensor(y_test_fr).long(), num_classes=10).clone().detach()\n",
    "\n",
    "x_test_fs, y_test_fs = get_latents(test_mnist_fs)\n",
    "y_test_fs_oh = torch.nn.functional.one_hot(torch.tensor(y_test_fs).long(), num_classes=10).clone().detach()\n",
    "\n",
    "x_test_rt, y_test_rt = get_latents(test_mnist_rt)\n",
    "y_test_rt_oh = torch.nn.functional.one_hot(torch.tensor(y_test_rt).long(), num_classes=10).clone().detach()\n",
    "\n",
    "\n",
    "\n",
    "x_train_s, y_train_s = get_latents(mnist_s)\n",
    "y_train_s_oh = torch.nn.functional.one_hot(torch.tensor(y_train_s).long(), num_classes=10)\n",
    "\n",
    "\n",
    "\n",
    "twen_acc2, twen_acc_fr,twen_acc_fs,twen_acc_rt  = log_reg_model(x_train_s,y_train_s_oh\n",
    "                           ,x_test_s,y_test_s_oh,y_test_s\n",
    "                           ,x_test_fr,y_test_fr\n",
    "                          ,x_test_fs,y_test_fs\n",
    "                          ,x_test_rt,y_test_rt)   \n",
    "\n",
    "latents,acc2,acc_fr,acc_fs, acc_rt = 20,twen_acc2, twen_acc_fr,twen_acc_fs,twen_acc_rt\n",
    "print('latents: ',latents,' s: ',acc2,' fr: ', acc_fr,' fs: ', acc_fs,' rt: ',acc_rt)\n",
    "    \n",
    "    \n",
    "    \n"
   ]
  },
  {
   "cell_type": "markdown",
   "id": "951fcfc3-a645-4ab5-ab8a-b67f3f21ec9f",
   "metadata": {},
   "source": [
    "# 50 latents MNIST-S"
   ]
  },
  {
   "cell_type": "code",
   "execution_count": 151,
   "id": "d9a7bc4b-a245-4870-8fbc-ce2a540fb00f",
   "metadata": {
    "tags": []
   },
   "outputs": [
    {
     "name": "stderr",
     "output_type": "stream",
     "text": [
      "/tmp/ipykernel_11114/2988415686.py:16: UserWarning: To copy construct from a tensor, it is recommended to use sourceTensor.clone().detach() or sourceTensor.clone().detach().requires_grad_(True), rather than torch.tensor(sourceTensor).\n",
      "  x_train = torch.tensor(x_latent_data)\n",
      "/tmp/ipykernel_11114/2524278757.py:5: UserWarning: To copy construct from a tensor, it is recommended to use sourceTensor.clone().detach() or sourceTensor.clone().detach().requires_grad_(True), rather than torch.tensor(sourceTensor).\n",
      "  y_test_s_oh = torch.nn.functional.one_hot(torch.tensor(y_test_s).long(), num_classes=10)\n",
      "/tmp/ipykernel_11114/2524278757.py:8: UserWarning: To copy construct from a tensor, it is recommended to use sourceTensor.clone().detach() or sourceTensor.clone().detach().requires_grad_(True), rather than torch.tensor(sourceTensor).\n",
      "  y_test_fr_oh = torch.nn.functional.one_hot(torch.tensor(y_test_fr).long(), num_classes=10).clone().detach()\n",
      "/tmp/ipykernel_11114/2524278757.py:11: UserWarning: To copy construct from a tensor, it is recommended to use sourceTensor.clone().detach() or sourceTensor.clone().detach().requires_grad_(True), rather than torch.tensor(sourceTensor).\n",
      "  y_test_fs_oh = torch.nn.functional.one_hot(torch.tensor(y_test_fs).long(), num_classes=10).clone().detach()\n",
      "/tmp/ipykernel_11114/2524278757.py:14: UserWarning: To copy construct from a tensor, it is recommended to use sourceTensor.clone().detach() or sourceTensor.clone().detach().requires_grad_(True), rather than torch.tensor(sourceTensor).\n",
      "  y_test_rt_oh = torch.nn.functional.one_hot(torch.tensor(y_test_rt).long(), num_classes=10).clone().detach()\n",
      "/tmp/ipykernel_11114/2524278757.py:19: UserWarning: To copy construct from a tensor, it is recommended to use sourceTensor.clone().detach() or sourceTensor.clone().detach().requires_grad_(True), rather than torch.tensor(sourceTensor).\n",
      "  y_train_s_oh = torch.nn.functional.one_hot(torch.tensor(y_train_s).long(), num_classes=10)\n"
     ]
    },
    {
     "name": "stdout",
     "output_type": "stream",
     "text": [
      "60000 50\n",
      "epoch: 1000 | loss: 0.663 | accuracy: 091.62 % | accuracy2:  0.8298 | acc_aug:  0.0 \n",
      "epoch: 2000 | loss: 0.539 | accuracy: 093.28 % | accuracy2:  0.8397 | acc_aug:  0.0 \n",
      "epoch: 3000 | loss: 0.495 | accuracy: 093.94 % | accuracy2:  0.8432 | acc_aug:  0.0 \n",
      "epoch: 4000 | loss: 0.473 | accuracy: 094.31 % | accuracy2:  0.8465 | acc_aug:  0.0 \n",
      "epoch: 5000 | loss: 0.460 | accuracy: 094.55 % | accuracy2:  0.8485 | acc_aug:  0.0 \n",
      "epoch: 6000 | loss: 0.451 | accuracy: 094.72 % | accuracy2:  0.8495 | acc_aug:  0.0 \n",
      "epoch: 7000 | loss: 0.444 | accuracy: 094.84 % | accuracy2:  0.8507 | acc_aug:  0.0 \n",
      "epoch: 8000 | loss: 0.440 | accuracy: 094.94 % | accuracy2:  0.8523 | acc_aug:  0.0 \n",
      "epoch: 9000 | loss: 0.436 | accuracy: 095.02 % | accuracy2:  0.8528 | acc_aug:  0.0 \n",
      "epoch: 10000 | loss: 0.433 | accuracy: 095.08 % | accuracy2:  0.8529 | acc_aug:  0.0 \n",
      "epoch: 11000 | loss: 0.430 | accuracy: 095.14 % | accuracy2:  0.853 | acc_aug:  0.0 \n",
      "epoch: 12000 | loss: 0.428 | accuracy: 095.18 % | accuracy2:  0.8538 | acc_aug:  0.0 \n",
      "epoch: 13000 | loss: 0.426 | accuracy: 095.22 % | accuracy2:  0.8538 | acc_aug:  0.0 \n",
      "epoch: 14000 | loss: 0.425 | accuracy: 095.26 % | accuracy2:  0.8541 | acc_aug:  0.0 \n",
      "epoch: 15000 | loss: 0.424 | accuracy: 095.29 % | accuracy2:  0.8547 | acc_aug:  0.0 \n",
      "latents:  50  s:  0.8547  fr:  0.6739  fs:  0.7737  rt:  0.7837\n"
     ]
    }
   ],
   "source": [
    "\n",
    "vae = VariationalAutoencoder(50).to(device) # GPU\n",
    "vae = train(vae, mnist_s)\n",
    "\n",
    "x_test_s, y_test_s = get_latents(test_mnist_s)\n",
    "y_test_s_oh = torch.nn.functional.one_hot(torch.tensor(y_test_s).long(), num_classes=10)\n",
    "\n",
    "x_test_fr, y_test_fr = get_latents(test_mnist_fr)\n",
    "y_test_fr_oh = torch.nn.functional.one_hot(torch.tensor(y_test_fr).long(), num_classes=10).clone().detach()\n",
    "\n",
    "x_test_fs, y_test_fs = get_latents(test_mnist_fs)\n",
    "y_test_fs_oh = torch.nn.functional.one_hot(torch.tensor(y_test_fs).long(), num_classes=10).clone().detach()\n",
    "\n",
    "x_test_rt, y_test_rt = get_latents(test_mnist_rt)\n",
    "y_test_rt_oh = torch.nn.functional.one_hot(torch.tensor(y_test_rt).long(), num_classes=10).clone().detach()\n",
    "\n",
    "\n",
    "\n",
    "x_train_s, y_train_s = get_latents(mnist_s)\n",
    "y_train_s_oh = torch.nn.functional.one_hot(torch.tensor(y_train_s).long(), num_classes=10)\n",
    "\n",
    "\n",
    "\n",
    "fifty_acc2, fifty_acc_fr,fifty_acc_fs,fifty_acc_rt  = log_reg_model(x_train_s,y_train_s_oh\n",
    "                           ,x_test_s,y_test_s_oh,y_test_s\n",
    "                           ,x_test_fr,y_test_fr\n",
    "                          ,x_test_fs,y_test_fs\n",
    "                          ,x_test_rt,y_test_rt)   \n",
    "\n",
    "latents,acc2,acc_fr,acc_fs, acc_rt = 50,fifty_acc2, fifty_acc_fr,fifty_acc_fs,fifty_acc_rt\n",
    "print('latents: ',latents,' s: ',acc2,' fr: ', acc_fr,' fs: ', acc_fs,' rt: ',acc_rt)\n",
    "    \n",
    "    \n",
    "\n"
   ]
  },
  {
   "cell_type": "code",
   "execution_count": 152,
   "id": "7571da6c-8fe6-4431-86d4-ee6dbfde557c",
   "metadata": {
    "tags": []
   },
   "outputs": [
    {
     "name": "stderr",
     "output_type": "stream",
     "text": [
      "/tmp/ipykernel_11114/2988415686.py:16: UserWarning: To copy construct from a tensor, it is recommended to use sourceTensor.clone().detach() or sourceTensor.clone().detach().requires_grad_(True), rather than torch.tensor(sourceTensor).\n",
      "  x_train = torch.tensor(x_latent_data)\n",
      "/tmp/ipykernel_11114/1875109772.py:5: UserWarning: To copy construct from a tensor, it is recommended to use sourceTensor.clone().detach() or sourceTensor.clone().detach().requires_grad_(True), rather than torch.tensor(sourceTensor).\n",
      "  y_test_s_oh = torch.nn.functional.one_hot(torch.tensor(y_test_s).long(), num_classes=10)\n",
      "/tmp/ipykernel_11114/1875109772.py:8: UserWarning: To copy construct from a tensor, it is recommended to use sourceTensor.clone().detach() or sourceTensor.clone().detach().requires_grad_(True), rather than torch.tensor(sourceTensor).\n",
      "  y_test_fr_oh = torch.nn.functional.one_hot(torch.tensor(y_test_fr).long(), num_classes=10).clone().detach()\n",
      "/tmp/ipykernel_11114/1875109772.py:11: UserWarning: To copy construct from a tensor, it is recommended to use sourceTensor.clone().detach() or sourceTensor.clone().detach().requires_grad_(True), rather than torch.tensor(sourceTensor).\n",
      "  y_test_fs_oh = torch.nn.functional.one_hot(torch.tensor(y_test_fs).long(), num_classes=10).clone().detach()\n",
      "/tmp/ipykernel_11114/1875109772.py:14: UserWarning: To copy construct from a tensor, it is recommended to use sourceTensor.clone().detach() or sourceTensor.clone().detach().requires_grad_(True), rather than torch.tensor(sourceTensor).\n",
      "  y_test_rt_oh = torch.nn.functional.one_hot(torch.tensor(y_test_rt).long(), num_classes=10).clone().detach()\n",
      "/tmp/ipykernel_11114/1875109772.py:19: UserWarning: To copy construct from a tensor, it is recommended to use sourceTensor.clone().detach() or sourceTensor.clone().detach().requires_grad_(True), rather than torch.tensor(sourceTensor).\n",
      "  y_train_s_oh = torch.nn.functional.one_hot(torch.tensor(y_train_s).long(), num_classes=10)\n"
     ]
    },
    {
     "name": "stdout",
     "output_type": "stream",
     "text": [
      "60000 100\n",
      "epoch: 1000 | loss: 0.674 | accuracy: 091.45 % | accuracy2:  0.8235 | acc_aug:  0.0 \n",
      "epoch: 2000 | loss: 0.545 | accuracy: 093.13 % | accuracy2:  0.8361 | acc_aug:  0.0 \n",
      "epoch: 3000 | loss: 0.499 | accuracy: 093.81 % | accuracy2:  0.8407 | acc_aug:  0.0 \n",
      "epoch: 4000 | loss: 0.475 | accuracy: 094.20 % | accuracy2:  0.8445 | acc_aug:  0.0 \n",
      "epoch: 5000 | loss: 0.460 | accuracy: 094.45 % | accuracy2:  0.848 | acc_aug:  0.0 \n",
      "epoch: 6000 | loss: 0.450 | accuracy: 094.62 % | accuracy2:  0.8502 | acc_aug:  0.0 \n",
      "epoch: 7000 | loss: 0.443 | accuracy: 094.76 % | accuracy2:  0.8509 | acc_aug:  0.0 \n",
      "epoch: 8000 | loss: 0.438 | accuracy: 094.86 % | accuracy2:  0.8517 | acc_aug:  0.0 \n",
      "epoch: 9000 | loss: 0.433 | accuracy: 094.94 % | accuracy2:  0.853 | acc_aug:  0.0 \n",
      "epoch: 10000 | loss: 0.430 | accuracy: 095.01 % | accuracy2:  0.8539 | acc_aug:  0.0 \n",
      "epoch: 11000 | loss: 0.427 | accuracy: 095.07 % | accuracy2:  0.8542 | acc_aug:  0.0 \n",
      "epoch: 12000 | loss: 0.425 | accuracy: 095.12 % | accuracy2:  0.8542 | acc_aug:  0.0 \n",
      "epoch: 13000 | loss: 0.423 | accuracy: 095.16 % | accuracy2:  0.8552 | acc_aug:  0.0 \n",
      "epoch: 14000 | loss: 0.421 | accuracy: 095.20 % | accuracy2:  0.8553 | acc_aug:  0.0 \n",
      "epoch: 15000 | loss: 0.420 | accuracy: 095.23 % | accuracy2:  0.855 | acc_aug:  0.0 \n",
      "latents:  100  s:  0.855  fr:  0.6826  fs:  0.7778  rt:  0.7742\n"
     ]
    }
   ],
   "source": [
    "\n",
    "vae = VariationalAutoencoder(100).to(device) # GPU\n",
    "vae = train(vae, mnist_s)\n",
    "\n",
    "x_test_s, y_test_s = get_latents(test_mnist_s)\n",
    "y_test_s_oh = torch.nn.functional.one_hot(torch.tensor(y_test_s).long(), num_classes=10)\n",
    "\n",
    "x_test_fr, y_test_fr = get_latents(test_mnist_fr)\n",
    "y_test_fr_oh = torch.nn.functional.one_hot(torch.tensor(y_test_fr).long(), num_classes=10).clone().detach()\n",
    "\n",
    "x_test_fs, y_test_fs = get_latents(test_mnist_fs)\n",
    "y_test_fs_oh = torch.nn.functional.one_hot(torch.tensor(y_test_fs).long(), num_classes=10).clone().detach()\n",
    "\n",
    "x_test_rt, y_test_rt = get_latents(test_mnist_rt)\n",
    "y_test_rt_oh = torch.nn.functional.one_hot(torch.tensor(y_test_rt).long(), num_classes=10).clone().detach()\n",
    "\n",
    "\n",
    "\n",
    "x_train_s, y_train_s = get_latents(mnist_s)\n",
    "y_train_s_oh = torch.nn.functional.one_hot(torch.tensor(y_train_s).long(), num_classes=10)\n",
    "\n",
    "\n",
    "\n",
    "hunn_acc2, hunn_acc_fr,hunn_acc_fs,hunn_acc_rt  = log_reg_model(x_train_s,y_train_s_oh\n",
    "                           ,x_test_s,y_test_s_oh,y_test_s\n",
    "                           ,x_test_fr,y_test_fr\n",
    "                          ,x_test_fs,y_test_fs\n",
    "                          ,x_test_rt,y_test_rt)   \n",
    "\n",
    "latents,acc2,acc_fr,acc_fs, acc_rt = 100,hunn_acc2, hunn_acc_fr,hunn_acc_fs,hunn_acc_rt\n",
    "print('latents: ',latents,' s: ',acc2,' fr: ', acc_fr,' fs: ', acc_fs,' rt: ',acc_rt)\n",
    "    \n",
    "    \n",
    "\n"
   ]
  },
  {
   "cell_type": "markdown",
   "id": "03fbb200-dcbb-4c3d-a591-a2cbb973bd8f",
   "metadata": {},
   "source": [
    "# --------------------------------------------------------------------------\n",
    "# MNIST - S EVALS\n",
    "# --------------------------------------------------------------------------"
   ]
  },
  {
   "cell_type": "code",
   "execution_count": 153,
   "id": "5e71b417-ddf6-4b9d-8a97-142141153990",
   "metadata": {
    "tags": []
   },
   "outputs": [
    {
     "name": "stdout",
     "output_type": "stream",
     "text": [
      "latents:  10  s:  0.8799  fr:  0.6846  fs:  0.8228  rt:  0.8067\n",
      "latents:  20  s:  0.8564  fr:  0.6721  fs:  0.7624  rt:  0.7713\n",
      "latents:  50  s:  0.8547  fr:  0.6739  fs:  0.7737  rt:  0.7837\n",
      "latents:  100  s:  0.855  fr:  0.6826  fs:  0.7778  rt:  0.7742\n"
     ]
    }
   ],
   "source": [
    "\n",
    "latents,acc2,acc_fr,acc_fs, acc_rt = 10, ten_acc2, ten_acc_fr,ten_acc_fs,ten_acc_rt\n",
    "print('latents: ',latents,' s: ',acc2,' fr: ', acc_fr,' fs: ', acc_fs,' rt: ',acc_rt)\n",
    "\n",
    "latents,acc2,acc_fr,acc_fs, acc_rt = 20, twen_acc2, twen_acc_fr,twen_acc_fs,twen_acc_rt\n",
    "print('latents: ',latents,' s: ',acc2,' fr: ', acc_fr,' fs: ', acc_fs,' rt: ',acc_rt)\n",
    "\n",
    "\n",
    "latents,acc2,acc_fr,acc_fs, acc_rt = 50, fifty_acc2, fifty_acc_fr,fifty_acc_fs,fifty_acc_rt\n",
    "print('latents: ',latents,' s: ',acc2,' fr: ', acc_fr,' fs: ', acc_fs,' rt: ',acc_rt)\n",
    "\n",
    "\n",
    "latents,acc2,acc_fr,acc_fs, acc_rt = 100, hunn_acc2, hunn_acc_fr,hunn_acc_fs,hunn_acc_rt \n",
    "\n",
    "print('latents: ',latents,' s: ',acc2,' fr: ', acc_fr,' fs: ', acc_fs,' rt: ',acc_rt)\n"
   ]
  },
  {
   "cell_type": "markdown",
   "id": "d14d5195-a0b1-42e0-99b8-e5bcfd0ac6c8",
   "metadata": {
    "tags": []
   },
   "source": [
    "# ------------------------------------------------------------------\n",
    "# MNIST - RT \n",
    "# ------------------------------------------------------------------\n"
   ]
  },
  {
   "cell_type": "markdown",
   "id": "71f7b94b-0f03-465a-aa06-5e0d7d41aa37",
   "metadata": {},
   "source": [
    "# 5 latents - MNIST RT"
   ]
  },
  {
   "cell_type": "code",
   "execution_count": 154,
   "id": "dea9fadb-1ae3-4d9f-a715-73e8453fa365",
   "metadata": {
    "tags": []
   },
   "outputs": [
    {
     "name": "stderr",
     "output_type": "stream",
     "text": [
      "/tmp/ipykernel_11114/2988415686.py:16: UserWarning: To copy construct from a tensor, it is recommended to use sourceTensor.clone().detach() or sourceTensor.clone().detach().requires_grad_(True), rather than torch.tensor(sourceTensor).\n",
      "  x_train = torch.tensor(x_latent_data)\n",
      "/tmp/ipykernel_11114/3627895446.py:5: UserWarning: To copy construct from a tensor, it is recommended to use sourceTensor.clone().detach() or sourceTensor.clone().detach().requires_grad_(True), rather than torch.tensor(sourceTensor).\n",
      "  y_test_s_oh = torch.nn.functional.one_hot(torch.tensor(y_test_s).long(), num_classes=10)\n",
      "/tmp/ipykernel_11114/3627895446.py:8: UserWarning: To copy construct from a tensor, it is recommended to use sourceTensor.clone().detach() or sourceTensor.clone().detach().requires_grad_(True), rather than torch.tensor(sourceTensor).\n",
      "  y_test_fr_oh = torch.nn.functional.one_hot(torch.tensor(y_test_fr).long(), num_classes=10).clone().detach()\n",
      "/tmp/ipykernel_11114/3627895446.py:11: UserWarning: To copy construct from a tensor, it is recommended to use sourceTensor.clone().detach() or sourceTensor.clone().detach().requires_grad_(True), rather than torch.tensor(sourceTensor).\n",
      "  y_test_fs_oh = torch.nn.functional.one_hot(torch.tensor(y_test_fs).long(), num_classes=10).clone().detach()\n",
      "/tmp/ipykernel_11114/3627895446.py:14: UserWarning: To copy construct from a tensor, it is recommended to use sourceTensor.clone().detach() or sourceTensor.clone().detach().requires_grad_(True), rather than torch.tensor(sourceTensor).\n",
      "  y_test_rt_oh = torch.nn.functional.one_hot(torch.tensor(y_test_rt).long(), num_classes=10).clone().detach()\n",
      "/tmp/ipykernel_11114/3627895446.py:26: UserWarning: To copy construct from a tensor, it is recommended to use sourceTensor.clone().detach() or sourceTensor.clone().detach().requires_grad_(True), rather than torch.tensor(sourceTensor).\n",
      "  y_train_s_oh = torch.nn.functional.one_hot(torch.tensor(y_train_s).long(), num_classes=10)\n"
     ]
    },
    {
     "name": "stdout",
     "output_type": "stream",
     "text": [
      "60000 5\n",
      "epoch: 1000 | loss: 0.987 | accuracy: 089.58 % | accuracy2:  0.7916 | acc_aug:  0.0 \n",
      "epoch: 2000 | loss: 0.845 | accuracy: 091.21 % | accuracy2:  0.8058 | acc_aug:  0.0 \n",
      "epoch: 3000 | loss: 0.790 | accuracy: 091.95 % | accuracy2:  0.8114 | acc_aug:  0.0 \n",
      "epoch: 4000 | loss: 0.762 | accuracy: 092.37 % | accuracy2:  0.8129 | acc_aug:  0.0 \n",
      "epoch: 5000 | loss: 0.744 | accuracy: 092.66 % | accuracy2:  0.8134 | acc_aug:  0.0 \n",
      "epoch: 6000 | loss: 0.733 | accuracy: 092.86 % | accuracy2:  0.814 | acc_aug:  0.0 \n",
      "epoch: 7000 | loss: 0.724 | accuracy: 093.01 % | accuracy2:  0.8146 | acc_aug:  0.0 \n",
      "epoch: 8000 | loss: 0.718 | accuracy: 093.13 % | accuracy2:  0.8158 | acc_aug:  0.0 \n",
      "epoch: 9000 | loss: 0.714 | accuracy: 093.22 % | accuracy2:  0.8158 | acc_aug:  0.0 \n",
      "epoch: 10000 | loss: 0.710 | accuracy: 093.30 % | accuracy2:  0.8163 | acc_aug:  0.0 \n",
      "epoch: 11000 | loss: 0.707 | accuracy: 093.37 % | accuracy2:  0.8167 | acc_aug:  0.0 \n",
      "epoch: 12000 | loss: 0.705 | accuracy: 093.42 % | accuracy2:  0.8173 | acc_aug:  0.0 \n",
      "epoch: 13000 | loss: 0.703 | accuracy: 093.47 % | accuracy2:  0.8178 | acc_aug:  0.0 \n",
      "epoch: 14000 | loss: 0.701 | accuracy: 093.51 % | accuracy2:  0.8178 | acc_aug:  0.0 \n",
      "epoch: 15000 | loss: 0.700 | accuracy: 093.54 % | accuracy2:  0.8176 | acc_aug:  0.0 \n",
      "latents:  5  s:  0.8176  fr:  0.7115  fs:  0.8041  rt:  0.778\n"
     ]
    }
   ],
   "source": [
    "\n",
    "vae = VariationalAutoencoder(5).to(device) # GPU\n",
    "vae = train(vae, mnist_rt)\n",
    "\n",
    "x_test_s, y_test_s = get_latents(test_mnist_s)\n",
    "y_test_s_oh = torch.nn.functional.one_hot(torch.tensor(y_test_s).long(), num_classes=10)\n",
    "\n",
    "x_test_fr, y_test_fr = get_latents(test_mnist_fr)\n",
    "y_test_fr_oh = torch.nn.functional.one_hot(torch.tensor(y_test_fr).long(), num_classes=10).clone().detach()\n",
    "\n",
    "x_test_fs, y_test_fs = get_latents(test_mnist_fs)\n",
    "y_test_fs_oh = torch.nn.functional.one_hot(torch.tensor(y_test_fs).long(), num_classes=10).clone().detach()\n",
    "\n",
    "x_test_rt, y_test_rt = get_latents(test_mnist_rt)\n",
    "y_test_rt_oh = torch.nn.functional.one_hot(torch.tensor(y_test_rt).long(), num_classes=10).clone().detach()\n",
    "\n",
    "#x_test_fr, y_test_fr = get_latents(testingdata2)\n",
    "#x_test_fs, y_test_fs = get_latents(testingdata3)\n",
    "#x_test_rt, y_test_rt = get_latents(testingdata4)\n",
    "#,\n",
    "# LOG REG \n",
    "#acc1, acc2 = log_reg_model(x_train_s,y_train_s_oh,x_test_s,y_test_s_oh)\n",
    "#print(acc1, acc2)\n",
    "\n",
    "\n",
    "x_train_s, y_train_s = get_latents(mnist_rt)\n",
    "y_train_s_oh = torch.nn.functional.one_hot(torch.tensor(y_train_s).long(), num_classes=10)\n",
    "\n",
    "\n",
    "\n",
    "fiv_acc2, fiv_acc_fr,fiv_acc_fs,fiv_acc_rt  = log_reg_model(x_train_s,y_train_s_oh\n",
    "                           ,x_test_s,y_test_s_oh,y_test_s\n",
    "                           ,x_test_fr,y_test_fr\n",
    "                          ,x_test_fs,y_test_fs\n",
    "                          ,x_test_rt,y_test_rt)   \n",
    "\n",
    "latents,acc2,acc_fr,acc_fs, acc_rt = 5, fiv_acc2, fiv_acc_fr,fiv_acc_fs,fiv_acc_rt\n",
    "print('latents: ',latents,' s: ',acc2,' fr: ', acc_fr,' fs: ', acc_fs,' rt: ',acc_rt)\n",
    "    "
   ]
  },
  {
   "cell_type": "markdown",
   "id": "16f2e8c0-b5a9-4a1b-ad5d-e1e40d469886",
   "metadata": {
    "tags": []
   },
   "source": [
    "# 10 LATESNTS - MINST RT"
   ]
  },
  {
   "cell_type": "code",
   "execution_count": 155,
   "id": "81e47544-0a7d-45ab-80ed-4b3ff6bc10a2",
   "metadata": {
    "tags": []
   },
   "outputs": [
    {
     "name": "stderr",
     "output_type": "stream",
     "text": [
      "/tmp/ipykernel_11114/2988415686.py:16: UserWarning: To copy construct from a tensor, it is recommended to use sourceTensor.clone().detach() or sourceTensor.clone().detach().requires_grad_(True), rather than torch.tensor(sourceTensor).\n",
      "  x_train = torch.tensor(x_latent_data)\n",
      "/tmp/ipykernel_11114/3489330482.py:7: UserWarning: To copy construct from a tensor, it is recommended to use sourceTensor.clone().detach() or sourceTensor.clone().detach().requires_grad_(True), rather than torch.tensor(sourceTensor).\n",
      "  y_test_s_oh = torch.nn.functional.one_hot(torch.tensor(y_test_s).long(), num_classes=10)\n",
      "/tmp/ipykernel_11114/3489330482.py:10: UserWarning: To copy construct from a tensor, it is recommended to use sourceTensor.clone().detach() or sourceTensor.clone().detach().requires_grad_(True), rather than torch.tensor(sourceTensor).\n",
      "  y_test_fr_oh = torch.nn.functional.one_hot(torch.tensor(y_test_fr).long(), num_classes=10).clone().detach()\n",
      "/tmp/ipykernel_11114/3489330482.py:13: UserWarning: To copy construct from a tensor, it is recommended to use sourceTensor.clone().detach() or sourceTensor.clone().detach().requires_grad_(True), rather than torch.tensor(sourceTensor).\n",
      "  y_test_fs_oh = torch.nn.functional.one_hot(torch.tensor(y_test_fs).long(), num_classes=10).clone().detach()\n",
      "/tmp/ipykernel_11114/3489330482.py:28: UserWarning: To copy construct from a tensor, it is recommended to use sourceTensor.clone().detach() or sourceTensor.clone().detach().requires_grad_(True), rather than torch.tensor(sourceTensor).\n",
      "  y_train_s_oh = torch.nn.functional.one_hot(torch.tensor(y_train_s).long(), num_classes=10)\n"
     ]
    },
    {
     "name": "stdout",
     "output_type": "stream",
     "text": [
      "60000 10\n",
      "epoch: 1000 | loss: 0.859 | accuracy: 090.91 % | accuracy2:  0.8412 | acc_aug:  0.0 \n",
      "epoch: 2000 | loss: 0.719 | accuracy: 092.68 % | accuracy2:  0.851 | acc_aug:  0.0 \n",
      "epoch: 3000 | loss: 0.668 | accuracy: 093.41 % | accuracy2:  0.8542 | acc_aug:  0.0 \n",
      "epoch: 4000 | loss: 0.641 | accuracy: 093.83 % | accuracy2:  0.8566 | acc_aug:  0.0 \n",
      "epoch: 5000 | loss: 0.625 | accuracy: 094.10 % | accuracy2:  0.8596 | acc_aug:  0.0 \n",
      "epoch: 6000 | loss: 0.614 | accuracy: 094.30 % | accuracy2:  0.8605 | acc_aug:  0.0 \n",
      "epoch: 7000 | loss: 0.607 | accuracy: 094.44 % | accuracy2:  0.8613 | acc_aug:  0.0 \n",
      "epoch: 8000 | loss: 0.601 | accuracy: 094.55 % | accuracy2:  0.8624 | acc_aug:  0.0 \n",
      "epoch: 9000 | loss: 0.597 | accuracy: 094.64 % | accuracy2:  0.8629 | acc_aug:  0.0 \n",
      "epoch: 10000 | loss: 0.594 | accuracy: 094.71 % | accuracy2:  0.863 | acc_aug:  0.0 \n",
      "epoch: 11000 | loss: 0.591 | accuracy: 094.78 % | accuracy2:  0.8629 | acc_aug:  0.0 \n",
      "epoch: 12000 | loss: 0.589 | accuracy: 094.83 % | accuracy2:  0.8632 | acc_aug:  0.0 \n",
      "epoch: 13000 | loss: 0.587 | accuracy: 094.87 % | accuracy2:  0.8637 | acc_aug:  0.0 \n",
      "epoch: 14000 | loss: 0.586 | accuracy: 094.91 % | accuracy2:  0.863 | acc_aug:  0.0 \n",
      "epoch: 15000 | loss: 0.585 | accuracy: 094.94 % | accuracy2:  0.8632 | acc_aug:  0.0 \n",
      "latents:  10  s:  0.8632  fr:  0.7386  fs:  0.8238  rt:  0.807\n"
     ]
    }
   ],
   "source": [
    "## expecting 0.8102 ## 8039 ... AFTER RANDOM SEED SET : 0.8118 now it's 0.7941 // redoing again: 42 new seed alloc : 7992,6585 now 8054///\n",
    "## restarting kernal.... 0.8118  ## then 7941 again\n",
    "vae = VariationalAutoencoder(10).to(device) # GPU\n",
    "vae = train(vae, mnist_rt)\n",
    "\n",
    "x_test_s, y_test_s = get_latents(test_mnist_s)\n",
    "y_test_s_oh = torch.nn.functional.one_hot(torch.tensor(y_test_s).long(), num_classes=10)\n",
    "\n",
    "x_test_fr, y_test_fr = get_latents(test_mnist_fr)\n",
    "y_test_fr_oh = torch.nn.functional.one_hot(torch.tensor(y_test_fr).long(), num_classes=10).clone().detach()\n",
    "\n",
    "x_test_fs, y_test_fs = get_latents(test_mnist_fs)\n",
    "y_test_fs_oh = torch.nn.functional.one_hot(torch.tensor(y_test_fs).long(), num_classes=10).clone().detach()\n",
    "\n",
    "x_test_rt, y_test_rt = get_latents(test_mnist_rt)\n",
    "y_test_rt_oh = torch.nn.functional.one_hot(torch.tensor(y_test_rt).long(), num_classes=10).clone().detach()\n",
    "\n",
    "#x_test_fr, y_test_fr = get_latents(testingdata2)\n",
    "#x_test_fs, y_test_fs = get_latents(testingdata3)\n",
    "#x_test_rt, y_test_rt = get_latents(testingdata4)\n",
    "#,\n",
    "# LOG REG \n",
    "#acc1, acc2 = log_reg_model(x_train_s,y_train_s_oh,x_test_s,y_test_s_oh)\n",
    "#print(acc1, acc2)\n",
    "\n",
    "\n",
    "x_train_s, y_train_s = get_latents(mnist_rt)\n",
    "y_train_s_oh = torch.nn.functional.one_hot(torch.tensor(y_train_s).long(), num_classes=10)\n",
    "\n",
    "\n",
    "\n",
    "ten_acc2, ten_acc_fr,ten_acc_fs,ten_acc_rt  = log_reg_model(x_train_s,y_train_s_oh\n",
    "                           ,x_test_s,y_test_s_oh,y_test_s\n",
    "                           ,x_test_fr,y_test_fr\n",
    "                          ,x_test_fs,y_test_fs\n",
    "                          ,x_test_rt,y_test_rt)   \n",
    "\n",
    "latents,acc2,acc_fr,acc_fs, acc_rt = 10, ten_acc2, ten_acc_fr,ten_acc_fs,ten_acc_rt\n",
    "print('latents: ',latents,' s: ',acc2,' fr: ', acc_fr,' fs: ', acc_fs,' rt: ',acc_rt)\n",
    "    "
   ]
  },
  {
   "cell_type": "markdown",
   "id": "bfc32f16-33f3-4e22-99de-265c2237597a",
   "metadata": {},
   "source": [
    "# 20 latents mnist-rt"
   ]
  },
  {
   "cell_type": "code",
   "execution_count": 156,
   "id": "4bfda9ea-42ca-46f8-8307-d7ccd153d87d",
   "metadata": {
    "tags": []
   },
   "outputs": [
    {
     "name": "stderr",
     "output_type": "stream",
     "text": [
      "/tmp/ipykernel_11114/2988415686.py:16: UserWarning: To copy construct from a tensor, it is recommended to use sourceTensor.clone().detach() or sourceTensor.clone().detach().requires_grad_(True), rather than torch.tensor(sourceTensor).\n",
      "  x_train = torch.tensor(x_latent_data)\n",
      "/tmp/ipykernel_11114/3112856649.py:5: UserWarning: To copy construct from a tensor, it is recommended to use sourceTensor.clone().detach() or sourceTensor.clone().detach().requires_grad_(True), rather than torch.tensor(sourceTensor).\n",
      "  y_test_s_oh = torch.nn.functional.one_hot(torch.tensor(y_test_s).long(), num_classes=10)\n",
      "/tmp/ipykernel_11114/3112856649.py:8: UserWarning: To copy construct from a tensor, it is recommended to use sourceTensor.clone().detach() or sourceTensor.clone().detach().requires_grad_(True), rather than torch.tensor(sourceTensor).\n",
      "  y_test_fr_oh = torch.nn.functional.one_hot(torch.tensor(y_test_fr).long(), num_classes=10).clone().detach()\n",
      "/tmp/ipykernel_11114/3112856649.py:11: UserWarning: To copy construct from a tensor, it is recommended to use sourceTensor.clone().detach() or sourceTensor.clone().detach().requires_grad_(True), rather than torch.tensor(sourceTensor).\n",
      "  y_test_fs_oh = torch.nn.functional.one_hot(torch.tensor(y_test_fs).long(), num_classes=10).clone().detach()\n",
      "/tmp/ipykernel_11114/3112856649.py:14: UserWarning: To copy construct from a tensor, it is recommended to use sourceTensor.clone().detach() or sourceTensor.clone().detach().requires_grad_(True), rather than torch.tensor(sourceTensor).\n",
      "  y_test_rt_oh = torch.nn.functional.one_hot(torch.tensor(y_test_rt).long(), num_classes=10).clone().detach()\n",
      "/tmp/ipykernel_11114/3112856649.py:19: UserWarning: To copy construct from a tensor, it is recommended to use sourceTensor.clone().detach() or sourceTensor.clone().detach().requires_grad_(True), rather than torch.tensor(sourceTensor).\n",
      "  y_train_s_oh = torch.nn.functional.one_hot(torch.tensor(y_train_s).long(), num_classes=10)\n"
     ]
    },
    {
     "name": "stdout",
     "output_type": "stream",
     "text": [
      "60000 20\n",
      "epoch: 1000 | loss: 0.844 | accuracy: 091.39 % | accuracy2:  0.8324 | acc_aug:  0.0 \n",
      "epoch: 2000 | loss: 0.725 | accuracy: 092.98 % | accuracy2:  0.8399 | acc_aug:  0.0 \n",
      "epoch: 3000 | loss: 0.684 | accuracy: 093.61 % | accuracy2:  0.8443 | acc_aug:  0.0 \n",
      "epoch: 4000 | loss: 0.664 | accuracy: 093.95 % | accuracy2:  0.8457 | acc_aug:  0.0 \n",
      "epoch: 5000 | loss: 0.651 | accuracy: 094.16 % | accuracy2:  0.8464 | acc_aug:  0.0 \n",
      "epoch: 6000 | loss: 0.643 | accuracy: 094.31 % | accuracy2:  0.8476 | acc_aug:  0.0 \n",
      "epoch: 7000 | loss: 0.638 | accuracy: 094.42 % | accuracy2:  0.8482 | acc_aug:  0.0 \n",
      "epoch: 8000 | loss: 0.634 | accuracy: 094.50 % | accuracy2:  0.849 | acc_aug:  0.0 \n",
      "epoch: 9000 | loss: 0.630 | accuracy: 094.57 % | accuracy2:  0.8494 | acc_aug:  0.0 \n",
      "epoch: 10000 | loss: 0.628 | accuracy: 094.62 % | accuracy2:  0.8496 | acc_aug:  0.0 \n",
      "epoch: 11000 | loss: 0.626 | accuracy: 094.66 % | accuracy2:  0.8497 | acc_aug:  0.0 \n",
      "epoch: 12000 | loss: 0.624 | accuracy: 094.70 % | accuracy2:  0.8498 | acc_aug:  0.0 \n",
      "epoch: 13000 | loss: 0.623 | accuracy: 094.73 % | accuracy2:  0.8499 | acc_aug:  0.0 \n",
      "epoch: 14000 | loss: 0.622 | accuracy: 094.76 % | accuracy2:  0.8504 | acc_aug:  0.0 \n",
      "epoch: 15000 | loss: 0.621 | accuracy: 094.78 % | accuracy2:  0.8504 | acc_aug:  0.0 \n",
      "latents:  20  s:  0.8504  fr:  0.7289  fs:  0.7734  rt:  0.7951\n"
     ]
    }
   ],
   "source": [
    "\n",
    "vae = VariationalAutoencoder(20).to(device) # GPU\n",
    "vae = train(vae, mnist_rt)\n",
    "\n",
    "x_test_s, y_test_s = get_latents(test_mnist_s)\n",
    "y_test_s_oh = torch.nn.functional.one_hot(torch.tensor(y_test_s).long(), num_classes=10)\n",
    "\n",
    "x_test_fr, y_test_fr = get_latents(test_mnist_fr)\n",
    "y_test_fr_oh = torch.nn.functional.one_hot(torch.tensor(y_test_fr).long(), num_classes=10).clone().detach()\n",
    "\n",
    "x_test_fs, y_test_fs = get_latents(test_mnist_fs)\n",
    "y_test_fs_oh = torch.nn.functional.one_hot(torch.tensor(y_test_fs).long(), num_classes=10).clone().detach()\n",
    "\n",
    "x_test_rt, y_test_rt = get_latents(test_mnist_rt)\n",
    "y_test_rt_oh = torch.nn.functional.one_hot(torch.tensor(y_test_rt).long(), num_classes=10).clone().detach()\n",
    "\n",
    "\n",
    "\n",
    "x_train_s, y_train_s = get_latents(mnist_rt)\n",
    "y_train_s_oh = torch.nn.functional.one_hot(torch.tensor(y_train_s).long(), num_classes=10)\n",
    "\n",
    "\n",
    "\n",
    "twen_acc2, twen_acc_fr,twen_acc_fs,twen_acc_rt  = log_reg_model(x_train_s,y_train_s_oh\n",
    "                           ,x_test_s,y_test_s_oh,y_test_s\n",
    "                           ,x_test_fr,y_test_fr\n",
    "                          ,x_test_fs,y_test_fs\n",
    "                          ,x_test_rt,y_test_rt)   \n",
    "\n",
    "latents,acc2,acc_fr,acc_fs, acc_rt = 20,twen_acc2, twen_acc_fr,twen_acc_fs,twen_acc_rt\n",
    "print('latents: ',latents,' s: ',acc2,' fr: ', acc_fr,' fs: ', acc_fs,' rt: ',acc_rt)\n",
    "    \n",
    "    \n",
    "    \n"
   ]
  },
  {
   "cell_type": "markdown",
   "id": "b563c0c0-fcc9-40ee-8357-0f51698eb472",
   "metadata": {},
   "source": [
    "# 50 latents MNIST-rt"
   ]
  },
  {
   "cell_type": "code",
   "execution_count": 157,
   "id": "e4812bfd-5164-4994-8c7f-300d0a0fa34c",
   "metadata": {
    "tags": []
   },
   "outputs": [
    {
     "name": "stderr",
     "output_type": "stream",
     "text": [
      "/tmp/ipykernel_11114/2988415686.py:16: UserWarning: To copy construct from a tensor, it is recommended to use sourceTensor.clone().detach() or sourceTensor.clone().detach().requires_grad_(True), rather than torch.tensor(sourceTensor).\n",
      "  x_train = torch.tensor(x_latent_data)\n",
      "/tmp/ipykernel_11114/2758850253.py:5: UserWarning: To copy construct from a tensor, it is recommended to use sourceTensor.clone().detach() or sourceTensor.clone().detach().requires_grad_(True), rather than torch.tensor(sourceTensor).\n",
      "  y_test_s_oh = torch.nn.functional.one_hot(torch.tensor(y_test_s).long(), num_classes=10)\n",
      "/tmp/ipykernel_11114/2758850253.py:8: UserWarning: To copy construct from a tensor, it is recommended to use sourceTensor.clone().detach() or sourceTensor.clone().detach().requires_grad_(True), rather than torch.tensor(sourceTensor).\n",
      "  y_test_fr_oh = torch.nn.functional.one_hot(torch.tensor(y_test_fr).long(), num_classes=10).clone().detach()\n",
      "/tmp/ipykernel_11114/2758850253.py:11: UserWarning: To copy construct from a tensor, it is recommended to use sourceTensor.clone().detach() or sourceTensor.clone().detach().requires_grad_(True), rather than torch.tensor(sourceTensor).\n",
      "  y_test_fs_oh = torch.nn.functional.one_hot(torch.tensor(y_test_fs).long(), num_classes=10).clone().detach()\n",
      "/tmp/ipykernel_11114/2758850253.py:14: UserWarning: To copy construct from a tensor, it is recommended to use sourceTensor.clone().detach() or sourceTensor.clone().detach().requires_grad_(True), rather than torch.tensor(sourceTensor).\n",
      "  y_test_rt_oh = torch.nn.functional.one_hot(torch.tensor(y_test_rt).long(), num_classes=10).clone().detach()\n",
      "/tmp/ipykernel_11114/2758850253.py:19: UserWarning: To copy construct from a tensor, it is recommended to use sourceTensor.clone().detach() or sourceTensor.clone().detach().requires_grad_(True), rather than torch.tensor(sourceTensor).\n",
      "  y_train_s_oh = torch.nn.functional.one_hot(torch.tensor(y_train_s).long(), num_classes=10)\n"
     ]
    },
    {
     "name": "stdout",
     "output_type": "stream",
     "text": [
      "60000 50\n",
      "epoch: 1000 | loss: 0.855 | accuracy: 091.28 % | accuracy2:  0.8349 | acc_aug:  0.0 \n",
      "epoch: 2000 | loss: 0.723 | accuracy: 092.99 % | accuracy2:  0.843 | acc_aug:  0.0 \n",
      "epoch: 3000 | loss: 0.675 | accuracy: 093.66 % | accuracy2:  0.8462 | acc_aug:  0.0 \n",
      "epoch: 4000 | loss: 0.650 | accuracy: 094.03 % | accuracy2:  0.8486 | acc_aug:  0.0 \n",
      "epoch: 5000 | loss: 0.635 | accuracy: 094.26 % | accuracy2:  0.8494 | acc_aug:  0.0 \n",
      "epoch: 6000 | loss: 0.625 | accuracy: 094.43 % | accuracy2:  0.851 | acc_aug:  0.0 \n",
      "epoch: 7000 | loss: 0.617 | accuracy: 094.55 % | accuracy2:  0.8519 | acc_aug:  0.0 \n",
      "epoch: 8000 | loss: 0.612 | accuracy: 094.65 % | accuracy2:  0.8524 | acc_aug:  0.0 \n",
      "epoch: 9000 | loss: 0.607 | accuracy: 094.72 % | accuracy2:  0.8526 | acc_aug:  0.0 \n",
      "epoch: 10000 | loss: 0.604 | accuracy: 094.78 % | accuracy2:  0.8535 | acc_aug:  0.0 \n",
      "epoch: 11000 | loss: 0.601 | accuracy: 094.84 % | accuracy2:  0.8541 | acc_aug:  0.0 \n",
      "epoch: 12000 | loss: 0.599 | accuracy: 094.88 % | accuracy2:  0.8552 | acc_aug:  0.0 \n",
      "epoch: 13000 | loss: 0.597 | accuracy: 094.92 % | accuracy2:  0.8554 | acc_aug:  0.0 \n",
      "epoch: 14000 | loss: 0.595 | accuracy: 094.95 % | accuracy2:  0.8559 | acc_aug:  0.0 \n",
      "epoch: 15000 | loss: 0.594 | accuracy: 094.98 % | accuracy2:  0.8561 | acc_aug:  0.0 \n",
      "latents:  50  s:  0.8561  fr:  0.7334  fs:  0.7906  rt:  0.8089\n"
     ]
    }
   ],
   "source": [
    "\n",
    "vae = VariationalAutoencoder(50).to(device) # GPU\n",
    "vae = train(vae, mnist_rt)\n",
    "\n",
    "x_test_s, y_test_s = get_latents(test_mnist_s)\n",
    "y_test_s_oh = torch.nn.functional.one_hot(torch.tensor(y_test_s).long(), num_classes=10)\n",
    "\n",
    "x_test_fr, y_test_fr = get_latents(test_mnist_fr)\n",
    "y_test_fr_oh = torch.nn.functional.one_hot(torch.tensor(y_test_fr).long(), num_classes=10).clone().detach()\n",
    "\n",
    "x_test_fs, y_test_fs = get_latents(test_mnist_fs)\n",
    "y_test_fs_oh = torch.nn.functional.one_hot(torch.tensor(y_test_fs).long(), num_classes=10).clone().detach()\n",
    "\n",
    "x_test_rt, y_test_rt = get_latents(test_mnist_rt)\n",
    "y_test_rt_oh = torch.nn.functional.one_hot(torch.tensor(y_test_rt).long(), num_classes=10).clone().detach()\n",
    "\n",
    "\n",
    "\n",
    "x_train_s, y_train_s = get_latents(mnist_rt)\n",
    "y_train_s_oh = torch.nn.functional.one_hot(torch.tensor(y_train_s).long(), num_classes=10)\n",
    "\n",
    "\n",
    "\n",
    "fifty_acc2, fifty_acc_fr,fifty_acc_fs,fifty_acc_rt  = log_reg_model(x_train_s,y_train_s_oh\n",
    "                           ,x_test_s,y_test_s_oh,y_test_s\n",
    "                           ,x_test_fr,y_test_fr\n",
    "                          ,x_test_fs,y_test_fs\n",
    "                          ,x_test_rt,y_test_rt)   \n",
    "\n",
    "latents,acc2,acc_fr,acc_fs, acc_rt = 50,fifty_acc2, fifty_acc_fr,fifty_acc_fs,fifty_acc_rt\n",
    "print('latents: ',latents,' s: ',acc2,' fr: ', acc_fr,' fs: ', acc_fs,' rt: ',acc_rt)\n",
    "    \n",
    "    \n",
    "\n"
   ]
  },
  {
   "cell_type": "markdown",
   "id": "1e1f98ae-5206-43d6-8750-68907fceb560",
   "metadata": {},
   "source": [
    "# 100 latents mnist -rt"
   ]
  },
  {
   "cell_type": "code",
   "execution_count": 158,
   "id": "e64b45db-e2e9-40a8-a5e3-d325fada9367",
   "metadata": {
    "tags": []
   },
   "outputs": [
    {
     "name": "stderr",
     "output_type": "stream",
     "text": [
      "/tmp/ipykernel_11114/2988415686.py:16: UserWarning: To copy construct from a tensor, it is recommended to use sourceTensor.clone().detach() or sourceTensor.clone().detach().requires_grad_(True), rather than torch.tensor(sourceTensor).\n",
      "  x_train = torch.tensor(x_latent_data)\n",
      "/tmp/ipykernel_11114/1488157914.py:5: UserWarning: To copy construct from a tensor, it is recommended to use sourceTensor.clone().detach() or sourceTensor.clone().detach().requires_grad_(True), rather than torch.tensor(sourceTensor).\n",
      "  y_test_s_oh = torch.nn.functional.one_hot(torch.tensor(y_test_s).long(), num_classes=10)\n",
      "/tmp/ipykernel_11114/1488157914.py:8: UserWarning: To copy construct from a tensor, it is recommended to use sourceTensor.clone().detach() or sourceTensor.clone().detach().requires_grad_(True), rather than torch.tensor(sourceTensor).\n",
      "  y_test_fr_oh = torch.nn.functional.one_hot(torch.tensor(y_test_fr).long(), num_classes=10).clone().detach()\n",
      "/tmp/ipykernel_11114/1488157914.py:11: UserWarning: To copy construct from a tensor, it is recommended to use sourceTensor.clone().detach() or sourceTensor.clone().detach().requires_grad_(True), rather than torch.tensor(sourceTensor).\n",
      "  y_test_fs_oh = torch.nn.functional.one_hot(torch.tensor(y_test_fs).long(), num_classes=10).clone().detach()\n",
      "/tmp/ipykernel_11114/1488157914.py:14: UserWarning: To copy construct from a tensor, it is recommended to use sourceTensor.clone().detach() or sourceTensor.clone().detach().requires_grad_(True), rather than torch.tensor(sourceTensor).\n",
      "  y_test_rt_oh = torch.nn.functional.one_hot(torch.tensor(y_test_rt).long(), num_classes=10).clone().detach()\n",
      "/tmp/ipykernel_11114/1488157914.py:19: UserWarning: To copy construct from a tensor, it is recommended to use sourceTensor.clone().detach() or sourceTensor.clone().detach().requires_grad_(True), rather than torch.tensor(sourceTensor).\n",
      "  y_train_s_oh = torch.nn.functional.one_hot(torch.tensor(y_train_s).long(), num_classes=10)\n"
     ]
    },
    {
     "name": "stdout",
     "output_type": "stream",
     "text": [
      "60000 100\n",
      "epoch: 1000 | loss: 0.841 | accuracy: 091.42 % | accuracy2:  0.8379 | acc_aug:  0.0 \n",
      "epoch: 2000 | loss: 0.711 | accuracy: 093.07 % | accuracy2:  0.8472 | acc_aug:  0.0 \n",
      "epoch: 3000 | loss: 0.663 | accuracy: 093.73 % | accuracy2:  0.8513 | acc_aug:  0.0 \n",
      "epoch: 4000 | loss: 0.639 | accuracy: 094.09 % | accuracy2:  0.853 | acc_aug:  0.0 \n",
      "epoch: 5000 | loss: 0.623 | accuracy: 094.32 % | accuracy2:  0.8529 | acc_aug:  0.0 \n",
      "epoch: 6000 | loss: 0.613 | accuracy: 094.48 % | accuracy2:  0.853 | acc_aug:  0.0 \n",
      "epoch: 7000 | loss: 0.606 | accuracy: 094.60 % | accuracy2:  0.8543 | acc_aug:  0.0 \n",
      "epoch: 8000 | loss: 0.600 | accuracy: 094.70 % | accuracy2:  0.854 | acc_aug:  0.0 \n",
      "epoch: 9000 | loss: 0.596 | accuracy: 094.77 % | accuracy2:  0.8542 | acc_aug:  0.0 \n",
      "epoch: 10000 | loss: 0.592 | accuracy: 094.83 % | accuracy2:  0.855 | acc_aug:  0.0 \n",
      "epoch: 11000 | loss: 0.590 | accuracy: 094.88 % | accuracy2:  0.8549 | acc_aug:  0.0 \n",
      "epoch: 12000 | loss: 0.587 | accuracy: 094.93 % | accuracy2:  0.8553 | acc_aug:  0.0 \n",
      "epoch: 13000 | loss: 0.585 | accuracy: 094.97 % | accuracy2:  0.8559 | acc_aug:  0.0 \n",
      "epoch: 14000 | loss: 0.584 | accuracy: 095.00 % | accuracy2:  0.8562 | acc_aug:  0.0 \n",
      "epoch: 15000 | loss: 0.582 | accuracy: 095.03 % | accuracy2:  0.8563 | acc_aug:  0.0 \n",
      "latents:  100  s:  0.8563  fr:  0.7378  fs:  0.7965  rt:  0.7983\n"
     ]
    }
   ],
   "source": [
    "\n",
    "vae = VariationalAutoencoder(100).to(device) # GPU\n",
    "vae = train(vae, mnist_rt)\n",
    "\n",
    "x_test_s, y_test_s = get_latents(test_mnist_s)\n",
    "y_test_s_oh = torch.nn.functional.one_hot(torch.tensor(y_test_s).long(), num_classes=10)\n",
    "\n",
    "x_test_fr, y_test_fr = get_latents(test_mnist_fr)\n",
    "y_test_fr_oh = torch.nn.functional.one_hot(torch.tensor(y_test_fr).long(), num_classes=10).clone().detach()\n",
    "\n",
    "x_test_fs, y_test_fs = get_latents(test_mnist_fs)\n",
    "y_test_fs_oh = torch.nn.functional.one_hot(torch.tensor(y_test_fs).long(), num_classes=10).clone().detach()\n",
    "\n",
    "x_test_rt, y_test_rt = get_latents(test_mnist_rt)\n",
    "y_test_rt_oh = torch.nn.functional.one_hot(torch.tensor(y_test_rt).long(), num_classes=10).clone().detach()\n",
    "\n",
    "\n",
    "\n",
    "x_train_s, y_train_s = get_latents(mnist_rt)\n",
    "y_train_s_oh = torch.nn.functional.one_hot(torch.tensor(y_train_s).long(), num_classes=10)\n",
    "\n",
    "\n",
    "\n",
    "hunn_acc2, hunn_acc_fr,hunn_acc_fs,hunn_acc_rt  = log_reg_model(x_train_s,y_train_s_oh\n",
    "                           ,x_test_s,y_test_s_oh,y_test_s\n",
    "                           ,x_test_fr,y_test_fr\n",
    "                          ,x_test_fs,y_test_fs\n",
    "                          ,x_test_rt,y_test_rt)   \n",
    "\n",
    "latents,acc2,acc_fr,acc_fs, acc_rt = 100,hunn_acc2, hunn_acc_fr,hunn_acc_fs,hunn_acc_rt\n",
    "print('latents: ',latents,' s: ',acc2,' fr: ', acc_fr,' fs: ', acc_fs,' rt: ',acc_rt)\n",
    "    \n",
    "    \n",
    "\n"
   ]
  },
  {
   "cell_type": "markdown",
   "id": "4cc09a1e-34c0-441a-8de7-d0c175d075bc",
   "metadata": {},
   "source": [
    "# --------------------------------------------------------------------------\n",
    "# MNIST - rt EVALS\n",
    "# --------------------------------------------------------------------------"
   ]
  },
  {
   "cell_type": "code",
   "execution_count": 159,
   "id": "ec194279-d124-4ab6-8849-069789f332d5",
   "metadata": {
    "tags": []
   },
   "outputs": [
    {
     "name": "stdout",
     "output_type": "stream",
     "text": [
      "latents:  10  s:  0.8632  fr:  0.7386  fs:  0.8238  rt:  0.807\n",
      "latents:  20  s:  0.8504  fr:  0.7289  fs:  0.7734  rt:  0.7951\n",
      "latents:  50  s:  0.8561  fr:  0.7334  fs:  0.7906  rt:  0.8089\n",
      "latents:  100  s:  0.8563  fr:  0.7378  fs:  0.7965  rt:  0.7983\n"
     ]
    }
   ],
   "source": [
    "\n",
    "latents,acc2,acc_fr,acc_fs, acc_rt = 10, ten_acc2, ten_acc_fr,ten_acc_fs,ten_acc_rt\n",
    "print('latents: ',latents,' s: ',acc2,' fr: ', acc_fr,' fs: ', acc_fs,' rt: ',acc_rt)\n",
    "\n",
    "latents,acc2,acc_fr,acc_fs, acc_rt = 20, twen_acc2, twen_acc_fr,twen_acc_fs,twen_acc_rt\n",
    "print('latents: ',latents,' s: ',acc2,' fr: ', acc_fr,' fs: ', acc_fs,' rt: ',acc_rt)\n",
    "\n",
    "\n",
    "latents,acc2,acc_fr,acc_fs, acc_rt = 50, fifty_acc2, fifty_acc_fr,fifty_acc_fs,fifty_acc_rt\n",
    "print('latents: ',latents,' s: ',acc2,' fr: ', acc_fr,' fs: ', acc_fs,' rt: ',acc_rt)\n",
    "\n",
    "\n",
    "latents,acc2,acc_fr,acc_fs, acc_rt = 100, hunn_acc2, hunn_acc_fr,hunn_acc_fs,hunn_acc_rt \n",
    "\n",
    "print('latents: ',latents,' s: ',acc2,' fr: ', acc_fr,' fs: ', acc_fs,' rt: ',acc_rt)\n"
   ]
  },
  {
   "cell_type": "markdown",
   "id": "56f6af79-019d-438a-983d-dfd6c7469f28",
   "metadata": {},
   "source": [
    "# --------------------------------------------------------------------------\n",
    "# Reducing training set..\n",
    "# --------------------------------------------------------------------------"
   ]
  },
  {
   "cell_type": "code",
   "execution_count": null,
   "id": "f47741f5-cc81-42d8-907d-48d2f30b030e",
   "metadata": {},
   "outputs": [],
   "source": [
    "## manually changing data passed to logistic regression"
   ]
  },
  {
   "cell_type": "code",
   "execution_count": 196,
   "id": "2ef6c8d5-46c6-4dbb-8b9a-9e509295b745",
   "metadata": {
    "tags": []
   },
   "outputs": [],
   "source": [
    "def train(autoencoder, data, epochs=20):\n",
    "    opt = torch.optim.Adam(autoencoder.parameters())\n",
    "    for epoch in range(epochs):\n",
    "        for idx,(x, y) in enumerate(data):\n",
    "            if idx < 2: # 128 in each batch so 2\n",
    "                x = x.to(device) # GPU\n",
    "                opt.zero_grad()\n",
    "                x_hat = autoencoder(x)\n",
    "                loss = ((x - x_hat)**2).sum() + autoencoder.encoder.kl\n",
    "                loss.backward()\n",
    "                opt.step()\n",
    "    return autoencoder"
   ]
  },
  {
   "cell_type": "code",
   "execution_count": 241,
   "id": "cd905a94-9e39-48a1-9a97-59b138669ae8",
   "metadata": {
    "tags": []
   },
   "outputs": [
    {
     "name": "stderr",
     "output_type": "stream",
     "text": [
      "/tmp/ipykernel_11114/2988415686.py:16: UserWarning: To copy construct from a tensor, it is recommended to use sourceTensor.clone().detach() or sourceTensor.clone().detach().requires_grad_(True), rather than torch.tensor(sourceTensor).\n",
      "  x_train = torch.tensor(x_latent_data)\n",
      "/tmp/ipykernel_11114/437372431.py:5: UserWarning: To copy construct from a tensor, it is recommended to use sourceTensor.clone().detach() or sourceTensor.clone().detach().requires_grad_(True), rather than torch.tensor(sourceTensor).\n",
      "  y_test_s_oh = torch.nn.functional.one_hot(torch.tensor(y_test_s).long(), num_classes=10)\n",
      "/tmp/ipykernel_11114/437372431.py:8: UserWarning: To copy construct from a tensor, it is recommended to use sourceTensor.clone().detach() or sourceTensor.clone().detach().requires_grad_(True), rather than torch.tensor(sourceTensor).\n",
      "  y_test_fr_oh = torch.nn.functional.one_hot(torch.tensor(y_test_fr).long(), num_classes=10).clone().detach()\n",
      "/tmp/ipykernel_11114/437372431.py:11: UserWarning: To copy construct from a tensor, it is recommended to use sourceTensor.clone().detach() or sourceTensor.clone().detach().requires_grad_(True), rather than torch.tensor(sourceTensor).\n",
      "  y_test_fs_oh = torch.nn.functional.one_hot(torch.tensor(y_test_fs).long(), num_classes=10).clone().detach()\n",
      "/tmp/ipykernel_11114/437372431.py:14: UserWarning: To copy construct from a tensor, it is recommended to use sourceTensor.clone().detach() or sourceTensor.clone().detach().requires_grad_(True), rather than torch.tensor(sourceTensor).\n",
      "  y_test_rt_oh = torch.nn.functional.one_hot(torch.tensor(y_test_rt).long(), num_classes=10).clone().detach()\n",
      "/tmp/ipykernel_11114/437372431.py:26: UserWarning: To copy construct from a tensor, it is recommended to use sourceTensor.clone().detach() or sourceTensor.clone().detach().requires_grad_(True), rather than torch.tensor(sourceTensor).\n",
      "  y_train_s_oh = torch.nn.functional.one_hot(torch.tensor(y_train_s).long(), num_classes=10)\n"
     ]
    },
    {
     "name": "stdout",
     "output_type": "stream",
     "text": [
      "256 10\n",
      "epoch: 1000 | loss: nan | accuracy: 086.92 % | accuracy2:  0.554 | acc_aug:  0.0 \n",
      "epoch: 2000 | loss: nan | accuracy: 087.96 % | accuracy2:  0.5704 | acc_aug:  0.0 \n",
      "epoch: 3000 | loss: nan | accuracy: 088.43 % | accuracy2:  0.5744 | acc_aug:  0.0 \n",
      "epoch: 4000 | loss: nan | accuracy: 088.71 % | accuracy2:  0.5747 | acc_aug:  0.0 \n",
      "epoch: 5000 | loss: nan | accuracy: 088.90 % | accuracy2:  0.5724 | acc_aug:  0.0 \n",
      "epoch: 6000 | loss: nan | accuracy: 089.02 % | accuracy2:  0.5729 | acc_aug:  0.0 \n",
      "epoch: 7000 | loss: nan | accuracy: 089.12 % | accuracy2:  0.5721 | acc_aug:  0.0 \n",
      "epoch: 8000 | loss: nan | accuracy: 089.19 % | accuracy2:  0.5724 | acc_aug:  0.0 \n",
      "epoch: 9000 | loss: nan | accuracy: 089.25 % | accuracy2:  0.5703 | acc_aug:  0.0 \n",
      "epoch: 10000 | loss: nan | accuracy: 089.29 % | accuracy2:  0.5704 | acc_aug:  0.0 \n",
      "epoch: 11000 | loss: nan | accuracy: 089.33 % | accuracy2:  0.5696 | acc_aug:  0.0 \n",
      "epoch: 12000 | loss: nan | accuracy: 089.36 % | accuracy2:  0.5674 | acc_aug:  0.0 \n",
      "epoch: 13000 | loss: nan | accuracy: 089.38 % | accuracy2:  0.5668 | acc_aug:  0.0 \n",
      "epoch: 14000 | loss: nan | accuracy: 089.41 % | accuracy2:  0.5666 | acc_aug:  0.0 \n",
      "epoch: 15000 | loss: nan | accuracy: 089.42 % | accuracy2:  0.5652 | acc_aug:  0.0 \n",
      "latents:  10  s:  0.5652  fr:  0.4641  fs:  0.5186  rt:  0.5086\n"
     ]
    }
   ],
   "source": [
    "\n",
    "vae = VariationalAutoencoder(10).to(device) # GPU\n",
    "vae = train(vae, mnist_s)\n",
    "\n",
    "x_test_s, y_test_s = get_latents(test_mnist_s)\n",
    "y_test_s_oh = torch.nn.functional.one_hot(torch.tensor(y_test_s).long(), num_classes=10)\n",
    "\n",
    "x_test_fr, y_test_fr = get_latents(test_mnist_fr)\n",
    "y_test_fr_oh = torch.nn.functional.one_hot(torch.tensor(y_test_fr).long(), num_classes=10).clone().detach()\n",
    "\n",
    "x_test_fs, y_test_fs = get_latents(test_mnist_fs)\n",
    "y_test_fs_oh = torch.nn.functional.one_hot(torch.tensor(y_test_fs).long(), num_classes=10).clone().detach()\n",
    "\n",
    "x_test_rt, y_test_rt = get_latents(test_mnist_rt)\n",
    "y_test_rt_oh = torch.nn.functional.one_hot(torch.tensor(y_test_rt).long(), num_classes=10).clone().detach()\n",
    "\n",
    "#x_test_fr, y_test_fr = get_latents(testingdata2)\n",
    "#x_test_fs, y_test_fs = get_latents(testingdata3)\n",
    "#x_test_rt, y_test_rt = get_latents(testingdata4)\n",
    "#,\n",
    "# LOG REG \n",
    "#acc1, acc2 = log_reg_model(x_train_s,y_train_s_oh,x_test_s,y_test_s_oh)\n",
    "#print(acc1, acc2)\n",
    "\n",
    "\n",
    "x_train_s, y_train_s = get_latents(mnist_s)\n",
    "y_train_s_oh = torch.nn.functional.one_hot(torch.tensor(y_train_s).long(), num_classes=10)\n",
    "\n",
    "\n",
    "num = 128*2\n",
    "ten_acc2, ten_acc_fr,ten_acc_fs,ten_acc_rt  = log_reg_model(x_train_s[:num],y_train_s_oh[:num]\n",
    "                           ,x_test_s,y_test_s_oh,y_test_s\n",
    "                           ,x_test_fr,y_test_fr\n",
    "                          ,x_test_fs,y_test_fs\n",
    "                          ,x_test_rt,y_test_rt)   \n",
    "\n",
    "latents,acc2,acc_fr,acc_fs, acc_rt = 10, ten_acc2, ten_acc_fr,ten_acc_fs,ten_acc_rt\n",
    "print('latents: ',latents,' s: ',acc2,' fr: ', acc_fr,' fs: ', acc_fs,' rt: ',acc_rt)\n",
    "    "
   ]
  },
  {
   "cell_type": "code",
   "execution_count": 200,
   "id": "c06dd147-0fec-4603-8c5f-e70c3c68c174",
   "metadata": {
    "tags": []
   },
   "outputs": [],
   "source": [
    "#latents:  10  s:  0.5621  fr:  0.4612  fs:  0.4997  rt:  0.5053\n",
    "\n",
    "#x_train_s[:10]"
   ]
  },
  {
   "cell_type": "code",
   "execution_count": 199,
   "id": "21513090-36c4-4eb7-93cc-92912b5879f7",
   "metadata": {
    "tags": []
   },
   "outputs": [],
   "source": [
    "#for idx,(x, y) in enumerate(mnist_s):\n",
    "#            if idx < 10:\n",
    "#                print(len(x))\n",
    "\n"
   ]
  },
  {
   "cell_type": "code",
   "execution_count": null,
   "id": "e57354f9-ea54-4afc-a382-596f807c9922",
   "metadata": {},
   "outputs": [],
   "source": []
  },
  {
   "cell_type": "code",
   "execution_count": null,
   "id": "7f71a359-345f-4760-8fa8-ab7394025932",
   "metadata": {},
   "outputs": [],
   "source": []
  },
  {
   "cell_type": "code",
   "execution_count": null,
   "id": "aec0de06-f234-4221-a678-30927c664ed9",
   "metadata": {},
   "outputs": [],
   "source": []
  },
  {
   "cell_type": "code",
   "execution_count": null,
   "id": "5c8a9f7d-8f82-4ba5-8544-296b07d73f94",
   "metadata": {},
   "outputs": [],
   "source": [
    "#PCA\n"
   ]
  },
  {
   "cell_type": "code",
   "execution_count": 230,
   "id": "f603c882-9269-4dc8-9f96-47c1c8b99df7",
   "metadata": {
    "tags": []
   },
   "outputs": [],
   "source": [
    "from sklearn.decomposition import PCA\n",
    "import pandas as pd\n",
    "x_train_sNP = x_train_s.cpu().numpy()\n",
    "y_train_snp=y_train_s.numpy()\n",
    "pca = PCA(n_components=2)\n",
    "\n",
    "principalComponents = pca.fit_transform(x_train_sNP)\n"
   ]
  },
  {
   "cell_type": "code",
   "execution_count": 231,
   "id": "3dbf4889-ec85-48ed-a804-229d9dc8f606",
   "metadata": {
    "tags": []
   },
   "outputs": [],
   "source": [
    "label_color_dict = {0:'x',1:'o',2:'x',3:'0',4:'0',5:'0',6:'0',7:'0',8:'0',9:'0'}\n",
    "\n",
    "# Color vector creation\n",
    "cvec = [label_color_dict[label] for label in y_train_snp]"
   ]
  },
  {
   "cell_type": "code",
   "execution_count": 232,
   "id": "810543e6-bb47-4a19-a443-e46acd6de935",
   "metadata": {
    "tags": []
   },
   "outputs": [],
   "source": [
    "pc1 = [x1 for x1,x2 in principalComponents]\n",
    "pc2 = [x2 for x1,x2 in principalComponents]\n"
   ]
  },
  {
   "cell_type": "code",
   "execution_count": 238,
   "id": "d6dfa260-c8e4-4e8d-bed6-62c88b64c88e",
   "metadata": {
    "tags": []
   },
   "outputs": [
    {
     "ename": "NameError",
     "evalue": "name 'matplotlib' is not defined",
     "output_type": "error",
     "traceback": [
      "\u001b[0;31m---------------------------------------------------------------------------\u001b[0m",
      "\u001b[0;31mNameError\u001b[0m                                 Traceback (most recent call last)",
      "\u001b[0;32m/tmp/ipykernel_11114/2926382917.py\u001b[0m in \u001b[0;36m<module>\u001b[0;34m\u001b[0m\n\u001b[1;32m      1\u001b[0m \u001b[0;32mimport\u001b[0m \u001b[0mseaborn\u001b[0m \u001b[0;32mas\u001b[0m \u001b[0msns\u001b[0m\u001b[0;34m\u001b[0m\u001b[0;34m\u001b[0m\u001b[0m\n\u001b[0;32m----> 2\u001b[0;31m \u001b[0msns\u001b[0m\u001b[0;34m.\u001b[0m\u001b[0mscatterplot\u001b[0m\u001b[0;34m(\u001b[0m\u001b[0mx\u001b[0m\u001b[0;34m=\u001b[0m\u001b[0mpc1\u001b[0m\u001b[0;34m[\u001b[0m\u001b[0;34m:\u001b[0m\u001b[0;36m200\u001b[0m\u001b[0;34m]\u001b[0m\u001b[0;34m,\u001b[0m \u001b[0my\u001b[0m\u001b[0;34m=\u001b[0m\u001b[0mpc2\u001b[0m\u001b[0;34m[\u001b[0m\u001b[0;34m:\u001b[0m\u001b[0;36m200\u001b[0m\u001b[0;34m]\u001b[0m\u001b[0;34m,\u001b[0m \u001b[0mstyle\u001b[0m\u001b[0;34m=\u001b[0m\u001b[0my_train_snp\u001b[0m\u001b[0;34m[\u001b[0m\u001b[0;34m:\u001b[0m\u001b[0;36m200\u001b[0m\u001b[0;34m]\u001b[0m\u001b[0;34m,\u001b[0m\u001b[0mmarker\u001b[0m\u001b[0;34m=\u001b[0m\u001b[0mmatplotlib\u001b[0m\u001b[0;34m.\u001b[0m\u001b[0mmarkers\u001b[0m\u001b[0;34m.\u001b[0m\u001b[0mCARETDOWNBASE\u001b[0m\u001b[0;34m)\u001b[0m\u001b[0;34m\u001b[0m\u001b[0;34m\u001b[0m\u001b[0m\n\u001b[0m",
      "\u001b[0;31mNameError\u001b[0m: name 'matplotlib' is not defined"
     ]
    }
   ],
   "source": [
    "import seaborn as sns\n",
    "sns.scatterplot(x=pc1[:200], y=pc2[:200], style=y_train_snp[:200],palette=\"deep\")"
   ]
  },
  {
   "cell_type": "code",
   "execution_count": 240,
   "id": "6c2b55d8-b033-4208-862f-9ad9097a68ea",
   "metadata": {
    "tags": []
   },
   "outputs": [
    {
     "data": {
      "text/plain": [
       "<matplotlib.colorbar.Colorbar at 0x14ae7587b2e0>"
      ]
     },
     "execution_count": 240,
     "metadata": {},
     "output_type": "execute_result"
    },
    {
     "data": {
      "image/png": "[encoded data removed]",
      "text/plain": [
       "<Figure size 1280x960 with 2 Axes>"
      ]
     },
     "metadata": {},
     "output_type": "display_data"
    }
   ],
   "source": [
    "\n",
    "import matplotlib\n",
    "plt.scatter(pc1[:1000],pc2[:1000],c=y_train_snp[:1000],cmap='tab10',marker=matplotlib.markers.CARETDOWNBASE)\n",
    "plt.colorbar()"
   ]
  },
  {
   "cell_type": "code",
   "execution_count": null,
   "id": "cf0289ae-ca6b-4baf-a67a-d92af6911d28",
   "metadata": {},
   "outputs": [],
   "source": []
  },
  {
   "cell_type": "code",
   "execution_count": null,
   "id": "77362abc-dd91-49d3-9a7c-a4e14c818d78",
   "metadata": {},
   "outputs": [],
   "source": []
  },
  {
   "cell_type": "code",
   "execution_count": 175,
   "id": "8c6ef639-bc41-4024-adb5-6cdd1e3632f6",
   "metadata": {
    "tags": []
   },
   "outputs": [],
   "source": [
    "### TESTING SKLEARN\n",
    "\n",
    "\n",
    "\n",
    "\n",
    "x_train_sNP = x_train_s.cpu().numpy()\n",
    "y_train_s_ohNP = y_train_s_oh.numpy()\n",
    "y_train_snp=y_train_s.numpy()"
   ]
  },
  {
   "cell_type": "code",
   "execution_count": 166,
   "id": "77a111bc-e925-4c62-b16e-067768021775",
   "metadata": {
    "tags": []
   },
   "outputs": [],
   "source": [
    "x_test_snp = x_test_s.cpu().numpy()"
   ]
  },
  {
   "cell_type": "code",
   "execution_count": 167,
   "id": "0231f2a4-38a2-4b15-8df5-cbe4e36c30ec",
   "metadata": {
    "tags": []
   },
   "outputs": [],
   "source": [
    "y_test_snp = y_test_s.cpu().numpy()"
   ]
  },
  {
   "cell_type": "code",
   "execution_count": 176,
   "id": "55f1f703-b6df-42d6-bd28-ce44dd65d370",
   "metadata": {
    "tags": []
   },
   "outputs": [
    {
     "data": {
      "text/html": [
       "<style>#sk-container-id-7 {color: black;background-color: white;}#sk-container-id-7 pre{padding: 0;}#sk-container-id-7 div.sk-toggleable {background-color: white;}#sk-container-id-7 label.sk-toggleable__label {cursor: pointer;display: block;width: 100%;margin-bottom: 0;padding: 0.3em;box-sizing: border-box;text-align: center;}#sk-container-id-7 label.sk-toggleable__label-arrow:before {content: \"▸\";float: left;margin-right: 0.25em;color: #696969;}#sk-container-id-7 label.sk-toggleable__label-arrow:hover:before {color: black;}#sk-container-id-7 div.sk-estimator:hover label.sk-toggleable__label-arrow:before {color: black;}#sk-container-id-7 div.sk-toggleable__content {max-height: 0;max-width: 0;overflow: hidden;text-align: left;background-color: #f0f8ff;}#sk-container-id-7 div.sk-toggleable__content pre {margin: 0.2em;color: black;border-radius: 0.25em;background-color: #f0f8ff;}#sk-container-id-7 input.sk-toggleable__control:checked~div.sk-toggleable__content {max-height: 200px;max-width: 100%;overflow: auto;}#sk-container-id-7 input.sk-toggleable__control:checked~label.sk-toggleable__label-arrow:before {content: \"▾\";}#sk-container-id-7 div.sk-estimator input.sk-toggleable__control:checked~label.sk-toggleable__label {background-color: #d4ebff;}#sk-container-id-7 div.sk-label input.sk-toggleable__control:checked~label.sk-toggleable__label {background-color: #d4ebff;}#sk-container-id-7 input.sk-hidden--visually {border: 0;clip: rect(1px 1px 1px 1px);clip: rect(1px, 1px, 1px, 1px);height: 1px;margin: -1px;overflow: hidden;padding: 0;position: absolute;width: 1px;}#sk-container-id-7 div.sk-estimator {font-family: monospace;background-color: #f0f8ff;border: 1px dotted black;border-radius: 0.25em;box-sizing: border-box;margin-bottom: 0.5em;}#sk-container-id-7 div.sk-estimator:hover {background-color: #d4ebff;}#sk-container-id-7 div.sk-parallel-item::after {content: \"\";width: 100%;border-bottom: 1px solid gray;flex-grow: 1;}#sk-container-id-7 div.sk-label:hover label.sk-toggleable__label {background-color: #d4ebff;}#sk-container-id-7 div.sk-serial::before {content: \"\";position: absolute;border-left: 1px solid gray;box-sizing: border-box;top: 0;bottom: 0;left: 50%;z-index: 0;}#sk-container-id-7 div.sk-serial {display: flex;flex-direction: column;align-items: center;background-color: white;padding-right: 0.2em;padding-left: 0.2em;position: relative;}#sk-container-id-7 div.sk-item {position: relative;z-index: 1;}#sk-container-id-7 div.sk-parallel {display: flex;align-items: stretch;justify-content: center;background-color: white;position: relative;}#sk-container-id-7 div.sk-item::before, #sk-container-id-7 div.sk-parallel-item::before {content: \"\";position: absolute;border-left: 1px solid gray;box-sizing: border-box;top: 0;bottom: 0;left: 50%;z-index: -1;}#sk-container-id-7 div.sk-parallel-item {display: flex;flex-direction: column;z-index: 1;position: relative;background-color: white;}#sk-container-id-7 div.sk-parallel-item:first-child::after {align-self: flex-end;width: 50%;}#sk-container-id-7 div.sk-parallel-item:last-child::after {align-self: flex-start;width: 50%;}#sk-container-id-7 div.sk-parallel-item:only-child::after {width: 0;}#sk-container-id-7 div.sk-dashed-wrapped {border: 1px dashed gray;margin: 0 0.4em 0.5em 0.4em;box-sizing: border-box;padding-bottom: 0.4em;background-color: white;}#sk-container-id-7 div.sk-label label {font-family: monospace;font-weight: bold;display: inline-block;line-height: 1.2em;}#sk-container-id-7 div.sk-label-container {text-align: center;}#sk-container-id-7 div.sk-container {/* jupyter's `normalize.less` sets `[hidden] { display: none; }` but bootstrap.min.css set `[hidden] { display: none !important; }` so we also need the `!important` here to be able to override the default hidden behavior on the sphinx rendered scikit-learn.org. See: https://github.com/scikit-learn/scikit-learn/issues/21755 */display: inline-block !important;position: relative;}#sk-container-id-7 div.sk-text-repr-fallback {display: none;}</style><div id=\"sk-container-id-7\" class=\"sk-top-container\"><div class=\"sk-text-repr-fallback\"><pre>LogisticRegression(random_state=16)</pre><b>In a Jupyter environment, please rerun this cell to show the HTML representation or trust the notebook. <br />On GitHub, the HTML representation is unable to render, please try loading this page with nbviewer.org.</b></div><div class=\"sk-container\" hidden><div class=\"sk-item\"><div class=\"sk-estimator sk-toggleable\"><input class=\"sk-toggleable__control sk-hidden--visually\" id=\"sk-estimator-id-7\" type=\"checkbox\" checked><label for=\"sk-estimator-id-7\" class=\"sk-toggleable__label sk-toggleable__label-arrow\">LogisticRegression</label><div class=\"sk-toggleable__content\"><pre>LogisticRegression(random_state=16)</pre></div></div></div></div></div>"
      ],
      "text/plain": [
       "LogisticRegression(random_state=16)"
      ]
     },
     "execution_count": 176,
     "metadata": {},
     "output_type": "execute_result"
    }
   ],
   "source": [
    "\n",
    "from sklearn.linear_model import LogisticRegression\n",
    "\n",
    "# instantiate the model (using the default parameters)\n",
    "logreg = LogisticRegression(random_state=16)\n",
    "\n",
    "# fit the model with data\n",
    "logreg.fit(x_train_sNP[:1000], y_train_snp[:1000])"
   ]
  },
  {
   "cell_type": "code",
   "execution_count": 177,
   "id": "0dde3f1c-80c9-4410-99fb-f13afee84e61",
   "metadata": {
    "tags": []
   },
   "outputs": [],
   "source": [
    "y_pred = logreg.predict(x_test_snp)"
   ]
  },
  {
   "cell_type": "code",
   "execution_count": 178,
   "id": "3dce7a54-6a88-4935-9705-9a6bb34d0280",
   "metadata": {
    "tags": []
   },
   "outputs": [
    {
     "data": {
      "text/plain": [
       "array([[ 912,    0,   15,    7,    4,    7,   17,    5,    6,    7],\n",
       "       [   0, 1047,   22,    4,    2,    9,    7,   18,   19,    7],\n",
       "       [  17,   27,  871,    9,   13,    2,   13,   35,   41,    4],\n",
       "       [  19,    6,   48,  818,    1,   62,    5,    9,   36,    6],\n",
       "       [   0,    6,   15,    4,  811,    2,   18,    7,    2,  117],\n",
       "       [  23,   20,    5,   38,    9,  687,   30,    2,   67,   11],\n",
       "       [   8,   25,   39,    2,   14,   34,  830,    1,    5,    0],\n",
       "       [   2,   18,   33,    2,    7,    6,    0,  892,    4,   64],\n",
       "       [  10,    4,   69,   24,    5,   17,    6,    8,  789,   42],\n",
       "       [   6,    6,   28,    9,   55,    6,    2,   63,    7,  827]])"
      ]
     },
     "execution_count": 178,
     "metadata": {},
     "output_type": "execute_result"
    }
   ],
   "source": [
    "from sklearn import metrics\n",
    "\n",
    "cnf_matrix = metrics.confusion_matrix(y_test_snp, y_pred)\n",
    "cnf_matrix\n",
    "\n"
   ]
  },
  {
   "cell_type": "code",
   "execution_count": 179,
   "id": "6ea9cb16-92fa-442a-8028-4db86f7909ef",
   "metadata": {
    "tags": []
   },
   "outputs": [
    {
     "name": "stdout",
     "output_type": "stream",
     "text": [
      "0.8484\n"
     ]
    }
   ],
   "source": [
    "count=0\n",
    "for a,b in zip(y_test_snp, y_pred):\n",
    "    if a ==b:\n",
    "        #print(a,b)\n",
    "        count+=1\n",
    "print(count/len(y_test_snp))"
   ]
  },
  {
   "cell_type": "code",
   "execution_count": 180,
   "id": "0590de7f-7d78-4b69-8645-d7b8c76fa136",
   "metadata": {
    "tags": []
   },
   "outputs": [
    {
     "data": {
      "text/plain": [
       "array([[864,   1,  30,  12,   7,  18,  18,   8,   7,  15],\n",
       "       [  0, 960,  63,   7,   2,  57,   4,  10,  30,   2],\n",
       "       [ 21,  28, 800,  26,  30,   7,  22,  37,  52,   9],\n",
       "       [ 19,   3,  69, 748,   2, 102,   8,   8,  43,   8],\n",
       "       [  2,  10,  54,   5, 722,   6,  22,  17,   8, 136],\n",
       "       [ 30,  22,   8,  36,  24, 627,  54,   5,  76,  10],\n",
       "       [  7,  21,  60,   4,  20,  63, 768,   5,   8,   2],\n",
       "       [  9,  12,  58,   9,  29,   6,   0, 786,   4, 115],\n",
       "       [ 13,  13, 118,  25,  12,  21,  13,  10, 696,  53],\n",
       "       [  6,   9,  57,   3,  71,  11,   5, 116,   9, 722]])"
      ]
     },
     "execution_count": 180,
     "metadata": {},
     "output_type": "execute_result"
    }
   ],
   "source": [
    "\n",
    "x_test_rtnp = x_test_rt.cpu().numpy()\n",
    "y_test_rtnp =  y_test_rt.numpy()\n",
    "\n",
    "\n",
    "y_pred2 = logreg.predict(x_test_rtnp)\n",
    "\n",
    "\n",
    "cnf_matrix = metrics.confusion_matrix(y_test_rtnp, y_pred2)\n",
    "cnf_matrix\n",
    "\n"
   ]
  },
  {
   "cell_type": "code",
   "execution_count": 181,
   "id": "4b0ac7cb-d73a-43a1-94ef-f2ccbf84ea86",
   "metadata": {
    "tags": []
   },
   "outputs": [
    {
     "name": "stdout",
     "output_type": "stream",
     "text": [
      "0.7693\n"
     ]
    }
   ],
   "source": [
    "count=0\n",
    "for a,b in zip(y_test_rtnp, y_pred2):\n",
    "    if a ==b:\n",
    "        #print(a,b)\n",
    "        count+=1\n",
    "print(count/len(y_test_snp))"
   ]
  },
  {
   "cell_type": "code",
   "execution_count": 174,
   "id": "948b7a2e-a66b-42d2-a13f-ba3c1d211724",
   "metadata": {
    "tags": []
   },
   "outputs": [],
   "source": [
    "#7343 originally..."
   ]
  },
  {
   "cell_type": "code",
   "execution_count": null,
   "id": "c1464427-d0dd-4ff8-9e8c-4203db7e97ff",
   "metadata": {},
   "outputs": [],
   "source": []
  },
  {
   "cell_type": "code",
   "execution_count": 31,
   "id": "7e898489-2ff8-4ae0-a2b9-4c6c8c057bf9",
   "metadata": {
    "tags": []
   },
   "outputs": [
    {
     "name": "stderr",
     "output_type": "stream",
     "text": [
      "/tmp/ipykernel_7549/2988415686.py:16: UserWarning: To copy construct from a tensor, it is recommended to use sourceTensor.clone().detach() or sourceTensor.clone().detach().requires_grad_(True), rather than torch.tensor(sourceTensor).\n",
      "  x_train = torch.tensor(x_latent_data)\n",
      "/tmp/ipykernel_7549/3769501855.py:5: UserWarning: To copy construct from a tensor, it is recommended to use sourceTensor.clone().detach() or sourceTensor.clone().detach().requires_grad_(True), rather than torch.tensor(sourceTensor).\n",
      "  y_test_s_oh = torch.nn.functional.one_hot(torch.tensor(y_test_s).long(), num_classes=10)\n",
      "/tmp/ipykernel_7549/3769501855.py:8: UserWarning: To copy construct from a tensor, it is recommended to use sourceTensor.clone().detach() or sourceTensor.clone().detach().requires_grad_(True), rather than torch.tensor(sourceTensor).\n",
      "  y_test_fr_oh = torch.nn.functional.one_hot(torch.tensor(y_test_fr).long(), num_classes=10).clone().detach()\n",
      "/tmp/ipykernel_7549/3769501855.py:11: UserWarning: To copy construct from a tensor, it is recommended to use sourceTensor.clone().detach() or sourceTensor.clone().detach().requires_grad_(True), rather than torch.tensor(sourceTensor).\n",
      "  y_test_fs_oh = torch.nn.functional.one_hot(torch.tensor(y_test_fs).long(), num_classes=10).clone().detach()\n",
      "/tmp/ipykernel_7549/3769501855.py:14: UserWarning: To copy construct from a tensor, it is recommended to use sourceTensor.clone().detach() or sourceTensor.clone().detach().requires_grad_(True), rather than torch.tensor(sourceTensor).\n",
      "  y_test_rt_oh = torch.nn.functional.one_hot(torch.tensor(y_test_rt).long(), num_classes=10).clone().detach()\n",
      "/tmp/ipykernel_7549/3769501855.py:26: UserWarning: To copy construct from a tensor, it is recommended to use sourceTensor.clone().detach() or sourceTensor.clone().detach().requires_grad_(True), rather than torch.tensor(sourceTensor).\n",
      "  y_train_s_oh = torch.nn.functional.one_hot(torch.tensor(y_train_s).long(), num_classes=10)\n",
      "/tmp/ipykernel_7549/3769501855.py:30: UserWarning: To copy construct from a tensor, it is recommended to use sourceTensor.clone().detach() or sourceTensor.clone().detach().requires_grad_(True), rather than torch.tensor(sourceTensor).\n",
      "  y_train_rt_oh = torch.nn.functional.one_hot(torch.tensor(y_train_rt).long(), num_classes=10)\n"
     ]
    },
    {
     "name": "stdout",
     "output_type": "stream",
     "text": [
      "60000 50\n",
      "epoch: 1000 | loss: 1.095 | accuracy: 089.34 % | accuracy2:  0.7877 | acc_aug:  0.0 \n",
      "epoch: 2000 | loss: 0.953 | accuracy: 091.19 % | accuracy2:  0.791 | acc_aug:  0.0 \n",
      "epoch: 3000 | loss: 0.905 | accuracy: 091.93 % | accuracy2:  0.7921 | acc_aug:  0.0 \n",
      "epoch: 4000 | loss: 0.880 | accuracy: 092.34 % | accuracy2:  0.7939 | acc_aug:  0.0 \n",
      "epoch: 5000 | loss: 0.866 | accuracy: 092.59 % | accuracy2:  0.7949 | acc_aug:  0.0 \n",
      "epoch: 6000 | loss: 0.857 | accuracy: 092.76 % | accuracy2:  0.7954 | acc_aug:  0.0 \n",
      "epoch: 7000 | loss: 0.851 | accuracy: 092.88 % | accuracy2:  0.7957 | acc_aug:  0.0 \n",
      "epoch: 8000 | loss: 0.847 | accuracy: 092.98 % | accuracy2:  0.7958 | acc_aug:  0.0 \n",
      "epoch: 9000 | loss: 0.843 | accuracy: 093.05 % | accuracy2:  0.7971 | acc_aug:  0.0 \n",
      "epoch: 10000 | loss: 0.841 | accuracy: 093.11 % | accuracy2:  0.7978 | acc_aug:  0.0 \n",
      "epoch: 11000 | loss: 0.839 | accuracy: 093.16 % | accuracy2:  0.7981 | acc_aug:  0.0 \n",
      "epoch: 12000 | loss: 0.837 | accuracy: 093.20 % | accuracy2:  0.7986 | acc_aug:  0.0 \n",
      "epoch: 13000 | loss: 0.836 | accuracy: 093.24 % | accuracy2:  0.7984 | acc_aug:  0.0 \n",
      "epoch: 14000 | loss: 0.835 | accuracy: 093.26 % | accuracy2:  0.7981 | acc_aug:  0.0 \n",
      "epoch: 15000 | loss: 0.834 | accuracy: 093.29 % | accuracy2:  0.7982 | acc_aug:  0.0 \n",
      "latents:  50  s:  0.7982  fr:  0.7559  fs:  0.7637  rt:  0.7099\n"
     ]
    }
   ],
   "source": [
    "\n",
    "vae = VariationalAutoencoder(50).to(device) # GPU\n",
    "vae = train(vae, mnist_rt)\n",
    "\n",
    "x_test_s, y_test_s = get_latents(test_mnist_s)\n",
    "y_test_s_oh = torch.nn.functional.one_hot(torch.tensor(y_test_s).long(), num_classes=10)\n",
    "\n",
    "x_test_fr, y_test_fr = get_latents(test_mnist_fr)\n",
    "y_test_fr_oh = torch.nn.functional.one_hot(torch.tensor(y_test_fr).long(), num_classes=10).clone().detach()\n",
    "\n",
    "x_test_fs, y_test_fs = get_latents(test_mnist_fs)\n",
    "y_test_fs_oh = torch.nn.functional.one_hot(torch.tensor(y_test_fs).long(), num_classes=10).clone().detach()\n",
    "\n",
    "x_test_rt, y_test_rt = get_latents(test_mnist_rt)\n",
    "y_test_rt_oh = torch.nn.functional.one_hot(torch.tensor(y_test_rt).long(), num_classes=10).clone().detach()\n",
    "\n",
    "#x_test_fr, y_test_fr = get_latents(testingdata2)\n",
    "#x_test_fs, y_test_fs = get_latents(testingdata3)\n",
    "#x_test_rt, y_test_rt = get_latents(testingdata4)\n",
    "#,\n",
    "# LOG REG \n",
    "#acc1, acc2 = log_reg_model(x_train_s,y_train_s_oh,x_test_s,y_test_s_oh)\n",
    "#print(acc1, acc2)\n",
    "\n",
    "\n",
    "x_train_s, y_train_s = get_latents(mnist_rt)\n",
    "y_train_s_oh = torch.nn.functional.one_hot(torch.tensor(y_train_s).long(), num_classes=10)\n",
    "\n",
    "\n",
    "x_train_rt, y_train_rt = get_latents(mnist_rt)\n",
    "y_train_rt_oh = torch.nn.functional.one_hot(torch.tensor(y_train_rt).long(), num_classes=10)\n",
    "\n",
    "\n",
    "fifty_acc2, fifty_acc_fr,fifty_acc_fs,fifty_acc_rt  = log_reg_model(x_train_rt,y_train_rt_oh\n",
    "                           ,x_test_s,y_test_s_oh,y_test_s\n",
    "                           ,x_test_fr,y_test_fr\n",
    "                          ,x_test_fs,y_test_fs\n",
    "                          ,x_test_rt,y_test_rt)   \n",
    "\n",
    "latents,acc2,acc_fr,acc_fs, acc_rt = 50, fifty_acc2, fifty_acc_fr,fifty_acc_fs,fifty_acc_rt    \n",
    "print('latents: ',latents,' s: ',acc2,' fr: ', acc_fr,' fs: ', acc_fs,' rt: ',acc_rt)\n",
    "    "
   ]
  },
  {
   "cell_type": "code",
   "execution_count": 30,
   "id": "e237c669-6a20-476b-8a6d-175da2dd3c33",
   "metadata": {
    "tags": []
   },
   "outputs": [
    {
     "name": "stderr",
     "output_type": "stream",
     "text": [
      "/tmp/ipykernel_7549/2988415686.py:16: UserWarning: To copy construct from a tensor, it is recommended to use sourceTensor.clone().detach() or sourceTensor.clone().detach().requires_grad_(True), rather than torch.tensor(sourceTensor).\n",
      "  x_train = torch.tensor(x_latent_data)\n",
      "/tmp/ipykernel_7549/137651380.py:5: UserWarning: To copy construct from a tensor, it is recommended to use sourceTensor.clone().detach() or sourceTensor.clone().detach().requires_grad_(True), rather than torch.tensor(sourceTensor).\n",
      "  y_test_s_oh = torch.nn.functional.one_hot(torch.tensor(y_test_s).long(), num_classes=10)\n",
      "/tmp/ipykernel_7549/137651380.py:8: UserWarning: To copy construct from a tensor, it is recommended to use sourceTensor.clone().detach() or sourceTensor.clone().detach().requires_grad_(True), rather than torch.tensor(sourceTensor).\n",
      "  y_test_fr_oh = torch.nn.functional.one_hot(torch.tensor(y_test_fr).long(), num_classes=10).clone().detach()\n",
      "/tmp/ipykernel_7549/137651380.py:11: UserWarning: To copy construct from a tensor, it is recommended to use sourceTensor.clone().detach() or sourceTensor.clone().detach().requires_grad_(True), rather than torch.tensor(sourceTensor).\n",
      "  y_test_fs_oh = torch.nn.functional.one_hot(torch.tensor(y_test_fs).long(), num_classes=10).clone().detach()\n",
      "/tmp/ipykernel_7549/137651380.py:14: UserWarning: To copy construct from a tensor, it is recommended to use sourceTensor.clone().detach() or sourceTensor.clone().detach().requires_grad_(True), rather than torch.tensor(sourceTensor).\n",
      "  y_test_rt_oh = torch.nn.functional.one_hot(torch.tensor(y_test_rt).long(), num_classes=10).clone().detach()\n",
      "/tmp/ipykernel_7549/137651380.py:26: UserWarning: To copy construct from a tensor, it is recommended to use sourceTensor.clone().detach() or sourceTensor.clone().detach().requires_grad_(True), rather than torch.tensor(sourceTensor).\n",
      "  y_train_s_oh = torch.nn.functional.one_hot(torch.tensor(y_train_s).long(), num_classes=10)\n",
      "/tmp/ipykernel_7549/137651380.py:30: UserWarning: To copy construct from a tensor, it is recommended to use sourceTensor.clone().detach() or sourceTensor.clone().detach().requires_grad_(True), rather than torch.tensor(sourceTensor).\n",
      "  y_train_rt_oh = torch.nn.functional.one_hot(torch.tensor(y_train_rt).long(), num_classes=10)\n"
     ]
    },
    {
     "name": "stdout",
     "output_type": "stream",
     "text": [
      "60000 100\n",
      "epoch: 1000 | loss: 1.082 | accuracy: 089.38 % | accuracy2:  0.7806 | acc_aug:  0.0 \n",
      "epoch: 2000 | loss: 0.939 | accuracy: 091.20 % | accuracy2:  0.7877 | acc_aug:  0.0 \n",
      "epoch: 3000 | loss: 0.890 | accuracy: 091.94 % | accuracy2:  0.7914 | acc_aug:  0.0 \n",
      "epoch: 4000 | loss: 0.865 | accuracy: 092.34 % | accuracy2:  0.7932 | acc_aug:  0.0 \n",
      "epoch: 5000 | loss: 0.851 | accuracy: 092.59 % | accuracy2:  0.7933 | acc_aug:  0.0 \n",
      "epoch: 6000 | loss: 0.842 | accuracy: 092.76 % | accuracy2:  0.7939 | acc_aug:  0.0 \n",
      "epoch: 7000 | loss: 0.835 | accuracy: 092.89 % | accuracy2:  0.7947 | acc_aug:  0.0 \n",
      "epoch: 8000 | loss: 0.830 | accuracy: 092.98 % | accuracy2:  0.7955 | acc_aug:  0.0 \n",
      "epoch: 9000 | loss: 0.827 | accuracy: 093.06 % | accuracy2:  0.7964 | acc_aug:  0.0 \n",
      "epoch: 10000 | loss: 0.824 | accuracy: 093.12 % | accuracy2:  0.7973 | acc_aug:  0.0 \n",
      "epoch: 11000 | loss: 0.822 | accuracy: 093.17 % | accuracy2:  0.7972 | acc_aug:  0.0 \n",
      "epoch: 12000 | loss: 0.820 | accuracy: 093.21 % | accuracy2:  0.7972 | acc_aug:  0.0 \n",
      "epoch: 13000 | loss: 0.819 | accuracy: 093.24 % | accuracy2:  0.7977 | acc_aug:  0.0 \n",
      "epoch: 14000 | loss: 0.818 | accuracy: 093.27 % | accuracy2:  0.7978 | acc_aug:  0.0 \n",
      "epoch: 15000 | loss: 0.817 | accuracy: 093.30 % | accuracy2:  0.7979 | acc_aug:  0.0 \n",
      "latents:  100  s:  0.7979  fr:  0.7544  fs:  0.7687  rt:  0.7053\n"
     ]
    }
   ],
   "source": [
    "\n",
    "vae = VariationalAutoencoder(100).to(device) # GPU\n",
    "vae = train(vae, mnist_rt)\n",
    "\n",
    "x_test_s, y_test_s = get_latents(test_mnist_s)\n",
    "y_test_s_oh = torch.nn.functional.one_hot(torch.tensor(y_test_s).long(), num_classes=10)\n",
    "\n",
    "x_test_fr, y_test_fr = get_latents(test_mnist_fr)\n",
    "y_test_fr_oh = torch.nn.functional.one_hot(torch.tensor(y_test_fr).long(), num_classes=10).clone().detach()\n",
    "\n",
    "x_test_fs, y_test_fs = get_latents(test_mnist_fs)\n",
    "y_test_fs_oh = torch.nn.functional.one_hot(torch.tensor(y_test_fs).long(), num_classes=10).clone().detach()\n",
    "\n",
    "x_test_rt, y_test_rt = get_latents(test_mnist_rt)\n",
    "y_test_rt_oh = torch.nn.functional.one_hot(torch.tensor(y_test_rt).long(), num_classes=10).clone().detach()\n",
    "\n",
    "#x_test_fr, y_test_fr = get_latents(testingdata2)\n",
    "#x_test_fs, y_test_fs = get_latents(testingdata3)\n",
    "#x_test_rt, y_test_rt = get_latents(testingdata4)\n",
    "#,\n",
    "# LOG REG \n",
    "#acc1, acc2 = log_reg_model(x_train_s,y_train_s_oh,x_test_s,y_test_s_oh)\n",
    "#print(acc1, acc2)\n",
    "\n",
    "\n",
    "x_train_s, y_train_s = get_latents(mnist_s)\n",
    "y_train_s_oh = torch.nn.functional.one_hot(torch.tensor(y_train_s).long(), num_classes=10)\n",
    "\n",
    "\n",
    "x_train_rt, y_train_rt = get_latents(mnist_rt)\n",
    "y_train_rt_oh = torch.nn.functional.one_hot(torch.tensor(y_train_rt).long(), num_classes=10)\n",
    "\n",
    "\n",
    "\n",
    "\n",
    "hunn_acc2, hunn_acc_fr,hunn_acc_fs,hunn_acc_rt   = log_reg_model(x_train_rt,y_train_rt_oh\n",
    "                           ,x_test_s,y_test_s_oh,y_test_s\n",
    "                           ,x_test_fr,y_test_fr\n",
    "                          ,x_test_fs,y_test_fs\n",
    "                          ,x_test_rt,y_test_rt)   \n",
    "\n",
    "latents,acc2,acc_fr,acc_fs, acc_rt = 100, hunn_acc2, hunn_acc_fr,hunn_acc_fs,hunn_acc_rt \n",
    "print('latents: ',latents,' s: ',acc2,' fr: ', acc_fr,' fs: ', acc_fs,' rt: ',acc_rt)\n",
    "    "
   ]
  },
  {
   "cell_type": "code",
   "execution_count": 28,
   "id": "c8feb4a2-9a11-4982-b166-bdd4cacce471",
   "metadata": {
    "tags": []
   },
   "outputs": [
    {
     "name": "stderr",
     "output_type": "stream",
     "text": [
      "/tmp/ipykernel_7549/2988415686.py:16: UserWarning: To copy construct from a tensor, it is recommended to use sourceTensor.clone().detach() or sourceTensor.clone().detach().requires_grad_(True), rather than torch.tensor(sourceTensor).\n",
      "  x_train = torch.tensor(x_latent_data)\n",
      "/tmp/ipykernel_7549/3439943303.py:5: UserWarning: To copy construct from a tensor, it is recommended to use sourceTensor.clone().detach() or sourceTensor.clone().detach().requires_grad_(True), rather than torch.tensor(sourceTensor).\n",
      "  y_test_s_oh = torch.nn.functional.one_hot(torch.tensor(y_test_s).long(), num_classes=10)\n",
      "/tmp/ipykernel_7549/3439943303.py:8: UserWarning: To copy construct from a tensor, it is recommended to use sourceTensor.clone().detach() or sourceTensor.clone().detach().requires_grad_(True), rather than torch.tensor(sourceTensor).\n",
      "  y_test_fr_oh = torch.nn.functional.one_hot(torch.tensor(y_test_fr).long(), num_classes=10).clone().detach()\n",
      "/tmp/ipykernel_7549/3439943303.py:11: UserWarning: To copy construct from a tensor, it is recommended to use sourceTensor.clone().detach() or sourceTensor.clone().detach().requires_grad_(True), rather than torch.tensor(sourceTensor).\n",
      "  y_test_fs_oh = torch.nn.functional.one_hot(torch.tensor(y_test_fs).long(), num_classes=10).clone().detach()\n",
      "/tmp/ipykernel_7549/3439943303.py:14: UserWarning: To copy construct from a tensor, it is recommended to use sourceTensor.clone().detach() or sourceTensor.clone().detach().requires_grad_(True), rather than torch.tensor(sourceTensor).\n",
      "  y_test_rt_oh = torch.nn.functional.one_hot(torch.tensor(y_test_rt).long(), num_classes=10).clone().detach()\n",
      "/tmp/ipykernel_7549/3439943303.py:26: UserWarning: To copy construct from a tensor, it is recommended to use sourceTensor.clone().detach() or sourceTensor.clone().detach().requires_grad_(True), rather than torch.tensor(sourceTensor).\n",
      "  y_train_s_oh = torch.nn.functional.one_hot(torch.tensor(y_train_s).long(), num_classes=10)\n"
     ]
    },
    {
     "name": "stdout",
     "output_type": "stream",
     "text": [
      "60000 50\n",
      "epoch: 1000 | loss: 0.969 | accuracy: 089.34 % | accuracy2:  0.7781 | acc_aug:  0.0 \n",
      "epoch: 2000 | loss: 0.813 | accuracy: 091.20 % | accuracy2:  0.785 | acc_aug:  0.0 \n",
      "epoch: 3000 | loss: 0.758 | accuracy: 091.97 % | accuracy2:  0.7868 | acc_aug:  0.0 \n",
      "epoch: 4000 | loss: 0.729 | accuracy: 092.40 % | accuracy2:  0.7891 | acc_aug:  0.0 \n",
      "epoch: 5000 | loss: 0.712 | accuracy: 092.67 % | accuracy2:  0.79 | acc_aug:  0.0 \n",
      "epoch: 6000 | loss: 0.700 | accuracy: 092.86 % | accuracy2:  0.7915 | acc_aug:  0.0 \n",
      "epoch: 7000 | loss: 0.692 | accuracy: 093.00 % | accuracy2:  0.7922 | acc_aug:  0.0 \n",
      "epoch: 8000 | loss: 0.686 | accuracy: 093.11 % | accuracy2:  0.7928 | acc_aug:  0.0 \n",
      "epoch: 9000 | loss: 0.681 | accuracy: 093.20 % | accuracy2:  0.7938 | acc_aug:  0.0 \n",
      "epoch: 10000 | loss: 0.677 | accuracy: 093.27 % | accuracy2:  0.7944 | acc_aug:  0.0 \n",
      "epoch: 11000 | loss: 0.674 | accuracy: 093.33 % | accuracy2:  0.7952 | acc_aug:  0.0 \n",
      "epoch: 12000 | loss: 0.672 | accuracy: 093.38 % | accuracy2:  0.7959 | acc_aug:  0.0 \n",
      "epoch: 13000 | loss: 0.669 | accuracy: 093.43 % | accuracy2:  0.7962 | acc_aug:  0.0 \n",
      "epoch: 14000 | loss: 0.668 | accuracy: 093.46 % | accuracy2:  0.7962 | acc_aug:  0.0 \n",
      "epoch: 15000 | loss: 0.666 | accuracy: 093.50 % | accuracy2:  0.7964 | acc_aug:  0.0 \n",
      "latents:  50  s:  0.7964  fr:  0.7428  fs:  0.7518  rt:  0.6879\n"
     ]
    }
   ],
   "source": [
    "\n",
    "vae = VariationalAutoencoder(50).to(device) # GPU\n",
    "vae = train(vae, mnist_rt2)\n",
    "\n",
    "x_test_s, y_test_s = get_latents(test_mnist_s)\n",
    "y_test_s_oh = torch.nn.functional.one_hot(torch.tensor(y_test_s).long(), num_classes=10)\n",
    "\n",
    "x_test_fr, y_test_fr = get_latents(test_mnist_fr)\n",
    "y_test_fr_oh = torch.nn.functional.one_hot(torch.tensor(y_test_fr).long(), num_classes=10).clone().detach()\n",
    "\n",
    "x_test_fs, y_test_fs = get_latents(test_mnist_fs)\n",
    "y_test_fs_oh = torch.nn.functional.one_hot(torch.tensor(y_test_fs).long(), num_classes=10).clone().detach()\n",
    "\n",
    "x_test_rt, y_test_rt = get_latents(test_mnist_rt)\n",
    "y_test_rt_oh = torch.nn.functional.one_hot(torch.tensor(y_test_rt).long(), num_classes=10).clone().detach()\n",
    "\n",
    "#x_test_fr, y_test_fr = get_latents(testingdata2)\n",
    "#x_test_fs, y_test_fs = get_latents(testingdata3)\n",
    "#x_test_rt, y_test_rt = get_latents(testingdata4)\n",
    "#,\n",
    "# LOG REG \n",
    "#acc1, acc2 = log_reg_model(x_train_s,y_train_s_oh,x_test_s,y_test_s_oh)\n",
    "#print(acc1, acc2)\n",
    "\n",
    "\n",
    "x_train_s, y_train_s = get_latents(mnist_rt2)\n",
    "y_train_s_oh = torch.nn.functional.one_hot(torch.tensor(y_train_s).long(), num_classes=10)\n",
    "\n",
    "\n",
    "fifty_acc2, fifty_acc_fr,fifty_acc_fs,fifty_acc_rt  = log_reg_model(x_train_s,y_train_s_oh\n",
    "                           ,x_test_s,y_test_s_oh,y_test_s\n",
    "                           ,x_test_fr,y_test_fr\n",
    "                          ,x_test_fs,y_test_fs\n",
    "                          ,x_test_rt,y_test_rt)   \n",
    "\n",
    "latents,acc2,acc_fr,acc_fs, acc_rt = 50, fifty_acc2, fifty_acc_fr,fifty_acc_fs,fifty_acc_rt    \n",
    "print('latents: ',latents,' s: ',acc2,' fr: ', acc_fr,' fs: ', acc_fs,' rt: ',acc_rt)\n",
    "    "
   ]
  },
  {
   "cell_type": "code",
   "execution_count": null,
   "id": "2c1d6ac8-16c9-4c75-ac3a-9afbe8c737ce",
   "metadata": {},
   "outputs": [],
   "source": []
  },
  {
   "cell_type": "code",
   "execution_count": null,
   "id": "1bf4f25b-f926-4ea8-a384-f52f1625636b",
   "metadata": {},
   "outputs": [],
   "source": []
  },
  {
   "cell_type": "code",
   "execution_count": null,
   "id": "eaa06129-1753-4452-a897-334273850ec0",
   "metadata": {},
   "outputs": [],
   "source": []
  },
  {
   "cell_type": "code",
   "execution_count": null,
   "id": "e9c01963-50f9-40f5-abc9-df531d603f01",
   "metadata": {},
   "outputs": [],
   "source": [
    "## MAY be worth switching to sklearn\n"
   ]
  },
  {
   "cell_type": "code",
   "execution_count": 20,
   "id": "413aa97c-eb00-4eed-96e5-e0acc7e0113f",
   "metadata": {
    "tags": []
   },
   "outputs": [
    {
     "name": "stdout",
     "output_type": "stream",
     "text": [
      "latents:  10  s:  0.7924  fr:  0.7274  fs:  0.7521  rt:  0.7512\n",
      "latents:  20  s:  0.7928  fr:  0.7489  fs:  0.7449  rt:  0.7512\n",
      "latents:  50  s:  0.7914  fr:  0.7323  fs:  0.7506  rt:  0.7517\n",
      "latents:  100  s:  0.7922  fr:  0.7428  fs:  0.7513  rt:  0.7544\n"
     ]
    }
   ],
   "source": [
    "\n",
    "latents,acc2,acc_fr,acc_fs, acc_rt = 10, ten_acc2, ten_acc_fr,ten_acc_fs,ten_acc_rt\n",
    "print('latents: ',latents,' s: ',acc2,' fr: ', acc_fr,' fs: ', acc_fs,' rt: ',acc_rt)\n",
    "\n",
    "latents,acc2,acc_fr,acc_fs, acc_rt = 20, twen_acc2, twen_acc_fr,twen_acc_fs,twen_acc_rt\n",
    "print('latents: ',latents,' s: ',acc2,' fr: ', acc_fr,' fs: ', acc_fs,' rt: ',acc_rt)\n",
    "\n",
    "\n",
    "latents,acc2,acc_fr,acc_fs, acc_rt = 50, fifty_acc2, fifty_acc_fr,fifty_acc_fs,fifty_acc_rt\n",
    "print('latents: ',latents,' s: ',acc2,' fr: ', acc_fr,' fs: ', acc_fs,' rt: ',acc_rt)\n",
    "\n",
    "\n",
    "latents,acc2,acc_fr,acc_fs, acc_rt = 100, hunn_acc2, hunn_acc_fr,hunn_acc_fs,hunn_acc_rt \n",
    "\n",
    "print('latents: ',latents,' s: ',acc2,' fr: ', acc_fr,' fs: ', acc_fs,' rt: ',acc_rt)\n"
   ]
  },
  {
   "cell_type": "code",
   "execution_count": 21,
   "id": "08a4f455-3b4b-405a-bd33-470748e3dc74",
   "metadata": {
    "tags": []
   },
   "outputs": [
    {
     "name": "stderr",
     "output_type": "stream",
     "text": [
      "/tmp/ipykernel_7549/2988415686.py:16: UserWarning: To copy construct from a tensor, it is recommended to use sourceTensor.clone().detach() or sourceTensor.clone().detach().requires_grad_(True), rather than torch.tensor(sourceTensor).\n",
      "  x_train = torch.tensor(x_latent_data)\n",
      "/tmp/ipykernel_7549/2738957415.py:7: UserWarning: To copy construct from a tensor, it is recommended to use sourceTensor.clone().detach() or sourceTensor.clone().detach().requires_grad_(True), rather than torch.tensor(sourceTensor).\n",
      "  y_test_s_oh = torch.nn.functional.one_hot(torch.tensor(y_test_s).long(), num_classes=10)\n",
      "/tmp/ipykernel_7549/2738957415.py:10: UserWarning: To copy construct from a tensor, it is recommended to use sourceTensor.clone().detach() or sourceTensor.clone().detach().requires_grad_(True), rather than torch.tensor(sourceTensor).\n",
      "  y_test_fr_oh = torch.nn.functional.one_hot(torch.tensor(y_test_fr).long(), num_classes=10).clone().detach()\n",
      "/tmp/ipykernel_7549/2738957415.py:13: UserWarning: To copy construct from a tensor, it is recommended to use sourceTensor.clone().detach() or sourceTensor.clone().detach().requires_grad_(True), rather than torch.tensor(sourceTensor).\n",
      "  y_test_fs_oh = torch.nn.functional.one_hot(torch.tensor(y_test_fs).long(), num_classes=10).clone().detach()\n",
      "/tmp/ipykernel_7549/2738957415.py:28: UserWarning: To copy construct from a tensor, it is recommended to use sourceTensor.clone().detach() or sourceTensor.clone().detach().requires_grad_(True), rather than torch.tensor(sourceTensor).\n",
      "  y_train_s_oh = torch.nn.functional.one_hot(torch.tensor(y_train_s).long(), num_classes=10)\n"
     ]
    },
    {
     "name": "stdout",
     "output_type": "stream",
     "text": [
      "60000 10\n",
      "epoch: 1000 | loss: 0.989 | accuracy: 089.16 % | accuracy2:  0.7782 | acc_aug:  0.0 \n",
      "epoch: 2000 | loss: 0.827 | accuracy: 091.03 % | accuracy2:  0.7851 | acc_aug:  0.0 \n",
      "epoch: 3000 | loss: 0.767 | accuracy: 091.83 % | accuracy2:  0.7894 | acc_aug:  0.0 \n",
      "epoch: 4000 | loss: 0.737 | accuracy: 092.28 % | accuracy2:  0.7911 | acc_aug:  0.0 \n",
      "epoch: 5000 | loss: 0.718 | accuracy: 092.57 % | accuracy2:  0.7929 | acc_aug:  0.0 \n",
      "epoch: 6000 | loss: 0.706 | accuracy: 092.78 % | accuracy2:  0.7946 | acc_aug:  0.0 \n",
      "epoch: 7000 | loss: 0.697 | accuracy: 092.93 % | accuracy2:  0.7956 | acc_aug:  0.0 \n",
      "epoch: 8000 | loss: 0.690 | accuracy: 093.05 % | accuracy2:  0.7965 | acc_aug:  0.0 \n",
      "epoch: 9000 | loss: 0.685 | accuracy: 093.15 % | accuracy2:  0.7964 | acc_aug:  0.0 \n",
      "epoch: 10000 | loss: 0.681 | accuracy: 093.22 % | accuracy2:  0.7959 | acc_aug:  0.0 \n",
      "epoch: 11000 | loss: 0.678 | accuracy: 093.29 % | accuracy2:  0.7962 | acc_aug:  0.0 \n",
      "epoch: 12000 | loss: 0.676 | accuracy: 093.34 % | accuracy2:  0.7957 | acc_aug:  0.0 \n",
      "epoch: 13000 | loss: 0.673 | accuracy: 093.39 % | accuracy2:  0.7959 | acc_aug:  0.0 \n",
      "epoch: 14000 | loss: 0.672 | accuracy: 093.43 % | accuracy2:  0.7959 | acc_aug:  0.0 \n",
      "epoch: 15000 | loss: 0.670 | accuracy: 093.47 % | accuracy2:  0.7959 | acc_aug:  0.0 \n",
      "latents:  10  s:  0.7959  fr:  0.7496  fs:  0.7657  rt:  0.7578\n",
      "60000 20\n",
      "epoch: 1000 | loss: 0.984 | accuracy: 089.30 % | accuracy2:  0.7698 | acc_aug:  0.0 \n",
      "epoch: 2000 | loss: 0.825 | accuracy: 091.18 % | accuracy2:  0.7805 | acc_aug:  0.0 \n",
      "epoch: 3000 | loss: 0.768 | accuracy: 091.96 % | accuracy2:  0.7841 | acc_aug:  0.0 \n",
      "epoch: 4000 | loss: 0.739 | accuracy: 092.39 % | accuracy2:  0.7868 | acc_aug:  0.0 \n",
      "epoch: 5000 | loss: 0.721 | accuracy: 092.67 % | accuracy2:  0.7881 | acc_aug:  0.0 \n",
      "epoch: 6000 | loss: 0.708 | accuracy: 092.87 % | accuracy2:  0.7893 | acc_aug:  0.0 \n",
      "epoch: 7000 | loss: 0.700 | accuracy: 093.01 % | accuracy2:  0.7897 | acc_aug:  0.0 \n",
      "epoch: 8000 | loss: 0.693 | accuracy: 093.12 % | accuracy2:  0.7914 | acc_aug:  0.0 \n",
      "epoch: 9000 | loss: 0.688 | accuracy: 093.22 % | accuracy2:  0.7918 | acc_aug:  0.0 \n",
      "epoch: 10000 | loss: 0.684 | accuracy: 093.29 % | accuracy2:  0.7922 | acc_aug:  0.0 \n",
      "epoch: 11000 | loss: 0.681 | accuracy: 093.35 % | accuracy2:  0.7927 | acc_aug:  0.0 \n",
      "epoch: 12000 | loss: 0.679 | accuracy: 093.41 % | accuracy2:  0.7937 | acc_aug:  0.0 \n",
      "epoch: 13000 | loss: 0.676 | accuracy: 093.45 % | accuracy2:  0.7945 | acc_aug:  0.0 \n",
      "epoch: 14000 | loss: 0.674 | accuracy: 093.49 % | accuracy2:  0.7944 | acc_aug:  0.0 \n",
      "epoch: 15000 | loss: 0.673 | accuracy: 093.53 % | accuracy2:  0.795 | acc_aug:  0.0 \n",
      "latents:  20  s:  0.795  fr:  0.7535  fs:  0.7499  rt:  0.752\n",
      "60000 50\n",
      "epoch: 1000 | loss: 0.990 | accuracy: 089.11 % | accuracy2:  0.7756 | acc_aug:  0.0 \n",
      "epoch: 2000 | loss: 0.827 | accuracy: 091.02 % | accuracy2:  0.7826 | acc_aug:  0.0 \n",
      "epoch: 3000 | loss: 0.768 | accuracy: 091.82 % | accuracy2:  0.7867 | acc_aug:  0.0 \n",
      "epoch: 4000 | loss: 0.738 | accuracy: 092.26 % | accuracy2:  0.7897 | acc_aug:  0.0 \n",
      "epoch: 5000 | loss: 0.719 | accuracy: 092.55 % | accuracy2:  0.7921 | acc_aug:  0.0 \n",
      "epoch: 6000 | loss: 0.707 | accuracy: 092.76 % | accuracy2:  0.7932 | acc_aug:  0.0 \n",
      "epoch: 7000 | loss: 0.698 | accuracy: 092.91 % | accuracy2:  0.7953 | acc_aug:  0.0 \n",
      "epoch: 8000 | loss: 0.691 | accuracy: 093.03 % | accuracy2:  0.7965 | acc_aug:  0.0 \n",
      "epoch: 9000 | loss: 0.686 | accuracy: 093.12 % | accuracy2:  0.7968 | acc_aug:  0.0 \n",
      "epoch: 10000 | loss: 0.682 | accuracy: 093.20 % | accuracy2:  0.7978 | acc_aug:  0.0 \n",
      "epoch: 11000 | loss: 0.679 | accuracy: 093.27 % | accuracy2:  0.7983 | acc_aug:  0.0 \n",
      "epoch: 12000 | loss: 0.676 | accuracy: 093.32 % | accuracy2:  0.7977 | acc_aug:  0.0 \n",
      "epoch: 13000 | loss: 0.674 | accuracy: 093.37 % | accuracy2:  0.7978 | acc_aug:  0.0 \n",
      "epoch: 14000 | loss: 0.672 | accuracy: 093.41 % | accuracy2:  0.7983 | acc_aug:  0.0 \n",
      "epoch: 15000 | loss: 0.670 | accuracy: 093.45 % | accuracy2:  0.7993 | acc_aug:  0.0 \n",
      "latents:  50  s:  0.7993  fr:  0.7397  fs:  0.7522  rt:  0.7551\n",
      "60000 100\n",
      "epoch: 1000 | loss: 0.999 | accuracy: 089.05 % | accuracy2:  0.766 | acc_aug:  0.0 \n",
      "epoch: 2000 | loss: 0.840 | accuracy: 090.91 % | accuracy2:  0.7737 | acc_aug:  0.0 \n",
      "epoch: 3000 | loss: 0.783 | accuracy: 091.68 % | accuracy2:  0.7757 | acc_aug:  0.0 \n",
      "epoch: 4000 | loss: 0.754 | accuracy: 092.11 % | accuracy2:  0.7771 | acc_aug:  0.0 \n",
      "epoch: 5000 | loss: 0.736 | accuracy: 092.39 % | accuracy2:  0.7787 | acc_aug:  0.0 \n",
      "epoch: 6000 | loss: 0.725 | accuracy: 092.58 % | accuracy2:  0.78 | acc_aug:  0.0 \n",
      "epoch: 7000 | loss: 0.716 | accuracy: 092.72 % | accuracy2:  0.7812 | acc_aug:  0.0 \n",
      "epoch: 8000 | loss: 0.710 | accuracy: 092.83 % | accuracy2:  0.7811 | acc_aug:  0.0 \n",
      "epoch: 9000 | loss: 0.705 | accuracy: 092.92 % | accuracy2:  0.7808 | acc_aug:  0.0 \n",
      "epoch: 10000 | loss: 0.701 | accuracy: 092.99 % | accuracy2:  0.7811 | acc_aug:  0.0 \n",
      "epoch: 11000 | loss: 0.698 | accuracy: 093.05 % | accuracy2:  0.782 | acc_aug:  0.0 \n",
      "epoch: 12000 | loss: 0.695 | accuracy: 093.10 % | accuracy2:  0.7822 | acc_aug:  0.0 \n",
      "epoch: 13000 | loss: 0.693 | accuracy: 093.14 % | accuracy2:  0.7821 | acc_aug:  0.0 \n",
      "epoch: 14000 | loss: 0.691 | accuracy: 093.18 % | accuracy2:  0.7824 | acc_aug:  0.0 \n",
      "epoch: 15000 | loss: 0.690 | accuracy: 093.21 % | accuracy2:  0.7827 | acc_aug:  0.0 \n",
      "latents:  100  s:  0.7827  fr:  0.7296  fs:  0.745  rt:  0.745\n"
     ]
    }
   ],
   "source": [
    "\n",
    "vae = VariationalAutoencoder(10).to(device) # GPU\n",
    "vae = train(vae, mnist_rt2)\n",
    "ten_acc2, ten_acc_fr,ten_acc_fs,ten_acc_rt = scenario_runs(10,mnist_rt2,test_mnist_s,test_mnist_fr,test_mnist_fs,test_mnist_rt)\n",
    "\n",
    "vae = VariationalAutoencoder(20).to(device) # GPU\n",
    "vae = train(vae, mnist_rt2)\n",
    "twen_acc2, twen_acc_fr,twen_acc_fs,twen_acc_rt = scenario_runs(20,mnist_rt2,test_mnist_s,test_mnist_fr,test_mnist_fs,test_mnist_rt)\n",
    "\n",
    "vae = VariationalAutoencoder(50).to(device) # GPU\n",
    "vae = train(vae, mnist_rt2)\n",
    "fifty_acc2, fifty_acc_fr,fifty_acc_fs,fifty_acc_rt = scenario_runs(50,mnist_rt2,test_mnist_s,test_mnist_fr,test_mnist_fs,test_mnist_rt)\n",
    "\n",
    "\n",
    "vae = VariationalAutoencoder(100).to(device) # GPU\n",
    "vae = train(vae, mnist_rt2)\n",
    "hunn_acc2, hunn_acc_fr,hunn_acc_fs,hunn_acc_rt = scenario_runs(100,mnist_rt2,test_mnist_s,test_mnist_fr,test_mnist_fs,test_mnist_rt)"
   ]
  },
  {
   "cell_type": "code",
   "execution_count": 22,
   "id": "1ef71dcd-1215-4783-9692-40b0b4682d20",
   "metadata": {
    "tags": []
   },
   "outputs": [
    {
     "name": "stdout",
     "output_type": "stream",
     "text": [
      "latents:  10  s:  0.7959  fr:  0.7496  fs:  0.7657  rt:  0.7578\n",
      "latents:  20  s:  0.795  fr:  0.7535  fs:  0.7499  rt:  0.752\n",
      "latents:  50  s:  0.7993  fr:  0.7397  fs:  0.7522  rt:  0.7551\n",
      "latents:  100  s:  0.7827  fr:  0.7296  fs:  0.745  rt:  0.745\n"
     ]
    }
   ],
   "source": [
    "\n",
    "latents,acc2,acc_fr,acc_fs, acc_rt = 10, ten_acc2, ten_acc_fr,ten_acc_fs,ten_acc_rt\n",
    "print('latents: ',latents,' s: ',acc2,' fr: ', acc_fr,' fs: ', acc_fs,' rt: ',acc_rt)\n",
    "\n",
    "latents,acc2,acc_fr,acc_fs, acc_rt = 20, twen_acc2, twen_acc_fr,twen_acc_fs,twen_acc_rt\n",
    "print('latents: ',latents,' s: ',acc2,' fr: ', acc_fr,' fs: ', acc_fs,' rt: ',acc_rt)\n",
    "\n",
    "\n",
    "latents,acc2,acc_fr,acc_fs, acc_rt = 50, fifty_acc2, fifty_acc_fr,fifty_acc_fs,fifty_acc_rt\n",
    "print('latents: ',latents,' s: ',acc2,' fr: ', acc_fr,' fs: ', acc_fs,' rt: ',acc_rt)\n",
    "\n",
    "\n",
    "latents,acc2,acc_fr,acc_fs, acc_rt = 100, hunn_acc2, hunn_acc_fr,hunn_acc_fs,hunn_acc_rt \n",
    "\n",
    "print('latents: ',latents,' s: ',acc2,' fr: ', acc_fr,' fs: ', acc_fs,' rt: ',acc_rt)\n"
   ]
  },
  {
   "cell_type": "code",
   "execution_count": null,
   "id": "41c86b84-b798-469d-9492-9b0db39c44f0",
   "metadata": {
    "tags": []
   },
   "outputs": [],
   "source": []
  },
  {
   "cell_type": "code",
   "execution_count": null,
   "id": "5e79e825-c23d-4a58-ade9-b63f15a7522f",
   "metadata": {},
   "outputs": [],
   "source": []
  },
  {
   "cell_type": "code",
   "execution_count": null,
   "id": "bad8c3e9-9a70-4024-832f-3c787d56cdbd",
   "metadata": {},
   "outputs": [],
   "source": []
  },
  {
   "cell_type": "code",
   "execution_count": null,
   "id": "29a0f402-e918-4de3-b65b-022eaf8486c6",
   "metadata": {},
   "outputs": [],
   "source": []
  },
  {
   "cell_type": "code",
   "execution_count": 97,
   "id": "be36d4c5-0bf2-44dd-9f88-1010e75f688f",
   "metadata": {
    "tags": []
   },
   "outputs": [
    {
     "data": {
      "text/plain": [
       "(0.7915, 0.9850915982312066)"
      ]
     },
     "execution_count": 97,
     "metadata": {},
     "output_type": "execute_result"
    }
   ],
   "source": [
    "a,b[0]/b[1]"
   ]
  },
  {
   "cell_type": "code",
   "execution_count": 58,
   "id": "1c7141bf-c02c-4cce-92aa-b0b98ac01b22",
   "metadata": {
    "tags": []
   },
   "outputs": [
    {
     "name": "stderr",
     "output_type": "stream",
     "text": [
      "/tmp/ipykernel_6308/2023172050.py:16: UserWarning: To copy construct from a tensor, it is recommended to use sourceTensor.clone().detach() or sourceTensor.clone().detach().requires_grad_(True), rather than torch.tensor(sourceTensor).\n",
      "  x_train = torch.tensor(x_latent_data)\n"
     ]
    }
   ],
   "source": [
    "c,d = get_latents(test_mnist_s)\n"
   ]
  },
  {
   "cell_type": "code",
   "execution_count": null,
   "id": "bf07ade2-79d8-490b-85bf-a20c0077f719",
   "metadata": {
    "tags": []
   },
   "outputs": [],
   "source": []
  },
  {
   "cell_type": "code",
   "execution_count": null,
   "id": "7f493e1f-366b-4f03-a5f1-8d482d2ef0cf",
   "metadata": {},
   "outputs": [],
   "source": []
  },
  {
   "cell_type": "code",
   "execution_count": 23,
   "id": "f798e786-2d16-40c2-816d-b5644730b5cc",
   "metadata": {
    "tags": []
   },
   "outputs": [
    {
     "ename": "NameError",
     "evalue": "name 'xtyoh' is not defined",
     "output_type": "error",
     "traceback": [
      "\u001b[0;31m---------------------------------------------------------------------------\u001b[0m",
      "\u001b[0;31mNameError\u001b[0m                                 Traceback (most recent call last)",
      "\u001b[0;32m/tmp/ipykernel_7549/2773361243.py\u001b[0m in \u001b[0;36m<module>\u001b[0;34m\u001b[0m\n\u001b[0;32m----> 1\u001b[0;31m \u001b[0mxtyoh\u001b[0m\u001b[0;34m\u001b[0m\u001b[0;34m\u001b[0m\u001b[0m\n\u001b[0m",
      "\u001b[0;31mNameError\u001b[0m: name 'xtyoh' is not defined"
     ]
    }
   ],
   "source": [
    "xtyoh"
   ]
  },
  {
   "cell_type": "code",
   "execution_count": null,
   "id": "e359413a-2417-4ba1-87d1-477ed6da5a1b",
   "metadata": {},
   "outputs": [],
   "source": []
  },
  {
   "cell_type": "code",
   "execution_count": null,
   "id": "92b5da2d-30cb-4efc-962d-6d30c967324a",
   "metadata": {},
   "outputs": [],
   "source": []
  },
  {
   "cell_type": "code",
   "execution_count": null,
   "id": "202d2632-c790-4c82-aba0-4a2d1eda11e2",
   "metadata": {},
   "outputs": [],
   "source": []
  },
  {
   "cell_type": "code",
   "execution_count": null,
   "id": "fbf9e8ee-07e8-4e0a-8936-c752060f3374",
   "metadata": {},
   "outputs": [],
   "source": []
  },
  {
   "cell_type": "code",
   "execution_count": null,
   "id": "144ad6c6-2534-4f20-8454-4b44104ffe36",
   "metadata": {},
   "outputs": [],
   "source": []
  },
  {
   "cell_type": "code",
   "execution_count": null,
   "id": "fcb47fdd-9543-4906-9cb9-a107b0e75e67",
   "metadata": {},
   "outputs": [],
   "source": []
  },
  {
   "cell_type": "code",
   "execution_count": 300,
   "id": "e4699385-1a4b-4bd7-87e1-2b6985f7117a",
   "metadata": {
    "tags": []
   },
   "outputs": [
    {
     "data": {
      "text/plain": [
       "tensor([[6.2648e-02, 8.4593e-03, 1.3574e-03, 1.0293e-03, 5.6264e-02, 3.9188e-01,\n",
       "         4.4495e-03, 1.4027e-02, 3.1454e-01, 1.4535e-01],\n",
       "        [4.4787e-03, 2.6224e-04, 3.1391e-03, 3.8443e-03, 7.2632e-02, 6.5552e-03,\n",
       "         3.3950e-04, 5.1220e-02, 3.0143e-02, 8.2739e-01],\n",
       "        [1.1035e-02, 1.8814e-05, 9.2477e-02, 6.1147e-04, 5.3091e-01, 5.1118e-04,\n",
       "         3.7792e-02, 8.1736e-02, 5.8189e-03, 2.3909e-01],\n",
       "        [7.8013e-01, 4.2547e-04, 4.4717e-04, 3.0264e-02, 8.1790e-05, 1.4042e-01,\n",
       "         8.1364e-06, 3.9758e-02, 6.8256e-03, 1.6385e-03],\n",
       "        [3.9305e-04, 2.1114e-03, 4.0708e-04, 2.8679e-04, 8.3939e-04, 1.4789e-04,\n",
       "         7.9847e-05, 9.7121e-01, 2.6491e-04, 2.4262e-02],\n",
       "        [6.2493e-02, 9.1255e-03, 4.2326e-02, 7.2468e-01, 2.3795e-03, 1.0847e-01,\n",
       "         5.2965e-03, 3.2424e-02, 6.3272e-03, 6.4773e-03],\n",
       "        [6.3783e-03, 1.8202e-01, 2.4197e-03, 7.7257e-02, 6.8468e-04, 6.8663e-01,\n",
       "         7.7150e-05, 1.4740e-02, 2.8437e-02, 1.3582e-03],\n",
       "        [1.4553e-03, 7.5243e-03, 4.1980e-02, 8.3701e-01, 1.6877e-02, 2.8944e-02,\n",
       "         4.5975e-03, 5.2172e-04, 4.0565e-02, 2.0524e-02],\n",
       "        [3.7931e-03, 1.4418e-02, 2.8135e-04, 5.4054e-02, 4.9908e-03, 1.3909e-01,\n",
       "         7.5378e-03, 1.2999e-01, 2.7328e-02, 6.1852e-01],\n",
       "        [3.6948e-03, 4.1418e-03, 2.6389e-01, 9.6068e-03, 2.2341e-02, 1.9552e-02,\n",
       "         1.0874e-01, 4.1998e-04, 5.6435e-01, 3.2541e-03]], device='cuda:0',\n",
       "       grad_fn=<SoftmaxBackward0>)"
      ]
     },
     "execution_count": 300,
     "metadata": {},
     "output_type": "execute_result"
    }
   ],
   "source": [
    "A(Z(x_train[:10].to(device)))"
   ]
  },
  {
   "cell_type": "code",
   "execution_count": 665,
   "id": "b0ca1cb8-c067-4449-8d3c-13bf13b0d4be",
   "metadata": {
    "tags": []
   },
   "outputs": [],
   "source": [
    "#torch.argmax(A(Z(x_train[:20].to(device))),1)"
   ]
  },
  {
   "cell_type": "code",
   "execution_count": 666,
   "id": "4d69565a-54f6-4f31-a5d7-ab445d4f4dfb",
   "metadata": {
    "tags": []
   },
   "outputs": [],
   "source": [
    "#y_train[:20]"
   ]
  },
  {
   "cell_type": "code",
   "execution_count": null,
   "id": "8fbff2ad-9576-4cb1-b736-37173f73e364",
   "metadata": {},
   "outputs": [],
   "source": []
  },
  {
   "cell_type": "code",
   "execution_count": null,
   "id": "54f816e3-48c6-4995-acad-81c1b0c5cdc2",
   "metadata": {},
   "outputs": [],
   "source": []
  },
  {
   "cell_type": "code",
   "execution_count": null,
   "id": "a3bed4f6-75fd-4520-b55a-0a44fbcfd45c",
   "metadata": {},
   "outputs": [],
   "source": []
  },
  {
   "cell_type": "code",
   "execution_count": 315,
   "id": "806137b1-9063-4983-9b2d-c92ba885bd0a",
   "metadata": {
    "tags": []
   },
   "outputs": [
    {
     "data": {
      "text/plain": [
       "tensor([False,  True, False, False, False,  True, False,  True, False, False,\n",
       "         True,  True, False, False, False,  True,  True,  True,  True, False],\n",
       "       device='cuda:0')"
      ]
     },
     "execution_count": 315,
     "metadata": {},
     "output_type": "execute_result"
    }
   ],
   "source": [
    "#torch.argmax(A(Z(x_train[:20].to(device))),1)==y_train[:20].to(device)"
   ]
  },
  {
   "cell_type": "code",
   "execution_count": 301,
   "id": "f1ffdfcc-8f2e-4727-b7fd-7f6e6dfe3f15",
   "metadata": {
    "tags": []
   },
   "outputs": [
    {
     "data": {
      "text/plain": [
       "0.7584666666666666"
      ]
     },
     "execution_count": 301,
     "metadata": {},
     "output_type": "execute_result"
    }
   ],
   "source": [
    "counter=0\n",
    "for item in torch.argmax(A(Z(x_train.to(device))),1)==y_train.to(device):\n",
    "    if item==torch.tensor(True):\n",
    "        counter += 1\n",
    "train_acc = counter/len(y_train)\n",
    "train_acc"
   ]
  },
  {
   "cell_type": "code",
   "execution_count": null,
   "id": "7d3e45b2-ee15-4af7-861b-dc806b02e637",
   "metadata": {},
   "outputs": [],
   "source": []
  },
  {
   "cell_type": "code",
   "execution_count": null,
   "id": "36865154-dc48-40f3-95c1-6fdac15d9803",
   "metadata": {},
   "outputs": [],
   "source": []
  },
  {
   "cell_type": "code",
   "execution_count": null,
   "id": "74c8f2fe-76b7-40a2-a28c-8d3c78fe8eaf",
   "metadata": {},
   "outputs": [],
   "source": []
  },
  {
   "cell_type": "code",
   "execution_count": null,
   "id": "a69fbbf3-4b73-4f7f-9b5f-20d2e06c4a1c",
   "metadata": {},
   "outputs": [],
   "source": []
  },
  {
   "cell_type": "code",
   "execution_count": null,
   "id": "f7d44ec4-2843-46b3-801f-14319100a690",
   "metadata": {},
   "outputs": [],
   "source": [
    "# Run on test data\n",
    "def test():\n",
    "  model.eval()\n",
    "  test_loss = 0\n",
    "  correct = 0\n",
    "  with torch.no_grad():\n",
    "    for data, target in test_loader:\n",
    "      output = model(data)\n",
    "      test_loss += F.nll_loss(output, target, size_average=False).item()\n",
    "      pred = output.data.max(1, keepdim=True)[1]\n",
    "      correct += pred.eq(target.data.view_as(pred)).sum()\n",
    "  test_loss /= len(test_loader.dataset)\n",
    "  print('\\nTest set: Avg. loss: {:.4f}, Accuracy: {}/{} ({:.0f}%)\\n'.format(\n",
    "    test_loss, correct, len(test_loader.dataset),\n",
    "    100. * correct / len(test_loader.dataset)))\n",
    "    "
   ]
  },
  {
   "cell_type": "code",
   "execution_count": null,
   "id": "ac065862-e653-4e3a-a476-09e09d2a9f3e",
   "metadata": {},
   "outputs": [],
   "source": []
  },
  {
   "cell_type": "code",
   "execution_count": null,
   "id": "ca4c360e-443c-4915-9072-256204f339f2",
   "metadata": {},
   "outputs": [],
   "source": []
  },
  {
   "cell_type": "code",
   "execution_count": null,
   "id": "ba3327aa-1265-43b9-aa37-1f73dd16a3f8",
   "metadata": {},
   "outputs": [],
   "source": []
  },
  {
   "cell_type": "code",
   "execution_count": null,
   "id": "b2198c77-0f7e-45cd-8b71-2f4286a342ce",
   "metadata": {},
   "outputs": [],
   "source": []
  },
  {
   "cell_type": "code",
   "execution_count": null,
   "id": "e2914c81-eeaf-48e4-a0de-c546e950709e",
   "metadata": {},
   "outputs": [],
   "source": []
  },
  {
   "cell_type": "code",
   "execution_count": null,
   "id": "0607d0e3-2924-4be8-a0b9-70fb358c9cfb",
   "metadata": {},
   "outputs": [],
   "source": []
  },
  {
   "cell_type": "code",
   "execution_count": null,
   "id": "e8e1fe8e-d7a4-4efa-9815-25f8cd8f40d1",
   "metadata": {},
   "outputs": [],
   "source": []
  },
  {
   "cell_type": "code",
   "execution_count": null,
   "id": "2d75f08a-9542-4907-b6c9-65d1587dd7d6",
   "metadata": {},
   "outputs": [],
   "source": []
  },
  {
   "cell_type": "code",
   "execution_count": null,
   "id": "3f48f95c-146f-49e6-8008-fa278dba6270",
   "metadata": {},
   "outputs": [],
   "source": []
  },
  {
   "cell_type": "code",
   "execution_count": null,
   "id": "e73439e9-55c3-49a4-8c5e-9d289712676c",
   "metadata": {},
   "outputs": [],
   "source": []
  },
  {
   "cell_type": "code",
   "execution_count": null,
   "id": "6f9ee007-0d12-4cef-b9d2-12f0be63728b",
   "metadata": {},
   "outputs": [],
   "source": []
  },
  {
   "cell_type": "code",
   "execution_count": null,
   "id": "f91e3240-a5ec-4ed5-86c9-37ee6b34224a",
   "metadata": {},
   "outputs": [],
   "source": []
  },
  {
   "cell_type": "code",
   "execution_count": null,
   "id": "26c51fc0-6978-4e8d-ab13-f100f2835a94",
   "metadata": {},
   "outputs": [],
   "source": []
  },
  {
   "cell_type": "code",
   "execution_count": null,
   "id": "335d1c03-dcc5-47c2-9db7-ccde11b30070",
   "metadata": {},
   "outputs": [],
   "source": []
  },
  {
   "cell_type": "code",
   "execution_count": 207,
   "id": "00975577-0925-421f-86de-ab368e3324c2",
   "metadata": {
    "tags": []
   },
   "outputs": [
    {
     "data": {
      "text/plain": [
       "tensor([ 0.4212, -0.5675,  0.6663, -0.5450,  1.3841,  0.0307, -0.6646, -0.2219,\n",
       "        -0.0622, -1.0141,  0.4608, -0.1575,  0.3357,  0.5032, -0.6820,  1.3523,\n",
       "        -0.1055,  0.0657,  0.0814, -0.1429], device='cuda:0')"
      ]
     },
     "execution_count": 207,
     "metadata": {},
     "output_type": "execute_result"
    }
   ],
   "source": [
    "x_train[0]"
   ]
  },
  {
   "cell_type": "code",
   "execution_count": 112,
   "id": "fd63b27b-c797-47af-943c-6dc057373cd7",
   "metadata": {
    "tags": []
   },
   "outputs": [
    {
     "data": {
      "text/plain": [
       "tensor([[4.2422e-03, 1.1287e-01, 1.1410e-01, 1.4309e-01, 1.0160e-02, 3.2709e-03,\n",
       "         3.0221e-03, 5.7277e-01, 1.6539e-02, 1.9926e-02],\n",
       "        [1.0040e-02, 7.1526e-04, 1.7441e-03, 9.7273e-03, 8.1058e-01, 8.0508e-03,\n",
       "         2.3701e-03, 1.8036e-02, 2.2689e-02, 1.1604e-01],\n",
       "        [7.4819e-03, 1.8242e-03, 2.6908e-02, 9.3624e-01, 2.4763e-04, 2.0449e-02,\n",
       "         6.4525e-04, 9.5333e-04, 4.6245e-03, 6.2894e-04],\n",
       "        [9.1008e-02, 1.0136e-02, 7.0217e-01, 3.3261e-02, 6.0319e-02, 8.7638e-03,\n",
       "         3.1775e-02, 1.9760e-02, 2.5043e-02, 1.7765e-02],\n",
       "        [2.0432e-01, 3.5317e-02, 9.4331e-02, 7.1920e-03, 2.2700e-02, 3.0607e-02,\n",
       "         3.6037e-02, 4.1170e-02, 4.4200e-01, 8.6327e-02],\n",
       "        [2.3149e-02, 3.3901e-02, 7.3220e-03, 2.6396e-02, 3.1644e-02, 1.0220e-01,\n",
       "         7.6244e-03, 1.2463e-02, 7.3953e-01, 1.5773e-02],\n",
       "        [1.9256e-03, 5.8620e-01, 3.7154e-02, 8.3839e-03, 1.1667e-01, 3.5125e-02,\n",
       "         1.4586e-01, 3.8895e-02, 7.9098e-03, 2.1875e-02],\n",
       "        [3.8269e-02, 3.6705e-02, 1.7446e-01, 6.0494e-02, 1.8861e-03, 1.7674e-02,\n",
       "         3.6130e-03, 5.2373e-01, 1.2333e-01, 1.9836e-02],\n",
       "        [6.6650e-03, 7.2632e-02, 1.7408e-03, 5.0238e-01, 5.3372e-03, 2.1423e-01,\n",
       "         3.1035e-03, 1.4783e-01, 6.8525e-03, 3.9231e-02],\n",
       "        [2.0069e-02, 6.7496e-01, 1.1646e-03, 3.0303e-03, 1.2521e-03, 9.0878e-02,\n",
       "         4.6834e-02, 9.7842e-02, 1.9280e-02, 4.4690e-02]], device='cuda:0',\n",
       "       grad_fn=<SoftmaxBackward0>)"
      ]
     },
     "execution_count": 112,
     "metadata": {},
     "output_type": "execute_result"
    }
   ],
   "source": [
    "A(Z(x_train[:10].to(device)))"
   ]
  },
  {
   "cell_type": "code",
   "execution_count": 113,
   "id": "04821abb-7b96-4974-918a-e272a5cc53be",
   "metadata": {
    "tags": []
   },
   "outputs": [],
   "source": [
    "W_ = Z.cpu().weight.detach().numpy()\n",
    "B_ = Z.bias.detach().numpy()"
   ]
  },
  {
   "cell_type": "code",
   "execution_count": 121,
   "id": "81acd826-95c9-4e12-9321-19a9f25586d9",
   "metadata": {
    "tags": []
   },
   "outputs": [],
   "source": [
    "#W_"
   ]
  },
  {
   "cell_type": "code",
   "execution_count": 122,
   "id": "f887e738-4955-46ac-a490-8b28cf48e763",
   "metadata": {
    "tags": []
   },
   "outputs": [],
   "source": [
    "#B_"
   ]
  },
  {
   "cell_type": "code",
   "execution_count": 123,
   "id": "f4db3dce-9aa4-4844-b991-a726a2bba636",
   "metadata": {
    "tags": []
   },
   "outputs": [],
   "source": [
    "#y_train[0]"
   ]
  },
  {
   "cell_type": "code",
   "execution_count": 117,
   "id": "378689f7-fc3b-41c4-bad9-35e5c6ba2ab4",
   "metadata": {
    "tags": []
   },
   "outputs": [],
   "source": [
    "#2 latent variables give me 90% accuracy....\n",
    "#1 latent variable gives: 84% accuracy.... loss 0.858\n",
    "#10 latent variables gives: \n",
    "## it mayhave already trained tbf!!!)\n"
   ]
  },
  {
   "cell_type": "code",
   "execution_count": 118,
   "id": "4d7b6c18-8b8a-4748-aecc-e5124955ba8a",
   "metadata": {
    "tags": []
   },
   "outputs": [
    {
     "data": {
      "text/plain": [
       "tensor([ 0.1479,  0.0274, -0.6872, -0.3129,  1.0919,  1.0595,  0.4957, -0.9366,\n",
       "         0.4294, -0.1122,  0.3230, -0.9256,  1.2910,  0.5980,  1.2717, -0.5914,\n",
       "         0.0544, -0.5661,  0.1957,  0.2029,  0.6261,  0.1593,  0.3412, -0.8449,\n",
       "         0.6863, -0.0428, -0.8859,  0.3175,  1.2867, -0.3729,  0.6228,  0.4977,\n",
       "         0.7602, -0.1673,  0.0446,  0.4564,  0.6870,  0.7680,  0.1672,  0.9283,\n",
       "         0.6109, -0.2708,  0.1588, -0.4031, -0.2076, -0.2107, -0.6893,  0.2580,\n",
       "        -1.2290,  0.0118], device='cuda:0')"
      ]
     },
     "execution_count": 118,
     "metadata": {},
     "output_type": "execute_result"
    }
   ],
   "source": [
    "x_train[0]"
   ]
  },
  {
   "cell_type": "code",
   "execution_count": 208,
   "id": "4512c5c7-9b05-4617-b334-412e3654e044",
   "metadata": {
    "tags": []
   },
   "outputs": [],
   "source": [
    "a=torch.tensor(loss_plot).numpy()\n",
    "b=torch.tensor(accA_plot).numpy()"
   ]
  },
  {
   "cell_type": "code",
   "execution_count": 209,
   "id": "f7e6bdab-072f-4769-b9cd-38f479391074",
   "metadata": {
    "tags": []
   },
   "outputs": [
    {
     "data": {
      "image/png": "[encoded data removed]",
      "text/plain": [
       "<Figure size 1280x960 with 2 Axes>"
      ]
     },
     "metadata": {},
     "output_type": "display_data"
    }
   ],
   "source": [
    "fig, [axA, axB] = plt.subplots(2, 1, sharex=True)\n",
    "\n",
    "axA.plot(a)\n",
    "axA.set_ylabel('loss')\n",
    "axB.plot(b)\n",
    "axB.set_ylabel('accuracy')\n",
    "\n",
    "plt.xlabel('epochs')\n",
    "\n",
    "plt.show()"
   ]
  },
  {
   "cell_type": "code",
   "execution_count": null,
   "id": "96d5f78f-f54b-41b3-9ef6-319da7ec4482",
   "metadata": {},
   "outputs": [],
   "source": []
  },
  {
   "cell_type": "code",
   "execution_count": null,
   "id": "dfb06218-6041-4e0d-aab6-2ea30083e272",
   "metadata": {},
   "outputs": [],
   "source": []
  },
  {
   "cell_type": "code",
   "execution_count": null,
   "id": "de4e37f4-dd56-4063-99d8-8a34509c2618",
   "metadata": {},
   "outputs": [],
   "source": []
  },
  {
   "cell_type": "code",
   "execution_count": null,
   "id": "eb9707bf-0e21-4c36-a58b-e2a51f7e151c",
   "metadata": {},
   "outputs": [],
   "source": []
  },
  {
   "cell_type": "code",
   "execution_count": null,
   "id": "914fbf5f-0e00-4c8c-93b0-f30402c0b7ac",
   "metadata": {},
   "outputs": [],
   "source": []
  },
  {
   "cell_type": "code",
   "execution_count": null,
   "id": "181916df-6f07-4839-b69f-daff47cfc24e",
   "metadata": {},
   "outputs": [],
   "source": []
  },
  {
   "cell_type": "code",
   "execution_count": null,
   "id": "4451d3c2-a6d8-4beb-9ebe-fa3a6e8f5440",
   "metadata": {},
   "outputs": [],
   "source": []
  },
  {
   "cell_type": "code",
   "execution_count": null,
   "id": "b4b71c5f-78ee-447c-8fa8-3ead1eeba795",
   "metadata": {},
   "outputs": [],
   "source": []
  },
  {
   "cell_type": "code",
   "execution_count": null,
   "id": "b6e4a669-e08b-4de8-ade6-c2743645f2c4",
   "metadata": {
    "tags": []
   },
   "outputs": [],
   "source": [
    "rbatch = np.random.choice(60000, size=BATCH)\n",
    "# variables initialization\n",
    "X = torch.autograd.Variable(x_train[rbatch])\n",
    "Y = torch.autograd.Variable(y_train[rbatch])\n",
    "\n",
    "A(Z(X))[1]"
   ]
  },
  {
   "cell_type": "code",
   "execution_count": null,
   "id": "bd29fd15-793d-40b1-87c6-792fe3a54773",
   "metadata": {
    "tags": []
   },
   "outputs": [],
   "source": [
    "Y"
   ]
  },
  {
   "cell_type": "code",
   "execution_count": null,
   "id": "dd99a067-0606-4bbe-882c-361e9442abc9",
   "metadata": {},
   "outputs": [],
   "source": []
  },
  {
   "cell_type": "code",
   "execution_count": null,
   "id": "1b5f4b2b-2c2c-4dda-a5ec-a6ead6258509",
   "metadata": {},
   "outputs": [],
   "source": []
  },
  {
   "cell_type": "code",
   "execution_count": null,
   "id": "b3c5824a-247a-4211-b23b-8e056f1c8834",
   "metadata": {},
   "outputs": [],
   "source": []
  },
  {
   "cell_type": "code",
   "execution_count": null,
   "id": "082ab1c5-d2d9-4ae2-a95f-ff224d5ec389",
   "metadata": {},
   "outputs": [],
   "source": []
  },
  {
   "cell_type": "code",
   "execution_count": null,
   "id": "66582f4d-e46d-4afc-ab0d-45038cb65d0d",
   "metadata": {
    "tags": []
   },
   "outputs": [],
   "source": [
    "# Create model\n",
    "# f = wx + b, sigmoid at the end\n",
    "class LogisticRegression(nn.Module):\n",
    "    \n",
    "    def __init__(self, n_input_features):\n",
    "        super(LogisticRegression, self).__init__()\n",
    "        self.linear = nn.Linear(n_input_features, 10)\n",
    "\n",
    "    def forward(self, x):\n",
    "        y_predicted = torch.sigmoid(self.linear(x))\n",
    "        return y_predicted\n",
    "    \n",
    "model = LogisticRegression(2)"
   ]
  },
  {
   "cell_type": "code",
   "execution_count": null,
   "id": "8e536349-3c2a-4ba0-85b0-c4fa6e0198e0",
   "metadata": {
    "tags": []
   },
   "outputs": [],
   "source": [
    "# Loss and optimizer\n",
    "learning_rate = 0.01\n",
    "criterion = nn.BCELoss()\n",
    "optimizer = torch.optim.SGD(model.parameters(), lr=learning_rate)"
   ]
  },
  {
   "cell_type": "code",
   "execution_count": null,
   "id": "7e0abe3b-fbc1-40b6-ae55-f5fccfd680b3",
   "metadata": {
    "tags": []
   },
   "outputs": [],
   "source": [
    "# training loop\n",
    "num_epochs = 100\n",
    "x_latent_data=x_latent_data.to(device)\n",
    "y_train=y_train.to(device)\n",
    "for epoch in range(num_epochs):\n",
    "    # forward pass and loss\n",
    "\n",
    "    \n",
    "    y_predicted = model(x_latent_data).to(device)\n",
    "    loss = criterion(y_predicted, y_train)\n",
    "    \n",
    "    # backward pass\n",
    "    loss.backward()\n",
    "    \n",
    "    # updates\n",
    "    optimizer.step()\n",
    "    \n",
    "    # zero gradients\n",
    "    optimizer.zero_grad()\n",
    "    \n",
    "    if (epoch+1) % 10 == 0:\n",
    "        print(f'epoch: {epoch+1}, loss = {loss.item():.4f}')"
   ]
  },
  {
   "cell_type": "code",
   "execution_count": null,
   "id": "068708cd-71b7-44bc-8c8c-380be56a3c7b",
   "metadata": {},
   "outputs": [],
   "source": []
  },
  {
   "cell_type": "code",
   "execution_count": null,
   "id": "4a77f4a1-fcaf-4e2b-84a6-96dc4e169c0f",
   "metadata": {},
   "outputs": [],
   "source": []
  },
  {
   "cell_type": "code",
   "execution_count": null,
   "id": "0f80c1c6-8a60-40be-867e-809578f18727",
   "metadata": {},
   "outputs": [],
   "source": []
  },
  {
   "cell_type": "code",
   "execution_count": null,
   "id": "97325c74-7e94-4308-8ebd-758e26c4e68b",
   "metadata": {
    "tags": []
   },
   "outputs": [],
   "source": [
    "#y_train"
   ]
  },
  {
   "cell_type": "code",
   "execution_count": null,
   "id": "1d5a87fc-1510-4ce6-8f65-9415d5bd43ad",
   "metadata": {
    "tags": []
   },
   "outputs": [],
   "source": [
    "#encoded_data"
   ]
  },
  {
   "cell_type": "code",
   "execution_count": null,
   "id": "ac39ab79-9a71-4a67-977b-84fdb99b7738",
   "metadata": {},
   "outputs": [],
   "source": []
  },
  {
   "cell_type": "code",
   "execution_count": null,
   "id": "1de57a7f-fac7-4ae0-897b-b2fc4b83d18b",
   "metadata": {},
   "outputs": [],
   "source": []
  },
  {
   "cell_type": "code",
   "execution_count": null,
   "id": "3e664c04-7139-4e9b-836c-eb7e30442493",
   "metadata": {
    "tags": []
   },
   "outputs": [],
   "source": [
    "#y_vals\n",
    "#z = torch.Tensor(z_vals).to(device)"
   ]
  },
  {
   "cell_type": "code",
   "execution_count": null,
   "id": "4c7ab32d-f1c7-4914-80f4-9a98bf554c21",
   "metadata": {
    "tags": []
   },
   "outputs": [],
   "source": [
    "class LogisticRegression(torch.nn.Module):    \n",
    "    # build the constructor\n",
    "    def __init__(self, n_inputs, n_outputs):\n",
    "        super(LogisticRegression, self).__init__()\n",
    "        self.linear = torch.nn.Linear(n_inputs, n_outputs)\n",
    "    # make predictions\n",
    "    def forward(self, x):\n",
    "        y_pred = torch.sigmoid(self.linear(x))\n",
    "        return y_pred"
   ]
  },
  {
   "cell_type": "code",
   "execution_count": null,
   "id": "1b7c74cf-cb8f-4040-8487-2e614d6b0bc0",
   "metadata": {
    "tags": []
   },
   "outputs": [],
   "source": [
    "n_inputs = 10\n",
    "n_outputs = 10\n",
    "log_regr = LogisticRegression(n_inputs, n_outputs)"
   ]
  },
  {
   "cell_type": "code",
   "execution_count": null,
   "id": "93888bed-fa24-4e99-bb59-88565b637399",
   "metadata": {
    "tags": []
   },
   "outputs": [],
   "source": [
    "# defining the optimizer\n",
    "optimizer = torch.optim.SGD(log_regr.parameters(), lr=0.001)\n",
    "# defining Cross-Entropy loss\n",
    "criterion = torch.nn.CrossEntropyLoss()\n",
    " \n",
    "epochs = 50\n",
    "Loss = []\n",
    "acc = []\n",
    "for epoch in range(epochs):\n",
    "    for i, (z_vals, y_vals) in enumerate(train_loader):\n",
    "        optimizer.zero_grad()\n",
    "        outputs = log_regr(images.view(-1, 28*28))\n",
    "        loss = criterion(outputs, labels)\n",
    "        # Loss.append(loss.item())\n",
    "        loss.backward()\n",
    "        optimizer.step()\n",
    "    Loss.append(loss.item())\n",
    "    correct = 0\n",
    "    for images, labels in test_loader:\n",
    "        outputs = log_regr(images.view(-1, 28*28))\n",
    "        _, predicted = torch.max(outputs.data, 1)\n",
    "        correct += (predicted == labels).sum()\n",
    "    accuracy = 100 * (correct.item()) / len(test_dataset)\n",
    "    acc.append(accuracy)\n",
    "    print('Epoch: {}. Loss: {}. Accuracy: {}'.format(epoch, loss.item(), accuracy))"
   ]
  },
  {
   "cell_type": "code",
   "execution_count": null,
   "id": "14dc69fd-4b0d-4d6b-9798-3081f444148d",
   "metadata": {},
   "outputs": [],
   "source": []
  },
  {
   "cell_type": "code",
   "execution_count": null,
   "id": "ba81fc51-9d9e-4440-bd24-e106cf6deb74",
   "metadata": {},
   "outputs": [],
   "source": []
  },
  {
   "cell_type": "code",
   "execution_count": null,
   "id": "ea6f4107-8abe-487a-88c4-550331d81f72",
   "metadata": {
    "tags": []
   },
   "outputs": [],
   "source": [
    "len(z_vals[0]) # 469 * 128 = 60,000"
   ]
  },
  {
   "cell_type": "code",
   "execution_count": null,
   "id": "1ff3a6ce-c045-4507-9ac6-a1e6100d012d",
   "metadata": {
    "tags": []
   },
   "outputs": [],
   "source": [
    "#z_vals"
   ]
  },
  {
   "cell_type": "code",
   "execution_count": null,
   "id": "9a45afda-9a17-4181-acbd-aa15541fe7e9",
   "metadata": {
    "tags": []
   },
   "outputs": [],
   "source": [
    "#import pyro.distributions as dist\n",
    "\n",
    "class LogisticRegression(nn.Module):\n",
    "\n",
    "    def __init__(self, number_hidden_units, num_classes, encoder):\n",
    "        super(LogisticRegression, self).__init__()\n",
    "\n",
    "        self.encoder = encoder\n",
    "        self.linear = nn.Linear(number_hidden_units, num_classes, )\n",
    "\n",
    "    def forward(self, x):\n",
    "\n",
    "        z_loc, z_scale = self.encoder.forward(x)\n",
    "        z = dist.Normal(z_loc, z_scale).sample()\n",
    "\n",
    "        out = self.linear(z)\n",
    "\n",
    "        return out"
   ]
  },
  {
   "cell_type": "code",
   "execution_count": null,
   "id": "67853936-2327-4b2f-b0ec-b517aedd60d9",
   "metadata": {},
   "outputs": [],
   "source": []
  },
  {
   "cell_type": "code",
   "execution_count": null,
   "id": "8028e08d-f403-4eed-a1be-863afbfdc429",
   "metadata": {
    "tags": []
   },
   "outputs": [],
   "source": [
    "classifier = LogisticRegression(number_hidden_units=10, num_classes=10, encoder=vae.encoder)"
   ]
  },
  {
   "cell_type": "code",
   "execution_count": null,
   "id": "387dc606-5b13-4a0e-9ccc-5660a221c7bc",
   "metadata": {},
   "outputs": [],
   "source": []
  }
 ],
 "metadata": {
  "kernelspec": {
   "display_name": "Python 3 (ipykernel)",
   "language": "python",
   "name": "python3"
  },
  "language_info": {
   "codemirror_mode": {
    "name": "ipython",
    "version": 3
   },
   "file_extension": ".py",
   "mimetype": "text/x-python",
   "name": "python",
   "nbconvert_exporter": "python",
   "pygments_lexer": "ipython3",
   "version": "3.11.9"
  }
 },
 "nbformat": 4,
 "nbformat_minor": 5
}
